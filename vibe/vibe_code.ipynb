{
 "cells": [
  {
   "cell_type": "markdown",
   "metadata": {
    "cell_id": "cf1ade6ca90040698c9a9a4bc26d086c",
    "deepnote_cell_type": "text-cell-h1",
    "formattedRanges": []
   },
   "source": [
    "# Challenge"
   ]
  },
  {
   "cell_type": "markdown",
   "metadata": {
    "cell_id": "722c70a26e6d4f12a5b057f01906e370",
    "deepnote_cell_type": "text-cell-p",
    "formattedRanges": []
   },
   "source": [
    "Present and near-future observational facilities on the ground or in space have the capacity to discover and observe planets like the Earth. One key for such discovery to be possible is to know where to search and to identify stars around which such Earth twins could exist, based, for example, on the properties of other planets (easier to discover) orbiting the same star.\n",
    "Purpose"
   ]
  },
  {
   "cell_type": "markdown",
   "metadata": {
    "cell_id": "7a38e127205a44f18b50807c457d7816",
    "deepnote_cell_type": "text-cell-h2",
    "formattedRanges": []
   },
   "source": [
    "## Purpose"
   ]
  },
  {
   "cell_type": "markdown",
   "metadata": {
    "cell_id": "2be6a3dbb3bf422d996d7e6a377715d6",
    "deepnote_cell_type": "text-cell-p",
    "formattedRanges": []
   },
   "source": [
    "The goal of this challenge is to develop an AI algorithm capable of capturing correlations and statistical relationships between planets in the same planetary system. Such an algorithm should be able to generate a large number of unique synthetic planetary systems with little computational cost. These synthetic systems can be used, for example, to guide observational campaigns, as described above.\n",
    "Current Situation"
   ]
  },
  {
   "cell_type": "markdown",
   "metadata": {
    "cell_id": "07d693d81ca44c09911e54277ef87000",
    "deepnote_cell_type": "text-cell-h2",
    "formattedRanges": []
   },
   "source": [
    "## Current Situation"
   ]
  },
  {
   "cell_type": "markdown",
   "metadata": {
    "cell_id": "c33d9b3ed55440df9469afcc0f37aa10",
    "deepnote_cell_type": "text-cell-p",
    "formattedRanges": []
   },
   "source": [
    "Numerical calculations of planetary system formation are very demanding in terms of computing power. These synthetic planetary systems can, however, provide access to correlations, as predicted in a given numerical framework, between the properties of planets in the same system. Such correlations can, in return, be used to guide and prioritise observational campaigns aimed at discovering certain types of planets, such as Earth-like planets.\n",
    "Activities"
   ]
  },
  {
   "cell_type": "markdown",
   "metadata": {
    "cell_id": "951b6217c578422cb0d21eb0451256c1",
    "deepnote_cell_type": "text-cell-h2",
    "formattedRanges": []
   },
   "source": [
    "## Activities"
   ]
  },
  {
   "cell_type": "markdown",
   "metadata": {
    "cell_id": "1b2772e7f4b9460482252dc983e8f275",
    "deepnote_cell_type": "text-cell-p",
    "formattedRanges": []
   },
   "source": [
    "1. Data Analysis: Play with data composed of planets inside planetary systems generated from numerical simulations (Bern model).\n",
    "2. Model Development: Train an AI model to understand statistical correlations between planets in a planetary system and to generate more.\n",
    "3. Validation: Validate the model's accuracy using the provided (original) dataset.\n",
    "4. Generation: Use the model to generate more planetary systems that can be unique.\n",
    "5. Visualization: Create visualizations to present the findings.\n",
    "6. Reporting: Document the progress, results, and algorithms used."
   ]
  },
  {
   "cell_type": "markdown",
   "metadata": {
    "cell_id": "6e39fbdb5e634e64baa38d0b3a382ca7",
    "deepnote_cell_type": "text-cell-h2",
    "formattedRanges": []
   },
   "source": [
    "## Solve"
   ]
  },
  {
   "cell_type": "markdown",
   "metadata": {
    "cell_id": "28d5978fec9e40aa907dc963c9fa0fdf",
    "deepnote_app_block_visible": false,
    "deepnote_cell_type": "text-cell-h3",
    "formattedRanges": [],
    "is_collapsed": false
   },
   "source": [
    "### Load Data"
   ]
  },
  {
   "cell_type": "code",
   "execution_count": 1,
   "metadata": {
    "cell_id": "d014ebbab4a64514ac8d64f99eb0ec96",
    "deepnote_cell_type": "code",
    "deepnote_table_loading": false,
    "deepnote_table_state": {
     "cellFormattingRules": [],
     "columnDisplayNames": [],
     "columnOrder": [
      "system_number",
      "a",
      "total_mass",
      "r"
     ],
     "conditionalFilters": [],
     "filters": [],
     "hiddenColumnIds": [],
     "pageIndex": 6,
     "pageSize": 10,
     "sortBy": [],
     "wrappedTextColumnIds": []
    },
    "execution_context_id": "6a14e813-77e0-40cb-b29c-6d8859bb06ad",
    "execution_millis": 192,
    "execution_start": 1758271004626,
    "source_hash": "5194ba2e"
   },
   "outputs": [
    {
     "data": {
      "application/vnd.deepnote.dataframe.v3+json": {
       "column_count": 4,
       "columns": [
        {
         "dtype": "int64",
         "name": "system_number",
         "stats": {
          "categories": null,
          "histogram": [
           {
            "bin_end": 100.9,
            "bin_start": 1,
            "count": 1183
           },
           {
            "bin_end": 200.8,
            "bin_start": 100.9,
            "count": 1249
           },
           {
            "bin_end": 300.70000000000005,
            "bin_start": 200.8,
            "count": 1210
           },
           {
            "bin_end": 400.6,
            "bin_start": 300.70000000000005,
            "count": 1236
           },
           {
            "bin_end": 500.5,
            "bin_start": 400.6,
            "count": 1258
           },
           {
            "bin_end": 600.4000000000001,
            "bin_start": 500.5,
            "count": 1154
           },
           {
            "bin_end": 700.3000000000001,
            "bin_start": 600.4000000000001,
            "count": 1287
           },
           {
            "bin_end": 800.2,
            "bin_start": 700.3000000000001,
            "count": 1242
           },
           {
            "bin_end": 900.1,
            "bin_start": 800.2,
            "count": 1224
           },
           {
            "bin_end": 1000,
            "bin_start": 900.1,
            "count": 1268
           }
          ],
          "max": "1000",
          "min": "1",
          "nan_count": 0,
          "unique_count": 994
         }
        },
        {
         "dtype": "float64",
         "name": "a",
         "stats": {
          "categories": null,
          "histogram": [
           {
            "bin_end": 64.35428643329068,
            "bin_start": 0.0178722399327249,
            "count": 12264
           },
           {
            "bin_end": 128.69070062664863,
            "bin_start": 64.35428643329068,
            "count": 28
           },
           {
            "bin_end": 193.0271148200066,
            "bin_start": 128.69070062664863,
            "count": 8
           },
           {
            "bin_end": 257.36352901336454,
            "bin_start": 193.0271148200066,
            "count": 7
           },
           {
            "bin_end": 321.6999432067225,
            "bin_start": 257.36352901336454,
            "count": 1
           },
           {
            "bin_end": 386.0363574000805,
            "bin_start": 321.6999432067225,
            "count": 1
           },
           {
            "bin_end": 450.3727715934384,
            "bin_start": 386.0363574000805,
            "count": 0
           },
           {
            "bin_end": 514.7091857867963,
            "bin_start": 450.3727715934384,
            "count": 0
           },
           {
            "bin_end": 579.0455999801543,
            "bin_start": 514.7091857867963,
            "count": 1
           },
           {
            "bin_end": 643.3820141735122,
            "bin_start": 579.0455999801543,
            "count": 1
           }
          ],
          "max": "643.3820141735122",
          "min": "0.0178722399327249",
          "nan_count": 0,
          "unique_count": 12308
         }
        },
        {
         "dtype": "float64",
         "name": "total_mass",
         "stats": {
          "categories": null,
          "histogram": [
           {
            "bin_end": 1901.8156630452875,
            "bin_start": 0.0620007033084408,
            "count": 12218
           },
           {
            "bin_end": 3803.5693253872664,
            "bin_start": 1901.8156630452875,
            "count": 48
           },
           {
            "bin_end": 5705.322987729245,
            "bin_start": 3803.5693253872664,
            "count": 24
           },
           {
            "bin_end": 7607.076650071224,
            "bin_start": 5705.322987729245,
            "count": 7
           },
           {
            "bin_end": 9508.830312413204,
            "bin_start": 7607.076650071224,
            "count": 7
           },
           {
            "bin_end": 11410.583974755182,
            "bin_start": 9508.830312413204,
            "count": 5
           },
           {
            "bin_end": 13312.337637097162,
            "bin_start": 11410.583974755182,
            "count": 0
           },
           {
            "bin_end": 15214.09129943914,
            "bin_start": 13312.337637097162,
            "count": 0
           },
           {
            "bin_end": 17115.844961781117,
            "bin_start": 15214.09129943914,
            "count": 1
           },
           {
            "bin_end": 19017.598624123097,
            "bin_start": 17115.844961781117,
            "count": 1
           }
          ],
          "max": "19017.598624123097",
          "min": "0.0620007033084408",
          "nan_count": 0,
          "unique_count": 12310
         }
        },
        {
         "dtype": "float64",
         "name": "r",
         "stats": {
          "categories": null,
          "histogram": [
           {
            "bin_end": 2.3180190822744895,
            "bin_start": 0.4851773103770159,
            "count": 8124
           },
           {
            "bin_end": 4.150860854171963,
            "bin_start": 2.3180190822744895,
            "count": 2308
           },
           {
            "bin_end": 5.983702626069436,
            "bin_start": 4.150860854171963,
            "count": 615
           },
           {
            "bin_end": 7.81654439796691,
            "bin_start": 5.983702626069436,
            "count": 458
           },
           {
            "bin_end": 9.649386169864384,
            "bin_start": 7.81654439796691,
            "count": 227
           },
           {
            "bin_end": 11.482227941761858,
            "bin_start": 9.649386169864384,
            "count": 151
           },
           {
            "bin_end": 13.31506971365933,
            "bin_start": 11.482227941761858,
            "count": 193
           },
           {
            "bin_end": 15.147911485556804,
            "bin_start": 13.31506971365933,
            "count": 221
           },
           {
            "bin_end": 16.980753257454275,
            "bin_start": 15.147911485556804,
            "count": 8
           },
           {
            "bin_end": 18.81359502935175,
            "bin_start": 16.980753257454275,
            "count": 6
           }
          ],
          "max": "18.81359502935175",
          "min": "0.4851773103770159",
          "nan_count": 0,
          "unique_count": 12311
         }
        },
        {
         "dtype": "int64",
         "name": "_deepnote_index_column"
        }
       ],
       "preview_row_count": 12311,
       "row_count": 12311,
       "rows": [
        {
         "_deepnote_index_column": 60,
         "a": 8.105599528121177,
         "r": 1.1561151873489246,
         "system_number": 6,
         "total_mass": 0.6906360424983029
        },
        {
         "_deepnote_index_column": 61,
         "a": 2.3853952076262632,
         "r": 2.7770825577271983,
         "system_number": 6,
         "total_mass": 5.463430670287395
        },
        {
         "_deepnote_index_column": 62,
         "a": 1.1537760183288848,
         "r": 3.046048905051004,
         "system_number": 6,
         "total_mass": 6.759192929169495
        },
        {
         "_deepnote_index_column": 63,
         "a": 0.2112203503379693,
         "r": 1.4219057457981463,
         "system_number": 6,
         "total_mass": 3.528646936410953
        },
        {
         "_deepnote_index_column": 64,
         "a": 11.293939794240655,
         "r": 1.111961375794688,
         "system_number": 6,
         "total_mass": 0.4377513987780041
        },
        {
         "_deepnote_index_column": 65,
         "a": 9.664086169915256,
         "r": 1.725972297391296,
         "system_number": 6,
         "total_mass": 0.9733172375198008
        },
        {
         "_deepnote_index_column": 66,
         "a": 5.376538101027324,
         "r": 1.5012653444545527,
         "system_number": 6,
         "total_mass": 0.7097709316587463
        },
        {
         "_deepnote_index_column": 67,
         "a": 22.363908696491503,
         "r": 0.7981768720922923,
         "system_number": 7,
         "total_mass": 0.1843735534736365
        },
        {
         "_deepnote_index_column": 68,
         "a": 3.0558326723345552,
         "r": 3.630429742257102,
         "system_number": 7,
         "total_mass": 9.725744094591535
        },
        {
         "_deepnote_index_column": 69,
         "a": 31.487816825925385,
         "r": 0.6417851540128614,
         "system_number": 7,
         "total_mass": 0.1032154619144603
        }
       ],
       "type": "dataframe"
      },
      "text/html": [
       "<div>\n",
       "<style scoped>\n",
       "    .dataframe tbody tr th:only-of-type {\n",
       "        vertical-align: middle;\n",
       "    }\n",
       "\n",
       "    .dataframe tbody tr th {\n",
       "        vertical-align: top;\n",
       "    }\n",
       "\n",
       "    .dataframe thead th {\n",
       "        text-align: right;\n",
       "    }\n",
       "</style>\n",
       "<table border=\"1\" class=\"dataframe\">\n",
       "  <thead>\n",
       "    <tr style=\"text-align: right;\">\n",
       "      <th></th>\n",
       "      <th>system_number</th>\n",
       "      <th>a</th>\n",
       "      <th>total_mass</th>\n",
       "      <th>r</th>\n",
       "    </tr>\n",
       "  </thead>\n",
       "  <tbody>\n",
       "    <tr>\n",
       "      <th>0</th>\n",
       "      <td>1</td>\n",
       "      <td>0.922060</td>\n",
       "      <td>1.845780</td>\n",
       "      <td>10.138465</td>\n",
       "    </tr>\n",
       "    <tr>\n",
       "      <th>1</th>\n",
       "      <td>1</td>\n",
       "      <td>6.394738</td>\n",
       "      <td>2.813472</td>\n",
       "      <td>4.433379</td>\n",
       "    </tr>\n",
       "    <tr>\n",
       "      <th>2</th>\n",
       "      <td>1</td>\n",
       "      <td>0.187501</td>\n",
       "      <td>0.106468</td>\n",
       "      <td>0.492372</td>\n",
       "    </tr>\n",
       "    <tr>\n",
       "      <th>3</th>\n",
       "      <td>1</td>\n",
       "      <td>0.822920</td>\n",
       "      <td>1.788968</td>\n",
       "      <td>11.309450</td>\n",
       "    </tr>\n",
       "    <tr>\n",
       "      <th>4</th>\n",
       "      <td>1</td>\n",
       "      <td>3.074074</td>\n",
       "      <td>0.272204</td>\n",
       "      <td>5.370356</td>\n",
       "    </tr>\n",
       "    <tr>\n",
       "      <th>...</th>\n",
       "      <td>...</td>\n",
       "      <td>...</td>\n",
       "      <td>...</td>\n",
       "      <td>...</td>\n",
       "    </tr>\n",
       "    <tr>\n",
       "      <th>12306</th>\n",
       "      <td>1000</td>\n",
       "      <td>2.170678</td>\n",
       "      <td>0.199985</td>\n",
       "      <td>0.770126</td>\n",
       "    </tr>\n",
       "    <tr>\n",
       "      <th>12307</th>\n",
       "      <td>1000</td>\n",
       "      <td>0.164692</td>\n",
       "      <td>0.562657</td>\n",
       "      <td>0.817523</td>\n",
       "    </tr>\n",
       "    <tr>\n",
       "      <th>12308</th>\n",
       "      <td>1000</td>\n",
       "      <td>6.184137</td>\n",
       "      <td>0.101117</td>\n",
       "      <td>0.633028</td>\n",
       "    </tr>\n",
       "    <tr>\n",
       "      <th>12309</th>\n",
       "      <td>1000</td>\n",
       "      <td>6.177185</td>\n",
       "      <td>0.172572</td>\n",
       "      <td>0.737238</td>\n",
       "    </tr>\n",
       "    <tr>\n",
       "      <th>12310</th>\n",
       "      <td>1000</td>\n",
       "      <td>1.776184</td>\n",
       "      <td>0.832826</td>\n",
       "      <td>1.882790</td>\n",
       "    </tr>\n",
       "  </tbody>\n",
       "</table>\n",
       "<p>12311 rows × 4 columns</p>\n",
       "</div>"
      ],
      "text/plain": [
       "       system_number         a  total_mass          r\n",
       "0                  1  0.922060    1.845780  10.138465\n",
       "1                  1  6.394738    2.813472   4.433379\n",
       "2                  1  0.187501    0.106468   0.492372\n",
       "3                  1  0.822920    1.788968  11.309450\n",
       "4                  1  3.074074    0.272204   5.370356\n",
       "...              ...       ...         ...        ...\n",
       "12306           1000  2.170678    0.199985   0.770126\n",
       "12307           1000  0.164692    0.562657   0.817523\n",
       "12308           1000  6.184137    0.101117   0.633028\n",
       "12309           1000  6.177185    0.172572   0.737238\n",
       "12310           1000  1.776184    0.832826   1.882790\n",
       "\n",
       "[12311 rows x 4 columns]"
      ]
     },
     "execution_count": 1,
     "metadata": {},
     "output_type": "execute_result"
    }
   ],
   "source": [
    "import pandas as pd\n",
    "\n",
    "# Load the harder dataset to understand its structure\n",
    "harder_data = pd.read_csv('Harder Dataset.csv')\n",
    "harder_data"
   ]
  },
  {
   "cell_type": "markdown",
   "metadata": {
    "cell_id": "4998d31700f24a1398328bfc0af071b8",
    "deepnote_app_block_visible": false,
    "deepnote_cell_type": "text-cell-h3",
    "formattedRanges": [],
    "is_collapsed": false
   },
   "source": [
    "### Description of the Dataset"
   ]
  },
  {
   "cell_type": "markdown",
   "metadata": {
    "cell_id": "b0d025f14e64460ab429d9d510199c22",
    "deepnote_cell_type": "text-cell-bullet",
    "formattedRanges": []
   },
   "source": [
    "- `system_number`: which system a planet is part of"
   ]
  },
  {
   "cell_type": "markdown",
   "metadata": {
    "cell_id": "cd1a1e6bbf2749219bfc626dc9834840",
    "deepnote_cell_type": "text-cell-bullet",
    "formattedRanges": []
   },
   "source": [
    "-  `a`: represents semi-major axis (in AU)"
   ]
  },
  {
   "cell_type": "markdown",
   "metadata": {
    "cell_id": "f458221f196d421c8341894116e93b0e",
    "deepnote_cell_type": "text-cell-bullet",
    "formattedRanges": []
   },
   "source": [
    "- `total_mass`: mass of planet (in earth masses)"
   ]
  },
  {
   "cell_type": "markdown",
   "metadata": {
    "cell_id": "7c8080744dd24cb3be2f6743ef63d45f",
    "deepnote_cell_type": "text-cell-bullet",
    "formattedRanges": []
   },
   "source": [
    "- `r`: radius of planet (in earth radii). So we need to generate new systems."
   ]
  },
  {
   "cell_type": "markdown",
   "metadata": {
    "cell_id": "25c8dd5cccac458cb56be4ab6718108d",
    "deepnote_cell_type": "text-cell-h2",
    "formattedRanges": []
   },
   "source": [
    "## Exploration"
   ]
  },
  {
   "cell_type": "markdown",
   "metadata": {
    "cell_id": "9084db98155e4fbaacca4bc642295a1e",
    "deepnote_cell_type": "text-cell-h3",
    "formattedRanges": []
   },
   "source": [
    "### Planets per System"
   ]
  },
  {
   "cell_type": "code",
   "execution_count": 2,
   "metadata": {
    "cell_id": "fe3378f6c94a4ae295ea4caff0bb7846",
    "deepnote_cell_type": "code",
    "execution_context_id": "6a14e813-77e0-40cb-b29c-6d8859bb06ad",
    "execution_millis": 1231,
    "execution_start": 1758271004865,
    "source_hash": "31a2ed1c"
   },
   "outputs": [
    {
     "data": {
      "image/png": "[encoded data removed]",
      "text/plain": [
       "<Figure size 640x480 with 1 Axes>"
      ]
     },
     "metadata": {
      "image/png": {
       "height": 455,
       "width": 576
      }
     },
     "output_type": "display_data"
    },
    {
     "data": {
      "image/png": "[encoded data removed]",
      "text/plain": [
       "<Figure size 640x480 with 1 Axes>"
      ]
     },
     "metadata": {
      "image/png": {
       "height": 455,
       "width": 576
      }
     },
     "output_type": "display_data"
    },
    {
     "name": "stdout",
     "output_type": "stream",
     "text": [
      "Fitted parameters for Negative Binomial: [25.68236642  0.66766726]\n"
     ]
    }
   ],
   "source": [
    "# The issue arises because the curve_fit function is unable to converge to optimal parameters within the maximum number of function evaluations (maxfev).\n",
    "# This is likely due to the size and complexity of the dataset, which makes the optimization problem more challenging.\n",
    "# Specifically, the empirical PMF derived from the larger dataset may have more variability, making it harder to fit the Negative Binomial distribution.\n",
    "\n",
    "# To address this, we can:\n",
    "# 1. Increase the maxfev parameter further to allow more iterations for convergence.\n",
    "# 2. Provide better initial guesses for the parameters (p0) to help the optimization algorithm.\n",
    "# 3. Use a different optimization method or library if curve_fit continues to struggle.\n",
    "\n",
    "# Let's modify the code to implement these changes.\n",
    "\n",
    "import numpy as np\n",
    "import matplotlib.pyplot as plt\n",
    "from scipy.stats import poisson, nbinom\n",
    "from scipy.optimize import curve_fit\n",
    "\n",
    "# Generate system-level statistics from the harder_data DataFrame\n",
    "harder_system_stats = harder_data.groupby('system_number').size().reset_index(name='planet_count')\n",
    "\n",
    "# System-level counts\n",
    "# N_systems and N_planets_per_system\n",
    "N_systems = harder_system_stats['system_number'].nunique()\n",
    "N_planets_per_system = harder_system_stats['planet_count']\n",
    "\n",
    "# Histogram of N_planets_per_system\n",
    "plt.hist(N_planets_per_system, bins=20, density=True, alpha=0.6, color='g', label='Histogram')\n",
    "\n",
    "# Empirical PMF\n",
    "unique_counts, counts = np.unique(N_planets_per_system, return_counts=True)\n",
    "empirical_pmf = counts / counts.sum()\n",
    "plt.scatter(unique_counts, empirical_pmf, color='red', label='Empirical PMF')\n",
    "\n",
    "plt.xlabel('Number of Planets per System')\n",
    "plt.ylabel('Probability')\n",
    "plt.title('Histogram and Empirical PMF of N_planets_per_system')\n",
    "plt.legend()\n",
    "plt.show()\n",
    "\n",
    "# Fit a zero-truncated Poisson distribution\n",
    "mean_planets = N_planets_per_system.mean()\n",
    "poisson_pmf = poisson.pmf(unique_counts, mean_planets)\n",
    "poisson_pmf = poisson_pmf / poisson_pmf.sum()  # Normalize for zero-truncation\n",
    "\n",
    "# Define a function for the Negative Binomial PMF\n",
    "def negative_binomial_pmf(k, r, p):\n",
    "    return nbinom.pmf(k, r, p)\n",
    "\n",
    "# Fit a Negative Binomial distribution using curve_fit\n",
    "# Increase maxfev further and provide better initial guesses\n",
    "try:\n",
    "    params, _ = curve_fit(\n",
    "        lambda k, r, p: negative_binomial_pmf(k, r, p),\n",
    "        unique_counts,\n",
    "        empirical_pmf,\n",
    "        p0=[2, 0.5],  # Adjusted initial guesses\n",
    "        maxfev=5000  # Increased maxfev\n",
    "    )\n",
    "    nbinom_pmf = negative_binomial_pmf(unique_counts, *params)\n",
    "\n",
    "    # Plot fitted distributions\n",
    "    plt.scatter(unique_counts, empirical_pmf, color='red', label='Empirical PMF')\n",
    "    plt.plot(unique_counts, poisson_pmf, label='Zero-Truncated Poisson', color='blue')\n",
    "    plt.plot(unique_counts, nbinom_pmf, label='Negative Binomial', color='green')\n",
    "\n",
    "    plt.xlabel('Number of Planets per System')\n",
    "    plt.ylabel('Probability')\n",
    "    plt.title('Fitted Distributions to N_planets_per_system')\n",
    "    plt.legend()\n",
    "    plt.show()\n",
    "\n",
    "    print(\"Fitted parameters for Negative Binomial:\", params)\n",
    "\n",
    "except RuntimeError as e:\n",
    "    print(\"Error during curve fitting:\", e)"
   ]
  },
  {
   "cell_type": "markdown",
   "metadata": {
    "cell_id": "5d6a51c1c5504eccb86d735423a6055a",
    "deepnote_cell_type": "text-cell-h3",
    "formattedRanges": []
   },
   "source": [
    "### Planet Level Marginals"
   ]
  },
  {
   "cell_type": "code",
   "execution_count": 3,
   "metadata": {
    "cell_id": "c9885c479f654055b534ceb4afe4aee8",
    "deepnote_cell_type": "code",
    "execution_context_id": "6a14e813-77e0-40cb-b29c-6d8859bb06ad",
    "execution_millis": 1683,
    "execution_start": 1758271006165,
    "source_hash": "645b9979"
   },
   "outputs": [
    {
     "data": {
      "image/png": "[encoded data removed]",
      "text/plain": [
       "<Figure size 1500x1500 with 9 Axes>"
      ]
     },
     "metadata": {
      "image/png": {
       "height": 1490,
       "width": 1489
      }
     },
     "output_type": "display_data"
    },
    {
     "data": {
      "application/vnd.deepnote.dataframe.v3+json": {
       "column_count": 3,
       "columns": [
        {
         "dtype": "float64",
         "name": "loga",
         "stats": {
          "categories": null,
          "histogram": [
           {
            "bin_end": 1229.5269610875469,
            "bin_start": -1.747821013836848,
            "count": 7
           },
           {
            "bin_end": 2460.8017431889302,
            "bin_start": 1229.5269610875469,
            "count": 0
           },
           {
            "bin_end": 3692.076525290314,
            "bin_start": 2460.8017431889302,
            "count": 0
           },
           {
            "bin_end": 4923.351307391697,
            "bin_start": 3692.076525290314,
            "count": 0
           },
           {
            "bin_end": 6154.626089493081,
            "bin_start": 4923.351307391697,
            "count": 0
           },
           {
            "bin_end": 7385.900871594465,
            "bin_start": 6154.626089493081,
            "count": 0
           },
           {
            "bin_end": 8617.17565369585,
            "bin_start": 7385.900871594465,
            "count": 0
           },
           {
            "bin_end": 9848.450435797233,
            "bin_start": 8617.17565369585,
            "count": 0
           },
           {
            "bin_end": 11079.725217898616,
            "bin_start": 9848.450435797233,
            "count": 0
           },
           {
            "bin_end": 12311,
            "bin_start": 11079.725217898616,
            "count": 1
           }
          ],
          "max": "12311.0",
          "min": "-1.747821013836848",
          "nan_count": 0,
          "unique_count": 8
         }
        },
        {
         "dtype": "float64",
         "name": "logm",
         "stats": {
          "categories": null,
          "histogram": [
           {
            "bin_end": 1230.0131569543728,
            "bin_start": -1.2076033840300928,
            "count": 7
           },
           {
            "bin_end": 2461.233917292776,
            "bin_start": 1230.0131569543728,
            "count": 0
           },
           {
            "bin_end": 3692.4546776311786,
            "bin_start": 2461.233917292776,
            "count": 0
           },
           {
            "bin_end": 4923.675437969581,
            "bin_start": 3692.4546776311786,
            "count": 0
           },
           {
            "bin_end": 6154.896198307984,
            "bin_start": 4923.675437969581,
            "count": 0
           },
           {
            "bin_end": 7386.116958646387,
            "bin_start": 6154.896198307984,
            "count": 0
           },
           {
            "bin_end": 8617.33771898479,
            "bin_start": 7386.116958646387,
            "count": 0
           },
           {
            "bin_end": 9848.558479323194,
            "bin_start": 8617.33771898479,
            "count": 0
           },
           {
            "bin_end": 11079.779239661597,
            "bin_start": 9848.558479323194,
            "count": 0
           },
           {
            "bin_end": 12311,
            "bin_start": 11079.779239661597,
            "count": 1
           }
          ],
          "max": "12311.0",
          "min": "-1.2076033840300928",
          "nan_count": 0,
          "unique_count": 8
         }
        },
        {
         "dtype": "float64",
         "name": "logr",
         "stats": {
          "categories": null,
          "histogram": [
           {
            "bin_end": 1230.8173104343525,
            "bin_start": -0.3140995173859853,
            "count": 7
           },
           {
            "bin_end": 2461.9487203860913,
            "bin_start": 1230.8173104343525,
            "count": 0
           },
           {
            "bin_end": 3693.08013033783,
            "bin_start": 2461.9487203860913,
            "count": 0
           },
           {
            "bin_end": 4924.211540289568,
            "bin_start": 3693.08013033783,
            "count": 0
           },
           {
            "bin_end": 6155.342950241306,
            "bin_start": 4924.211540289568,
            "count": 0
           },
           {
            "bin_end": 7386.474360193045,
            "bin_start": 6155.342950241306,
            "count": 0
           },
           {
            "bin_end": 8617.605770144784,
            "bin_start": 7386.474360193045,
            "count": 0
           },
           {
            "bin_end": 9848.737180096523,
            "bin_start": 8617.605770144784,
            "count": 0
           },
           {
            "bin_end": 11079.868590048261,
            "bin_start": 9848.737180096523,
            "count": 0
           },
           {
            "bin_end": 12311,
            "bin_start": 11079.868590048261,
            "count": 1
           }
          ],
          "max": "12311.0",
          "min": "-0.3140995173859853",
          "nan_count": 0,
          "unique_count": 8
         }
        },
        {
         "dtype": "object",
         "name": "_deepnote_index_column"
        }
       ],
       "preview_row_count": 8,
       "row_count": 8,
       "rows": [
        {
         "_deepnote_index_column": "count",
         "loga": 12311,
         "logm": 12311,
         "logr": 12311
        },
        {
         "_deepnote_index_column": "mean",
         "loga": 0.47690233135927734,
         "logm": 0.08494622247932448,
         "logr": 0.2882255776043689
        },
        {
         "_deepnote_index_column": "std",
         "loga": 0.8188704073074672,
         "logm": 0.7763750728899085,
         "logr": 0.3254951385977907
        },
        {
         "_deepnote_index_column": "min",
         "loga": -1.747821013836848,
         "logm": -1.2076033840300928,
         "logr": -0.3140995173859853
        },
        {
         "_deepnote_index_column": "25%",
         "loga": -0.08984102852341523,
         "logm": -0.5484372595311108,
         "logr": 0.044505068723573904
        },
        {
         "_deepnote_index_column": "50%",
         "loga": 0.7287569751725749,
         "logm": 0.07178373077482965,
         "logr": 0.247393154201682
        },
        {
         "_deepnote_index_column": "75%",
         "loga": 1.1322741212869403,
         "logm": 0.5464051751018681,
         "logr": 0.45000947029595945
        },
        {
         "_deepnote_index_column": "max",
         "loga": 2.808468915977863,
         "logm": 4.27915567715797,
         "logr": 1.2744717914157808
        }
       ],
       "type": "dataframe"
      },
      "text/html": [
       "<div>\n",
       "<style scoped>\n",
       "    .dataframe tbody tr th:only-of-type {\n",
       "        vertical-align: middle;\n",
       "    }\n",
       "\n",
       "    .dataframe tbody tr th {\n",
       "        vertical-align: top;\n",
       "    }\n",
       "\n",
       "    .dataframe thead th {\n",
       "        text-align: right;\n",
       "    }\n",
       "</style>\n",
       "<table border=\"1\" class=\"dataframe\">\n",
       "  <thead>\n",
       "    <tr style=\"text-align: right;\">\n",
       "      <th></th>\n",
       "      <th>loga</th>\n",
       "      <th>logm</th>\n",
       "      <th>logr</th>\n",
       "    </tr>\n",
       "  </thead>\n",
       "  <tbody>\n",
       "    <tr>\n",
       "      <th>count</th>\n",
       "      <td>12311.000000</td>\n",
       "      <td>12311.000000</td>\n",
       "      <td>12311.000000</td>\n",
       "    </tr>\n",
       "    <tr>\n",
       "      <th>mean</th>\n",
       "      <td>0.476902</td>\n",
       "      <td>0.084946</td>\n",
       "      <td>0.288226</td>\n",
       "    </tr>\n",
       "    <tr>\n",
       "      <th>std</th>\n",
       "      <td>0.818870</td>\n",
       "      <td>0.776375</td>\n",
       "      <td>0.325495</td>\n",
       "    </tr>\n",
       "    <tr>\n",
       "      <th>min</th>\n",
       "      <td>-1.747821</td>\n",
       "      <td>-1.207603</td>\n",
       "      <td>-0.314100</td>\n",
       "    </tr>\n",
       "    <tr>\n",
       "      <th>25%</th>\n",
       "      <td>-0.089841</td>\n",
       "      <td>-0.548437</td>\n",
       "      <td>0.044505</td>\n",
       "    </tr>\n",
       "    <tr>\n",
       "      <th>50%</th>\n",
       "      <td>0.728757</td>\n",
       "      <td>0.071784</td>\n",
       "      <td>0.247393</td>\n",
       "    </tr>\n",
       "    <tr>\n",
       "      <th>75%</th>\n",
       "      <td>1.132274</td>\n",
       "      <td>0.546405</td>\n",
       "      <td>0.450009</td>\n",
       "    </tr>\n",
       "    <tr>\n",
       "      <th>max</th>\n",
       "      <td>2.808469</td>\n",
       "      <td>4.279156</td>\n",
       "      <td>1.274472</td>\n",
       "    </tr>\n",
       "  </tbody>\n",
       "</table>\n",
       "</div>"
      ],
      "text/plain": [
       "               loga          logm          logr\n",
       "count  12311.000000  12311.000000  12311.000000\n",
       "mean       0.476902      0.084946      0.288226\n",
       "std        0.818870      0.776375      0.325495\n",
       "min       -1.747821     -1.207603     -0.314100\n",
       "25%       -0.089841     -0.548437      0.044505\n",
       "50%        0.728757      0.071784      0.247393\n",
       "75%        1.132274      0.546405      0.450009\n",
       "max        2.808469      4.279156      1.274472"
      ]
     },
     "execution_count": 3,
     "metadata": {},
     "output_type": "execute_result"
    }
   ],
   "source": [
    "import seaborn as sns\n",
    "\n",
    "# Transform to logs\n",
    "harder_data['loga'] = np.log10(harder_data['a'])\n",
    "harder_data['logm'] = np.log10(harder_data['total_mass'])\n",
    "harder_data['logr'] = np.log10(harder_data['r'])\n",
    "\n",
    "# Plot histograms, KDEs, and empirical CDFs for loga, logm, logr\n",
    "fig, axes = plt.subplots(3, 3, figsize=(15, 15))\n",
    "\n",
    "# loga\n",
    "sns.histplot(harder_data['loga'], kde=False, ax=axes[0, 0], color='blue')\n",
    "axes[0, 0].set_title('Histogram of loga')\n",
    "sns.kdeplot(harder_data['loga'], ax=axes[0, 1], color='blue')\n",
    "axes[0, 1].set_title('KDE of loga')\n",
    "sns.ecdfplot(harder_data['loga'], ax=axes[0, 2], color='blue')\n",
    "axes[0, 2].set_title('Empirical CDF of loga')\n",
    "\n",
    "# logm\n",
    "sns.histplot(harder_data['logm'], kde=False, ax=axes[1, 0], color='green')\n",
    "axes[1, 0].set_title('Histogram of logm')\n",
    "sns.kdeplot(harder_data['logm'], ax=axes[1, 1], color='green')\n",
    "axes[1, 1].set_title('KDE of logm')\n",
    "sns.ecdfplot(harder_data['logm'], ax=axes[1, 2], color='green')\n",
    "axes[1, 2].set_title('Empirical CDF of logm')\n",
    "\n",
    "# logr\n",
    "sns.histplot(harder_data['logr'], kde=False, ax=axes[2, 0], color='red')\n",
    "axes[2, 0].set_title('Histogram of logr')\n",
    "sns.kdeplot(harder_data['logr'], ax=axes[2, 1], color='red')\n",
    "axes[2, 1].set_title('KDE of logr')\n",
    "sns.ecdfplot(harder_data['logr'], ax=axes[2, 2], color='red')\n",
    "axes[2, 2].set_title('Empirical CDF of logr')\n",
    "\n",
    "plt.tight_layout()\n",
    "plt.show()\n",
    "\n",
    "harder_data[['loga', 'logm', 'logr']].describe()"
   ]
  },
  {
   "cell_type": "markdown",
   "metadata": {
    "cell_id": "20fbfaa232b9497b9cc6da3f6c052034",
    "deepnote_cell_type": "text-cell-h3",
    "formattedRanges": []
   },
   "source": [
    "### Intra-System Structure"
   ]
  },
  {
   "cell_type": "code",
   "execution_count": 4,
   "metadata": {
    "cell_id": "21f97d69cd9f4210944702fbc19c9ddf",
    "deepnote_cell_type": "code",
    "execution_context_id": "6a14e813-77e0-40cb-b29c-6d8859bb06ad",
    "execution_millis": 8394,
    "execution_start": 1758271007895,
    "source_hash": "159d9574"
   },
   "outputs": [
    {
     "data": {
      "image/png": "[encoded data removed]",
      "text/plain": [
       "<Figure size 640x480 with 1 Axes>"
      ]
     },
     "metadata": {
      "image/png": {
       "height": 455,
       "width": 580
      }
     },
     "output_type": "display_data"
    },
    {
     "data": {
      "image/png": "[encoded data removed]",
      "text/plain": [
       "<Figure size 640x480 with 1 Axes>"
      ]
     },
     "metadata": {
      "image/png": {
       "height": 455,
       "width": 580
      }
     },
     "output_type": "display_data"
    },
    {
     "data": {
      "application/vnd.deepnote.dataframe.v3+json": {
       "column_count": 2,
       "columns": [
        {
         "dtype": "float64",
         "name": "delta_loga",
         "stats": {
          "categories": null,
          "histogram": [
           {
            "bin_end": 1131.7000070317815,
            "bin_start": 0.000007813090692865288,
            "count": 7
           },
           {
            "bin_end": 2263.4000062504724,
            "bin_start": 1131.7000070317815,
            "count": 0
           },
           {
            "bin_end": 3395.100005469163,
            "bin_start": 2263.4000062504724,
            "count": 0
           },
           {
            "bin_end": 4526.800004687854,
            "bin_start": 3395.100005469163,
            "count": 0
           },
           {
            "bin_end": 5658.500003906545,
            "bin_start": 4526.800004687854,
            "count": 0
           },
           {
            "bin_end": 6790.2000031252355,
            "bin_start": 5658.500003906545,
            "count": 0
           },
           {
            "bin_end": 7921.900002343927,
            "bin_start": 6790.2000031252355,
            "count": 0
           },
           {
            "bin_end": 9053.600001562618,
            "bin_start": 7921.900002343927,
            "count": 0
           },
           {
            "bin_end": 10185.300000781308,
            "bin_start": 9053.600001562618,
            "count": 0
           },
           {
            "bin_end": 11317,
            "bin_start": 10185.300000781308,
            "count": 1
           }
          ],
          "max": "11317.0",
          "min": "7.813090692865288e-06",
          "nan_count": 0,
          "unique_count": 8
         }
        },
        {
         "dtype": "float64",
         "name": "loga_rel",
         "stats": {
          "categories": null,
          "histogram": [
           {
            "bin_end": 1229.5,
            "bin_start": 0,
            "count": 7
           },
           {
            "bin_end": 2459,
            "bin_start": 1229.5,
            "count": 0
           },
           {
            "bin_end": 3688.5,
            "bin_start": 2459,
            "count": 0
           },
           {
            "bin_end": 4918,
            "bin_start": 3688.5,
            "count": 0
           },
           {
            "bin_end": 6147.5,
            "bin_start": 4918,
            "count": 0
           },
           {
            "bin_end": 7377,
            "bin_start": 6147.5,
            "count": 0
           },
           {
            "bin_end": 8606.5,
            "bin_start": 7377,
            "count": 0
           },
           {
            "bin_end": 9836,
            "bin_start": 8606.5,
            "count": 0
           },
           {
            "bin_end": 11065.5,
            "bin_start": 9836,
            "count": 0
           },
           {
            "bin_end": 12295,
            "bin_start": 11065.5,
            "count": 1
           }
          ],
          "max": "12295.0",
          "min": "0.0",
          "nan_count": 0,
          "unique_count": 8
         }
        },
        {
         "dtype": "object",
         "name": "_deepnote_index_column"
        }
       ],
       "preview_row_count": 8,
       "row_count": 8,
       "rows": [
        {
         "_deepnote_index_column": "count",
         "delta_loga": 11317,
         "loga_rel": 12295
        },
        {
         "_deepnote_index_column": "mean",
         "delta_loga": 0.19246410823471244,
         "loga_rel": 0.6439277383254383
        },
        {
         "_deepnote_index_column": "std",
         "delta_loga": 0.2059553676149039,
         "loga_rel": 0.3232952431944544
        },
        {
         "_deepnote_index_column": "min",
         "delta_loga": 0.000007813090692865288,
         "loga_rel": 0
        },
        {
         "_deepnote_index_column": "25%",
         "delta_loga": 0.05384588511689875,
         "loga_rel": 0.41168641037161463
        },
        {
         "_deepnote_index_column": "50%",
         "delta_loga": 0.13152831596294423,
         "loga_rel": 0.7500159770658523
        },
        {
         "_deepnote_index_column": "75%",
         "delta_loga": 0.2537785460769549,
         "loga_rel": 0.922723257900196
        },
        {
         "_deepnote_index_column": "max",
         "delta_loga": 1.9889845844317762,
         "loga_rel": 1
        }
       ],
       "type": "dataframe"
      },
      "text/html": [
       "<div>\n",
       "<style scoped>\n",
       "    .dataframe tbody tr th:only-of-type {\n",
       "        vertical-align: middle;\n",
       "    }\n",
       "\n",
       "    .dataframe tbody tr th {\n",
       "        vertical-align: top;\n",
       "    }\n",
       "\n",
       "    .dataframe thead th {\n",
       "        text-align: right;\n",
       "    }\n",
       "</style>\n",
       "<table border=\"1\" class=\"dataframe\">\n",
       "  <thead>\n",
       "    <tr style=\"text-align: right;\">\n",
       "      <th></th>\n",
       "      <th>delta_loga</th>\n",
       "      <th>loga_rel</th>\n",
       "    </tr>\n",
       "  </thead>\n",
       "  <tbody>\n",
       "    <tr>\n",
       "      <th>count</th>\n",
       "      <td>11317.000000</td>\n",
       "      <td>12295.000000</td>\n",
       "    </tr>\n",
       "    <tr>\n",
       "      <th>mean</th>\n",
       "      <td>0.192464</td>\n",
       "      <td>0.643928</td>\n",
       "    </tr>\n",
       "    <tr>\n",
       "      <th>std</th>\n",
       "      <td>0.205955</td>\n",
       "      <td>0.323295</td>\n",
       "    </tr>\n",
       "    <tr>\n",
       "      <th>min</th>\n",
       "      <td>0.000008</td>\n",
       "      <td>0.000000</td>\n",
       "    </tr>\n",
       "    <tr>\n",
       "      <th>25%</th>\n",
       "      <td>0.053846</td>\n",
       "      <td>0.411686</td>\n",
       "    </tr>\n",
       "    <tr>\n",
       "      <th>50%</th>\n",
       "      <td>0.131528</td>\n",
       "      <td>0.750016</td>\n",
       "    </tr>\n",
       "    <tr>\n",
       "      <th>75%</th>\n",
       "      <td>0.253779</td>\n",
       "      <td>0.922723</td>\n",
       "    </tr>\n",
       "    <tr>\n",
       "      <th>max</th>\n",
       "      <td>1.988985</td>\n",
       "      <td>1.000000</td>\n",
       "    </tr>\n",
       "  </tbody>\n",
       "</table>\n",
       "</div>"
      ],
      "text/plain": [
       "         delta_loga      loga_rel\n",
       "count  11317.000000  12295.000000\n",
       "mean       0.192464      0.643928\n",
       "std        0.205955      0.323295\n",
       "min        0.000008      0.000000\n",
       "25%        0.053846      0.411686\n",
       "50%        0.131528      0.750016\n",
       "75%        0.253779      0.922723\n",
       "max        1.988985      1.000000"
      ]
     },
     "execution_count": 4,
     "metadata": {},
     "output_type": "execute_result"
    }
   ],
   "source": [
    "# Compute adjacent log spacing: Δlog_a_j = log10(a_{j+1}) - log10(a_j)\n",
    "harder_data_sorted = harder_data.sort_values(by=['system_number', 'a'])\n",
    "harder_data_sorted['delta_loga'] = harder_data_sorted.groupby('system_number')['loga'].diff()\n",
    "\n",
    "# Plot distribution of adjacent Δlog_a\n",
    "sns.histplot(harder_data_sorted['delta_loga'].dropna(), kde=True, color='purple')\n",
    "plt.xlabel('Δlog_a')\n",
    "plt.ylabel('Density')\n",
    "plt.title('Distribution of Adjacent Δlog_a')\n",
    "plt.show()\n",
    "\n",
    "# Distribution of a normalized by system scale\n",
    "harder_data_sorted['loga_rel'] = harder_data_sorted.groupby('system_number')['loga'].transform(\n",
    "    lambda x: (x - x.min()) / (x.max() - x.min())\n",
    ")\n",
    "\n",
    "# Inspect patterns by planet rank\n",
    "sns.boxplot(x=harder_data_sorted['loga_rel'], y=harder_data_sorted['system_number'], orient='h', color='orange')\n",
    "plt.xlabel('loga_rel')\n",
    "plt.ylabel('System Number')\n",
    "plt.title('Distribution of loga_rel by System')\n",
    "plt.show()\n",
    "\n",
    "harder_data_sorted[['delta_loga', 'loga_rel']].describe()"
   ]
  },
  {
   "cell_type": "markdown",
   "metadata": {
    "cell_id": "61a74208bad8414a98688607ad363651",
    "deepnote_cell_type": "text-cell-h3",
    "formattedRanges": []
   },
   "source": [
    "### Correlations"
   ]
  },
  {
   "cell_type": "code",
   "execution_count": 5,
   "metadata": {
    "cell_id": "1a8779bf4752484a9f8e468ffa79d946",
    "deepnote_cell_type": "code",
    "execution_context_id": "6a14e813-77e0-40cb-b29c-6d8859bb06ad",
    "execution_millis": 4296,
    "execution_start": 1758271016336,
    "source_hash": "60e1f10"
   },
   "outputs": [
    {
     "name": "stdout",
     "output_type": "stream",
     "text": [
      "Requirement already satisfied: statsmodels in /root/venv/lib/python3.10/site-packages (0.14.5)\n",
      "Requirement already satisfied: packaging>=21.3 in /root/venv/lib/python3.10/site-packages (from statsmodels) (25.0)\n",
      "Requirement already satisfied: patsy>=0.5.6 in /root/venv/lib/python3.10/site-packages (from statsmodels) (1.0.1)\n",
      "Requirement already satisfied: numpy<3,>=1.22.3 in /root/venv/lib/python3.10/site-packages (from statsmodels) (1.25.2)\n",
      "Requirement already satisfied: scipy!=1.9.2,>=1.8 in /root/venv/lib/python3.10/site-packages (from statsmodels) (1.9.3)\n",
      "Requirement already satisfied: pandas!=2.1.0,>=1.4 in /root/venv/lib/python3.10/site-packages (from statsmodels) (2.1.4)\n",
      "Requirement already satisfied: python-dateutil>=2.8.2 in /root/venv/lib/python3.10/site-packages (from pandas!=2.1.0,>=1.4->statsmodels) (2.9.0.post0)\n",
      "Requirement already satisfied: tzdata>=2022.1 in /root/venv/lib/python3.10/site-packages (from pandas!=2.1.0,>=1.4->statsmodels) (2025.2)\n",
      "Requirement already satisfied: pytz>=2020.1 in /root/venv/lib/python3.10/site-packages (from pandas!=2.1.0,>=1.4->statsmodels) (2025.2)\n",
      "Requirement already satisfied: six>=1.5 in /root/venv/lib/python3.10/site-packages (from python-dateutil>=2.8.2->pandas!=2.1.0,>=1.4->statsmodels) (1.17.0)\n",
      "\n",
      "\u001b[1m[\u001b[0m\u001b[34;49mnotice\u001b[0m\u001b[1;39;49m]\u001b[0m\u001b[39;49m A new release of pip is available: \u001b[0m\u001b[31;49m23.0.1\u001b[0m\u001b[39;49m -> \u001b[0m\u001b[32;49m25.2\u001b[0m\n",
      "\u001b[1m[\u001b[0m\u001b[34;49mnotice\u001b[0m\u001b[1;39;49m]\u001b[0m\u001b[39;49m To update, run: \u001b[0m\u001b[32;49mpip install --upgrade pip\u001b[0m\n"
     ]
    },
    {
     "data": {
      "text/plain": [
       "(          loga      logm      logr\n",
       " loga  1.000000 -0.533856 -0.297376\n",
       " logm -0.533856  1.000000  0.776653\n",
       " logr -0.297376  0.776653  1.000000,\n",
       " 0.2953364216044028,\n",
       " <class 'statsmodels.iolib.summary.Summary'>\n",
       " \"\"\"\n",
       "                             OLS Regression Results                            \n",
       " ==============================================================================\n",
       " Dep. Variable:                   logm   R-squared:                       0.603\n",
       " Model:                            OLS   Adj. R-squared:                  0.603\n",
       " Method:                 Least Squares   F-statistic:                 1.871e+04\n",
       " Date:                Fri, 19 Sep 2025   Prob (F-statistic):               0.00\n",
       " Time:                        08:37:00   Log-Likelihood:                -8662.4\n",
       " No. Observations:               12311   AIC:                         1.733e+04\n",
       " Df Residuals:                   12309   BIC:                         1.734e+04\n",
       " Df Model:                           1                                         \n",
       " Covariance Type:            nonrobust                                         \n",
       " ==============================================================================\n",
       "                  coef    std err          t      P>|t|      [0.025      0.975]\n",
       " ------------------------------------------------------------------------------\n",
       " const         -0.4490      0.006    -76.257      0.000      -0.461      -0.437\n",
       " logr           1.8525      0.014    136.788      0.000       1.826       1.879\n",
       " ==============================================================================\n",
       " Omnibus:                     1154.207   Durbin-Watson:                   1.846\n",
       " Prob(Omnibus):                  0.000   Jarque-Bera (JB):             2360.106\n",
       " Skew:                           0.613   Prob(JB):                         0.00\n",
       " Kurtosis:                       4.759   Cond. No.                         3.36\n",
       " ==============================================================================\n",
       " \n",
       " Notes:\n",
       " [1] Standard Errors assume that the covariance matrix of the errors is correctly specified.\n",
       " \"\"\",\n",
       " <class 'statsmodels.iolib.summary.Summary'>\n",
       " \"\"\"\n",
       "                             OLS Regression Results                            \n",
       " ==============================================================================\n",
       " Dep. Variable:                   logm   R-squared:                       0.285\n",
       " Model:                            OLS   Adj. R-squared:                  0.285\n",
       " Method:                 Least Squares   F-statistic:                     4906.\n",
       " Date:                Fri, 19 Sep 2025   Prob (F-statistic):               0.00\n",
       " Time:                        08:37:00   Log-Likelihood:                -12287.\n",
       " No. Observations:               12311   AIC:                         2.458e+04\n",
       " Df Residuals:                   12309   BIC:                         2.459e+04\n",
       " Df Model:                           1                                         \n",
       " Covariance Type:            nonrobust                                         \n",
       " ==============================================================================\n",
       "                  coef    std err          t      P>|t|      [0.025      0.975]\n",
       " ------------------------------------------------------------------------------\n",
       " const          0.3263      0.007     47.658      0.000       0.313       0.340\n",
       " loga          -0.5062      0.007    -70.046      0.000      -0.520      -0.492\n",
       " ==============================================================================\n",
       " Omnibus:                     5494.886   Durbin-Watson:                   1.729\n",
       " Prob(Omnibus):                  0.000   Jarque-Bera (JB):            43914.824\n",
       " Skew:                           1.964   Prob(JB):                         0.00\n",
       " Kurtosis:                      11.377   Cond. No.                         1.74\n",
       " ==============================================================================\n",
       " \n",
       " Notes:\n",
       " [1] Standard Errors assume that the covariance matrix of the errors is correctly specified.\n",
       " \"\"\",\n",
       " <class 'statsmodels.iolib.summary.Summary'>\n",
       " \"\"\"\n",
       "                             OLS Regression Results                            \n",
       " ==============================================================================\n",
       " Dep. Variable:                   logr   R-squared:                       0.088\n",
       " Model:                            OLS   Adj. R-squared:                  0.088\n",
       " Method:                 Least Squares   F-statistic:                     1194.\n",
       " Date:                Fri, 19 Sep 2025   Prob (F-statistic):          8.00e-250\n",
       " Time:                        08:37:00   Log-Likelihood:                -3080.2\n",
       " No. Observations:               12311   AIC:                             6164.\n",
       " Df Residuals:                   12309   BIC:                             6179.\n",
       " Df Model:                           1                                         \n",
       " Covariance Type:            nonrobust                                         \n",
       " ==============================================================================\n",
       "                  coef    std err          t      P>|t|      [0.025      0.975]\n",
       " ------------------------------------------------------------------------------\n",
       " const          0.3446      0.003    106.311      0.000       0.338       0.351\n",
       " loga          -0.1182      0.003    -34.556      0.000      -0.125      -0.111\n",
       " ==============================================================================\n",
       " Omnibus:                      584.245   Durbin-Watson:                   1.642\n",
       " Prob(Omnibus):                  0.000   Jarque-Bera (JB):              670.767\n",
       " Skew:                           0.571   Prob(JB):                    2.21e-146\n",
       " Kurtosis:                       3.052   Cond. No.                         1.74\n",
       " ==============================================================================\n",
       " \n",
       " Notes:\n",
       " [1] Standard Errors assume that the covariance matrix of the errors is correctly specified.\n",
       " \"\"\")"
      ]
     },
     "execution_count": 5,
     "metadata": {},
     "output_type": "execute_result"
    }
   ],
   "source": [
    "!pip install statsmodels\n",
    "\n",
    "# Re-run the correlation and regression analysis now that statsmodels is installed\n",
    "import statsmodels.api as sm\n",
    "\n",
    "# Correlations\n",
    "# Pairwise correlations globally\n",
    "correlation_matrix = harder_data[['loga', 'logm', 'logr']].corr()\n",
    "\n",
    "# Average within-system correlations\n",
    "def within_system_corr(group):\n",
    "    return group[['loga', 'logm', 'logr']].corr().mean().mean()\n",
    "\n",
    "average_within_system_corr = harder_data.groupby('system_number').apply(within_system_corr).mean()\n",
    "\n",
    "# Fit simple regressions\n",
    "# logm ~ logr\n",
    "X_logr = sm.add_constant(harder_data['logr'])\n",
    "model_logm_logr = sm.OLS(harder_data['logm'], X_logr).fit()\n",
    "\n",
    "# logm ~ loga\n",
    "X_loga = sm.add_constant(harder_data['loga'])\n",
    "model_logm_loga = sm.OLS(harder_data['logm'], X_loga).fit()\n",
    "\n",
    "# logr ~ loga\n",
    "X_loga_for_logr = sm.add_constant(harder_data['loga'])\n",
    "model_logr_loga = sm.OLS(harder_data['logr'], X_loga_for_logr).fit()\n",
    "\n",
    "correlation_matrix, average_within_system_corr, model_logm_logr.summary(), model_logm_loga.summary(), model_logr_loga.summary()"
   ]
  },
  {
   "cell_type": "markdown",
   "metadata": {
    "cell_id": "1cfba7313105485699f8df206d39a9a4",
    "deepnote_app_block_visible": false,
    "deepnote_cell_type": "text-cell-h2",
    "formattedRanges": [],
    "is_collapsed": false
   },
   "source": [
    "## Feature engineering / transforms"
   ]
  },
  {
   "cell_type": "markdown",
   "metadata": {
    "cell_id": "95350b82fd704e3db57fa81f0ebbcab8",
    "deepnote_cell_type": "text-cell-p",
    "formattedRanges": [
     {
      "fromCodePoint": 0,
      "marks": {
       "bold": true
      },
      "toCodePoint": 35,
      "type": "marks"
     },
     {
      "fromCodePoint": 360,
      "marks": {
       "bold": true
      },
      "toCodePoint": 394,
      "type": "marks"
     },
     {
      "fromCodePoint": 892,
      "marks": {
       "bold": true
      },
      "toCodePoint": 922,
      "type": "marks"
     },
     {
      "fromCodePoint": 1150,
      "marks": {
       "bold": true
      },
      "toCodePoint": 1187,
      "type": "marks"
     },
     {
      "fromCodePoint": 1568,
      "marks": {
       "bold": true
      },
      "toCodePoint": 1599,
      "type": "marks"
     },
     {
      "fromCodePoint": 1813,
      "marks": {
       "bold": true
      },
      "toCodePoint": 1835,
      "type": "marks"
     }
    ]
   },
   "source": [
    "1. Rank Planets Within Each System:\n",
    "   - `harder_data_sorted['rank_within_system'] = harder_data_sorted.groupby('system_number').cumcount() + 1`\n",
    "   - This assigns a rank to each planet within its respective planetary system (`system_number`), based on the order of appearance in the sorted DataFrame. The rank starts at 1 for the first planet in each system.\n",
    "\n",
    "2. Compute System-Level Summaries:\n",
    "   - `system_scales = harder_data_sorted.groupby('system_number')['loga'].agg(['max', 'median', 'mean']).reset_index()`\n",
    "   - For each planetary system, the code calculates three summary statistics of the `loga` (logarithm of the semi-major axis):\n",
    "     - `max`: The largest value of `loga` in the system.\n",
    "     - `median`: The median value of `loga` in the system.\n",
    "     - `mean`: The average value of `loga` in the system.\n",
    "   - These summaries are stored in a new DataFrame called `system_scales`.\n",
    "\n",
    "3. Rename Columns for Clarity:\n",
    "   - `system_scales.columns = ['system_number', 'system_scale_max', 'system_scale_median', 'system_scale_mean']`\n",
    "   - The columns in `system_scales` are renamed to clearly indicate that they represent system-level statistics.\n",
    "\n",
    "4. Merge System-Level Summaries Back:\n",
    "   - `harder_data_sorted = harder_data_sorted.merge(system_scales, on='system_number', how='left')`\n",
    "   - The system-level summaries (`system_scale_max`, `system_scale_median`, `system_scale_mean`) are merged back into the main DataFrame (`harder_data_sorted`) based on the `system_number`. This ensures that each planet in a system has access to its system's summary statistics.\n",
    "\n",
    "5. Adjacent Log Ratio (Δlog_a):\n",
    "   - The adjacent log ratio (`delta_loga`) was previously computed and is already available in the DataFrame. This variable represents the difference in `loga` between consecutive planets within the same system.\n",
    "\n",
    "6. Preview the Result:\n",
    "   - `harder_data_sorted[['system_number', 'rank_within_system', 'system_scale_max', 'system_scale_median', 'system_scale_mean', 'delta_loga']].head()`\n",
    "   - This displays the first few rows of the DataFrame, showing the newly created features (`rank_within_system`, `system_scale_max`, `system_scale_median`, `system_scale_mean`, and `delta_loga`) for inspection."
   ]
  },
  {
   "cell_type": "code",
   "execution_count": 6,
   "metadata": {
    "cell_id": "1cfe4771b73c468f870c87d9bc4ecf79",
    "deepnote_cell_type": "code",
    "execution_context_id": "6a14e813-77e0-40cb-b29c-6d8859bb06ad",
    "execution_millis": 1,
    "execution_start": 1758271020676,
    "source_hash": "493f4fba"
   },
   "outputs": [
    {
     "data": {
      "application/vnd.deepnote.dataframe.v3+json": {
       "column_count": 6,
       "columns": [
        {
         "dtype": "int64",
         "name": "system_number",
         "stats": {
          "categories": null,
          "histogram": [
           {
            "bin_end": 0.6,
            "bin_start": 0.5,
            "count": 0
           },
           {
            "bin_end": 0.7,
            "bin_start": 0.6,
            "count": 0
           },
           {
            "bin_end": 0.8,
            "bin_start": 0.7,
            "count": 0
           },
           {
            "bin_end": 0.9,
            "bin_start": 0.8,
            "count": 0
           },
           {
            "bin_end": 1,
            "bin_start": 0.9,
            "count": 0
           },
           {
            "bin_end": 1.1,
            "bin_start": 1,
            "count": 5
           },
           {
            "bin_end": 1.2000000000000002,
            "bin_start": 1.1,
            "count": 0
           },
           {
            "bin_end": 1.3,
            "bin_start": 1.2000000000000002,
            "count": 0
           },
           {
            "bin_end": 1.4,
            "bin_start": 1.3,
            "count": 0
           },
           {
            "bin_end": 1.5,
            "bin_start": 1.4,
            "count": 0
           }
          ],
          "max": "1",
          "min": "1",
          "nan_count": 0,
          "unique_count": 1
         }
        },
        {
         "dtype": "int64",
         "name": "rank_within_system",
         "stats": {
          "categories": null,
          "histogram": [
           {
            "bin_end": 1.4,
            "bin_start": 1,
            "count": 1
           },
           {
            "bin_end": 1.8,
            "bin_start": 1.4,
            "count": 0
           },
           {
            "bin_end": 2.2,
            "bin_start": 1.8,
            "count": 1
           },
           {
            "bin_end": 2.6,
            "bin_start": 2.2,
            "count": 0
           },
           {
            "bin_end": 3,
            "bin_start": 2.6,
            "count": 0
           },
           {
            "bin_end": 3.4000000000000004,
            "bin_start": 3,
            "count": 1
           },
           {
            "bin_end": 3.8000000000000003,
            "bin_start": 3.4000000000000004,
            "count": 0
           },
           {
            "bin_end": 4.2,
            "bin_start": 3.8000000000000003,
            "count": 1
           },
           {
            "bin_end": 4.6,
            "bin_start": 4.2,
            "count": 0
           },
           {
            "bin_end": 5,
            "bin_start": 4.6,
            "count": 1
           }
          ],
          "max": "5",
          "min": "1",
          "nan_count": 0,
          "unique_count": 5
         }
        },
        {
         "dtype": "float64",
         "name": "system_scale_max",
         "stats": {
          "categories": null,
          "histogram": [
           {
            "bin_end": 1.0187941721437084,
            "bin_start": 0.9187941721437083,
            "count": 0
           },
           {
            "bin_end": 1.1187941721437082,
            "bin_start": 1.0187941721437084,
            "count": 0
           },
           {
            "bin_end": 1.2187941721437083,
            "bin_start": 1.1187941721437082,
            "count": 0
           },
           {
            "bin_end": 1.3187941721437082,
            "bin_start": 1.2187941721437083,
            "count": 0
           },
           {
            "bin_end": 1.4187941721437083,
            "bin_start": 1.3187941721437082,
            "count": 0
           },
           {
            "bin_end": 1.5187941721437084,
            "bin_start": 1.4187941721437083,
            "count": 5
           },
           {
            "bin_end": 1.6187941721437085,
            "bin_start": 1.5187941721437084,
            "count": 0
           },
           {
            "bin_end": 1.7187941721437083,
            "bin_start": 1.6187941721437085,
            "count": 0
           },
           {
            "bin_end": 1.8187941721437082,
            "bin_start": 1.7187941721437083,
            "count": 0
           },
           {
            "bin_end": 1.9187941721437083,
            "bin_start": 1.8187941721437082,
            "count": 0
           }
          ],
          "max": "1.4187941721437083",
          "min": "1.4187941721437083",
          "nan_count": 0,
          "unique_count": 1
         }
        },
        {
         "dtype": "float64",
         "name": "system_scale_median",
         "stats": {
          "categories": null,
          "histogram": [
           {
            "bin_end": -0.34729461348766444,
            "bin_start": -0.4472946134876644,
            "count": 0
           },
           {
            "bin_end": -0.2472946134876644,
            "bin_start": -0.34729461348766444,
            "count": 0
           },
           {
            "bin_end": -0.14729461348766437,
            "bin_start": -0.2472946134876644,
            "count": 0
           },
           {
            "bin_end": -0.047294613487664394,
            "bin_start": -0.14729461348766437,
            "count": 0
           },
           {
            "bin_end": 0.052705386512335584,
            "bin_start": -0.047294613487664394,
            "count": 5
           },
           {
            "bin_end": 0.15270538651233567,
            "bin_start": 0.052705386512335584,
            "count": 0
           },
           {
            "bin_end": 0.25270538651233565,
            "bin_start": 0.15270538651233567,
            "count": 0
           },
           {
            "bin_end": 0.35270538651233563,
            "bin_start": 0.25270538651233565,
            "count": 0
           },
           {
            "bin_end": 0.4527053865123356,
            "bin_start": 0.35270538651233563,
            "count": 0
           },
           {
            "bin_end": 0.5527053865123356,
            "bin_start": 0.4527053865123356,
            "count": 0
           }
          ],
          "max": "0.05270538651233557",
          "min": "0.05270538651233557",
          "nan_count": 0,
          "unique_count": 1
         }
        },
        {
         "dtype": "float64",
         "name": "system_scale_mean",
         "stats": {
          "categories": null,
          "histogram": [
           {
            "bin_end": -0.10628663260352941,
            "bin_start": -0.20628663260352942,
            "count": 0
           },
           {
            "bin_end": -0.006286632603529407,
            "bin_start": -0.10628663260352941,
            "count": 0
           },
           {
            "bin_end": 0.09371336739647063,
            "bin_start": -0.006286632603529407,
            "count": 0
           },
           {
            "bin_end": 0.1937133673964706,
            "bin_start": 0.09371336739647063,
            "count": 0
           },
           {
            "bin_end": 0.2937133673964706,
            "bin_start": 0.1937133673964706,
            "count": 0
           },
           {
            "bin_end": 0.39371336739647067,
            "bin_start": 0.2937133673964706,
            "count": 5
           },
           {
            "bin_end": 0.49371336739647065,
            "bin_start": 0.39371336739647067,
            "count": 0
           },
           {
            "bin_end": 0.5937133673964706,
            "bin_start": 0.49371336739647065,
            "count": 0
           },
           {
            "bin_end": 0.6937133673964706,
            "bin_start": 0.5937133673964706,
            "count": 0
           },
           {
            "bin_end": 0.7937133673964706,
            "bin_start": 0.6937133673964706,
            "count": 0
           }
          ],
          "max": "0.2937133673964706",
          "min": "0.2937133673964706",
          "nan_count": 0,
          "unique_count": 1
         }
        },
        {
         "dtype": "float64",
         "name": "delta_loga",
         "stats": {
          "categories": null,
          "histogram": [
           {
            "bin_end": 0.14274462015346115,
            "bin_start": 0.08763746563910635,
            "count": 2
           },
           {
            "bin_end": 0.19785177466781595,
            "bin_start": 0.14274462015346115,
            "count": 0
           },
           {
            "bin_end": 0.2529589291821707,
            "bin_start": 0.19785177466781595,
            "count": 0
           },
           {
            "bin_end": 0.30806608369652555,
            "bin_start": 0.2529589291821707,
            "count": 0
           },
           {
            "bin_end": 0.3631732382108803,
            "bin_start": 0.30806608369652555,
            "count": 1
           },
           {
            "bin_end": 0.4182803927252351,
            "bin_start": 0.3631732382108803,
            "count": 0
           },
           {
            "bin_end": 0.4733875472395899,
            "bin_start": 0.4182803927252351,
            "count": 0
           },
           {
            "bin_end": 0.5284947017539448,
            "bin_start": 0.4733875472395899,
            "count": 0
           },
           {
            "bin_end": 0.5836018562682994,
            "bin_start": 0.5284947017539448,
            "count": 0
           },
           {
            "bin_end": 0.6387090107826543,
            "bin_start": 0.5836018562682994,
            "count": 1
           }
          ],
          "max": "0.6387090107826543",
          "min": "0.08763746563910635",
          "nan_count": 1,
          "unique_count": 4
         }
        },
        {
         "dtype": "int64",
         "name": "_deepnote_index_column"
        }
       ],
       "preview_row_count": 5,
       "row_count": 5,
       "rows": [
        {
         "_deepnote_index_column": 0,
         "delta_loga": "nan",
         "rank_within_system": 1,
         "system_number": 1,
         "system_scale_max": 1.4187941721437083,
         "system_scale_mean": 0.2937133673964706,
         "system_scale_median": 0.05270538651233557
        },
        {
         "_deepnote_index_column": 1,
         "delta_loga": 0.6387090107826543,
         "rank_within_system": 2,
         "system_number": 1,
         "system_scale_max": 1.4187941721437083,
         "system_scale_mean": 0.2937133673964706,
         "system_scale_median": 0.05270538651233557
        },
        {
         "_deepnote_index_column": 2,
         "delta_loga": 0.31731494172248353,
         "rank_within_system": 3,
         "system_number": 1,
         "system_scale_max": 1.4187941721437083,
         "system_scale_mean": 0.2937133673964706,
         "system_scale_median": 0.05270538651233557
        },
        {
         "_deepnote_index_column": 3,
         "delta_loga": 0.13220471733676742,
         "rank_within_system": 4,
         "system_number": 1,
         "system_scale_max": 1.4187941721437083,
         "system_scale_mean": 0.2937133673964706,
         "system_scale_median": 0.05270538651233557
        },
        {
         "_deepnote_index_column": 4,
         "delta_loga": 0.08763746563910635,
         "rank_within_system": 5,
         "system_number": 1,
         "system_scale_max": 1.4187941721437083,
         "system_scale_mean": 0.2937133673964706,
         "system_scale_median": 0.05270538651233557
        }
       ],
       "type": "dataframe"
      },
      "text/html": [
       "<div>\n",
       "<style scoped>\n",
       "    .dataframe tbody tr th:only-of-type {\n",
       "        vertical-align: middle;\n",
       "    }\n",
       "\n",
       "    .dataframe tbody tr th {\n",
       "        vertical-align: top;\n",
       "    }\n",
       "\n",
       "    .dataframe thead th {\n",
       "        text-align: right;\n",
       "    }\n",
       "</style>\n",
       "<table border=\"1\" class=\"dataframe\">\n",
       "  <thead>\n",
       "    <tr style=\"text-align: right;\">\n",
       "      <th></th>\n",
       "      <th>system_number</th>\n",
       "      <th>rank_within_system</th>\n",
       "      <th>system_scale_max</th>\n",
       "      <th>system_scale_median</th>\n",
       "      <th>system_scale_mean</th>\n",
       "      <th>delta_loga</th>\n",
       "    </tr>\n",
       "  </thead>\n",
       "  <tbody>\n",
       "    <tr>\n",
       "      <th>0</th>\n",
       "      <td>1</td>\n",
       "      <td>1</td>\n",
       "      <td>1.418794</td>\n",
       "      <td>0.052705</td>\n",
       "      <td>0.293713</td>\n",
       "      <td>NaN</td>\n",
       "    </tr>\n",
       "    <tr>\n",
       "      <th>1</th>\n",
       "      <td>1</td>\n",
       "      <td>2</td>\n",
       "      <td>1.418794</td>\n",
       "      <td>0.052705</td>\n",
       "      <td>0.293713</td>\n",
       "      <td>0.638709</td>\n",
       "    </tr>\n",
       "    <tr>\n",
       "      <th>2</th>\n",
       "      <td>1</td>\n",
       "      <td>3</td>\n",
       "      <td>1.418794</td>\n",
       "      <td>0.052705</td>\n",
       "      <td>0.293713</td>\n",
       "      <td>0.317315</td>\n",
       "    </tr>\n",
       "    <tr>\n",
       "      <th>3</th>\n",
       "      <td>1</td>\n",
       "      <td>4</td>\n",
       "      <td>1.418794</td>\n",
       "      <td>0.052705</td>\n",
       "      <td>0.293713</td>\n",
       "      <td>0.132205</td>\n",
       "    </tr>\n",
       "    <tr>\n",
       "      <th>4</th>\n",
       "      <td>1</td>\n",
       "      <td>5</td>\n",
       "      <td>1.418794</td>\n",
       "      <td>0.052705</td>\n",
       "      <td>0.293713</td>\n",
       "      <td>0.087637</td>\n",
       "    </tr>\n",
       "  </tbody>\n",
       "</table>\n",
       "</div>"
      ],
      "text/plain": [
       "   system_number  rank_within_system  system_scale_max  system_scale_median  \\\n",
       "0              1                   1          1.418794             0.052705   \n",
       "1              1                   2          1.418794             0.052705   \n",
       "2              1                   3          1.418794             0.052705   \n",
       "3              1                   4          1.418794             0.052705   \n",
       "4              1                   5          1.418794             0.052705   \n",
       "\n",
       "   system_scale_mean  delta_loga  \n",
       "0           0.293713         NaN  \n",
       "1           0.293713    0.638709  \n",
       "2           0.293713    0.317315  \n",
       "3           0.293713    0.132205  \n",
       "4           0.293713    0.087637  "
      ]
     },
     "execution_count": 6,
     "metadata": {},
     "output_type": "execute_result"
    }
   ],
   "source": [
    "# Create rank_within_system (1..k)\n",
    "harder_data_sorted['rank_within_system'] = harder_data_sorted.groupby('system_number').cumcount() + 1\n",
    "\n",
    "# Create system-level summaries: system_scale = max(loga) or median(loga) or mean(loga)\n",
    "system_scales = harder_data_sorted.groupby('system_number')['loga'].agg(['max', 'median', 'mean']).reset_index()\n",
    "system_scales.columns = ['system_number', 'system_scale_max', 'system_scale_median', 'system_scale_mean']\n",
    "\n",
    "# Merge system-level summaries back into the main dataset\n",
    "harder_data_sorted = harder_data_sorted.merge(system_scales, on='system_number', how='left')\n",
    "\n",
    "# Adjacent log ratio or Δlog_a is already computed as 'delta_loga'\n",
    "\n",
    "harder_data_sorted[['system_number', 'rank_within_system', 'system_scale_max', 'system_scale_median', 'system_scale_mean', 'delta_loga']].head()"
   ]
  },
  {
   "cell_type": "markdown",
   "metadata": {
    "cell_id": "855e1868657e4cdaa6de41a0a5efc826",
    "deepnote_cell_type": "text-cell-h2",
    "formattedRanges": []
   },
   "source": [
    "## Solution Approaches"
   ]
  },
  {
   "cell_type": "markdown",
   "metadata": {
    "cell_id": "0d1d4ce36a86415aa5c40a2f0febec11",
    "deepnote_cell_type": "text-cell-h3",
    "formattedRanges": []
   },
   "source": [
    "### Approach 1: empirical resample + jitter"
   ]
  },
  {
   "cell_type": "markdown",
   "metadata": {
    "cell_id": "3513fda3dc9d4d1181ef3861694b0405",
    "deepnote_cell_type": "text-cell-p",
    "formattedRanges": []
   },
   "source": [
    "Resample whole systems from the real dataset and perturb in log space."
   ]
  },
  {
   "cell_type": "markdown",
   "metadata": {
    "cell_id": "8b902e3a47a6423f897367961cd51e8e",
    "deepnote_cell_type": "text-cell-p",
    "formattedRanges": [
     {
      "fromCodePoint": 0,
      "marks": {
       "bold": true
      },
      "toCodePoint": 11,
      "type": "marks"
     }
    ]
   },
   "source": [
    "Parameters: sigma_a, sigma_m, sigma_r small (e.g., 0.02–0.2 dex). Tune to trade off realism vs novelty."
   ]
  },
  {
   "cell_type": "markdown",
   "metadata": {
    "cell_id": "37b3e07f7b3a4327a643af398535e59f",
    "deepnote_cell_type": "text-cell-p",
    "formattedRanges": [
     {
      "fromCodePoint": 0,
      "marks": {
       "bold": true
      },
      "toCodePoint": 6,
      "type": "marks"
     },
     {
      "fromCodePoint": 84,
      "marks": {
       "bold": true
      },
      "toCodePoint": 90,
      "type": "marks"
     }
    ]
   },
   "source": [
    "Pros: trivial to implement; preserves all intra-system patterns in sampled systems.\n",
    "Cons: restricted to shapes present in data; unrealistic if you need novel architectures."
   ]
  },
  {
   "cell_type": "code",
   "execution_count": 7,
   "metadata": {
    "cell_id": "a37fa73e621b44acbf148ef60cd8ee4a",
    "deepnote_cell_type": "code",
    "deepnote_table_loading": false,
    "deepnote_table_state": {
     "cellFormattingRules": [],
     "columnDisplayNames": [],
     "columnOrder": [
      "system_number",
      "a",
      "total_mass",
      "r",
      "loga",
      "logm",
      "logr",
      "delta_loga",
      "loga_rel",
      "rank_within_system",
      "system_scale_max",
      "system_scale_median",
      "system_scale_mean"
     ],
     "conditionalFilters": [],
     "filters": [],
     "hiddenColumnIds": [],
     "pageIndex": 1,
     "pageSize": 10,
     "sortBy": [],
     "wrappedTextColumnIds": []
    },
    "deepnote_variable_name": "",
    "execution_context_id": "6a14e813-77e0-40cb-b29c-6d8859bb06ad",
    "execution_millis": 75724,
    "execution_start": 1758271020725,
    "source_hash": "b5d19b83",
    "sql_integration_id": ""
   },
   "outputs": [
    {
     "data": {
      "application/vnd.deepnote.dataframe.v3+json": {
       "column_count": 13,
       "columns": [
        {
         "dtype": "int64",
         "name": "system_number"
        },
        {
         "dtype": "float64",
         "name": "a"
        },
        {
         "dtype": "float64",
         "name": "total_mass"
        },
        {
         "dtype": "float64",
         "name": "r"
        },
        {
         "dtype": "float64",
         "name": "loga"
        },
        {
         "dtype": "float64",
         "name": "logm"
        },
        {
         "dtype": "float64",
         "name": "logr"
        },
        {
         "dtype": "float64",
         "name": "delta_loga"
        },
        {
         "dtype": "float64",
         "name": "loga_rel"
        },
        {
         "dtype": "int64",
         "name": "rank_within_system"
        },
        {
         "dtype": "float64",
         "name": "system_scale_max"
        },
        {
         "dtype": "float64",
         "name": "system_scale_median"
        },
        {
         "dtype": "float64",
         "name": "system_scale_mean"
        },
        {
         "dtype": "int64",
         "name": "_deepnote_index_column"
        }
       ],
       "preview_row_count": 309434,
       "row_count": 309434,
       "rows": [
        {
         "_deepnote_index_column": 10,
         "a": 2.010974568645918,
         "delta_loga": 0.09912300119015505,
         "loga": 0.2817518476662891,
         "loga_rel": 0.6220153864928494,
         "logm": 0.4533235050008855,
         "logr": 0.5607198659947938,
         "r": 4.069461766391455,
         "rank_within_system": 10,
         "system_number": 206,
         "system_scale_max": 1.1366472725438268,
         "system_scale_mean": 0.2284890702778996,
         "system_scale_median": 0.25384507782534316,
         "total_mass": 4.135650767594479
        },
        {
         "_deepnote_index_column": 11,
         "a": 2.40129310665327,
         "delta_loga": 0.07703859572777322,
         "loga": 0.5432116541010247,
         "loga_rel": 0.6569625560642185,
         "logm": 0.47399141828577274,
         "logr": 0.7218431246784375,
         "r": 5.595003082938309,
         "rank_within_system": 11,
         "system_number": 206,
         "system_scale_max": 1.1366472725438268,
         "system_scale_mean": 0.2284890702778996,
         "system_scale_median": 0.25384507782534316,
         "total_mass": 3.300044116315908
        },
        {
         "_deepnote_index_column": 12,
         "a": 3.1287420711956404,
         "delta_loga": 0.11492458788787174,
         "loga": 0.5762530075171007,
         "loga_rel": 0.7090960227103303,
         "logm": -0.486423756122079,
         "logr": 0.2760107904927434,
         "r": 1.5606995358279616,
         "rank_within_system": 12,
         "system_number": 206,
         "system_scale_max": 1.1366472725438268,
         "system_scale_mean": 0.2284890702778996,
         "system_scale_median": 0.25384507782534316,
         "total_mass": 0.38152204720525
        },
        {
         "_deepnote_index_column": 13,
         "a": 5.006595699797774,
         "delta_loga": 0.20417275997274265,
         "loga": 0.6564249696873407,
         "loga_rel": 0.8017153130441695,
         "logm": 0.4585043358266084,
         "logr": 0.44670503239510667,
         "r": 2.808478778420968,
         "rank_within_system": 13,
         "system_number": 206,
         "system_scale_max": 1.1366472725438268,
         "system_scale_mean": 0.2284890702778996,
         "system_scale_median": 0.25384507782534316,
         "total_mass": 2.207719484046164
        },
        {
         "_deepnote_index_column": 14,
         "a": 6.321163645129269,
         "delta_loga": 0.10125451167549215,
         "loga": 0.8324910985887256,
         "loga_rel": 0.84764759615449,
         "logm": 0.23391820870666474,
         "logr": 0.4122315305783979,
         "r": 2.281280880816199,
         "rank_within_system": 14,
         "system_number": 206,
         "system_scale_max": 1.1366472725438268,
         "system_scale_mean": 0.2284890702778996,
         "system_scale_median": 0.25384507782534316,
         "total_mass": 1.5209115976465262
        },
        {
         "_deepnote_index_column": 15,
         "a": 9.88177878839473,
         "delta_loga": 0.03263806952256687,
         "loga": 0.8438440760050474,
         "loga_rel": 0.9356694780221189,
         "logm": -0.4887826167561268,
         "logr": -0.039890849982444264,
         "r": 0.8640023540053334,
         "rank_within_system": 15,
         "system_number": 206,
         "system_scale_max": 1.1366472725438268,
         "system_scale_mean": 0.2284890702778996,
         "system_scale_median": 0.25384507782534316,
         "total_mass": 0.2185967862864901
        },
        {
         "_deepnote_index_column": 16,
         "a": 9.166363131410062,
         "delta_loga": 0.16140002442234458,
         "loga": 0.8692482291004167,
         "loga_rel": 0.9208638064063255,
         "logm": 0.25527646150468436,
         "logr": 0.2371314619340836,
         "r": 1.85110764798618,
         "rank_within_system": 16,
         "system_number": 206,
         "system_scale_max": 1.1366472725438268,
         "system_scale_mean": 0.2284890702778996,
         "system_scale_median": 0.25384507782534316,
         "total_mass": 1.4123391337406657
        },
        {
         "_deepnote_index_column": 17,
         "a": 11.145003561400063,
         "delta_loga": 0.05224508396642091,
         "loga": 0.9461003801494504,
         "loga_rel": 0.9593695181305435,
         "logm": -0.431329062391449,
         "logr": 0.18028085119160664,
         "r": 1.3168426915586238,
         "rank_within_system": 17,
         "system_number": 206,
         "system_scale_max": 1.1366472725438268,
         "system_scale_mean": 0.2284890702778996,
         "system_scale_median": 0.25384507782534316,
         "total_mass": 0.4559725112016293
        },
        {
         "_deepnote_index_column": 18,
         "a": 13.697688086065144,
         "delta_loga": 0.089567060948194,
         "loga": 1.2650139963756513,
         "loga_rel": 1,
         "logm": -0.8423424573263708,
         "logr": -0.22221448697355564,
         "r": 0.7741654237664382,
         "rank_within_system": 18,
         "system_number": 206,
         "system_scale_max": 1.1366472725438268,
         "system_scale_mean": 0.2284890702778996,
         "system_scale_median": 0.25384507782534316,
         "total_mass": 0.176557665173116
        },
        {
         "_deepnote_index_column": 19,
         "a": 0.1138884995240933,
         "delta_loga": "nan",
         "loga": -1.0651082284463234,
         "loga_rel": 0,
         "logm": 0.6682627748144127,
         "logr": 0.5725358439841749,
         "r": 2.309985294735512,
         "rank_within_system": 1,
         "system_number": 200,
         "system_scale_max": 1.5902954164892695,
         "system_scale_mean": 0.9988393337219035,
         "system_scale_median": 1.2906596749476855,
         "total_mass": 5.6490566671192575
        }
       ],
       "type": "dataframe"
      },
      "text/html": [
       "<div>\n",
       "<style scoped>\n",
       "    .dataframe tbody tr th:only-of-type {\n",
       "        vertical-align: middle;\n",
       "    }\n",
       "\n",
       "    .dataframe tbody tr th {\n",
       "        vertical-align: top;\n",
       "    }\n",
       "\n",
       "    .dataframe thead th {\n",
       "        text-align: right;\n",
       "    }\n",
       "</style>\n",
       "<table border=\"1\" class=\"dataframe\">\n",
       "  <thead>\n",
       "    <tr style=\"text-align: right;\">\n",
       "      <th></th>\n",
       "      <th>system_number</th>\n",
       "      <th>a</th>\n",
       "      <th>total_mass</th>\n",
       "      <th>r</th>\n",
       "      <th>loga</th>\n",
       "      <th>logm</th>\n",
       "      <th>logr</th>\n",
       "      <th>delta_loga</th>\n",
       "      <th>loga_rel</th>\n",
       "      <th>rank_within_system</th>\n",
       "      <th>system_scale_max</th>\n",
       "      <th>system_scale_median</th>\n",
       "      <th>system_scale_mean</th>\n",
       "    </tr>\n",
       "  </thead>\n",
       "  <tbody>\n",
       "    <tr>\n",
       "      <th>0</th>\n",
       "      <td>236</td>\n",
       "      <td>42.748794</td>\n",
       "      <td>1149.018659</td>\n",
       "      <td>13.700592</td>\n",
       "      <td>1.567582</td>\n",
       "      <td>3.045485</td>\n",
       "      <td>1.063649</td>\n",
       "      <td>NaN</td>\n",
       "      <td>NaN</td>\n",
       "      <td>1</td>\n",
       "      <td>1.630924</td>\n",
       "      <td>1.630924</td>\n",
       "      <td>1.630924</td>\n",
       "    </tr>\n",
       "    <tr>\n",
       "      <th>1</th>\n",
       "      <td>206</td>\n",
       "      <td>0.085549</td>\n",
       "      <td>0.380212</td>\n",
       "      <td>0.722514</td>\n",
       "      <td>-1.079287</td>\n",
       "      <td>-0.294513</td>\n",
       "      <td>0.105022</td>\n",
       "      <td>NaN</td>\n",
       "      <td>0.000000</td>\n",
       "      <td>1</td>\n",
       "      <td>1.136647</td>\n",
       "      <td>0.253845</td>\n",
       "      <td>0.228489</td>\n",
       "    </tr>\n",
       "    <tr>\n",
       "      <th>2</th>\n",
       "      <td>206</td>\n",
       "      <td>0.212191</td>\n",
       "      <td>1.867359</td>\n",
       "      <td>1.626827</td>\n",
       "      <td>-0.569989</td>\n",
       "      <td>0.192038</td>\n",
       "      <td>0.115698</td>\n",
       "      <td>0.394511</td>\n",
       "      <td>0.178963</td>\n",
       "      <td>2</td>\n",
       "      <td>1.136647</td>\n",
       "      <td>0.253845</td>\n",
       "      <td>0.228489</td>\n",
       "    </tr>\n",
       "    <tr>\n",
       "      <th>3</th>\n",
       "      <td>206</td>\n",
       "      <td>0.415432</td>\n",
       "      <td>2.177810</td>\n",
       "      <td>2.777790</td>\n",
       "      <td>-0.508446</td>\n",
       "      <td>0.404321</td>\n",
       "      <td>0.534850</td>\n",
       "      <td>0.117708</td>\n",
       "      <td>0.311320</td>\n",
       "      <td>3</td>\n",
       "      <td>1.136647</td>\n",
       "      <td>0.253845</td>\n",
       "      <td>0.228489</td>\n",
       "    </tr>\n",
       "    <tr>\n",
       "      <th>4</th>\n",
       "      <td>206</td>\n",
       "      <td>0.316805</td>\n",
       "      <td>2.117939</td>\n",
       "      <td>1.232626</td>\n",
       "      <td>-0.468412</td>\n",
       "      <td>0.281775</td>\n",
       "      <td>0.095845</td>\n",
       "      <td>0.174064</td>\n",
       "      <td>0.257924</td>\n",
       "      <td>4</td>\n",
       "      <td>1.136647</td>\n",
       "      <td>0.253845</td>\n",
       "      <td>0.228489</td>\n",
       "    </tr>\n",
       "    <tr>\n",
       "      <th>...</th>\n",
       "      <td>...</td>\n",
       "      <td>...</td>\n",
       "      <td>...</td>\n",
       "      <td>...</td>\n",
       "      <td>...</td>\n",
       "      <td>...</td>\n",
       "      <td>...</td>\n",
       "      <td>...</td>\n",
       "      <td>...</td>\n",
       "      <td>...</td>\n",
       "      <td>...</td>\n",
       "      <td>...</td>\n",
       "      <td>...</td>\n",
       "    </tr>\n",
       "    <tr>\n",
       "      <th>309429</th>\n",
       "      <td>556</td>\n",
       "      <td>2.000615</td>\n",
       "      <td>4.744330</td>\n",
       "      <td>2.013598</td>\n",
       "      <td>0.357580</td>\n",
       "      <td>0.712365</td>\n",
       "      <td>0.312232</td>\n",
       "      <td>0.138691</td>\n",
       "      <td>0.659296</td>\n",
       "      <td>6</td>\n",
       "      <td>1.097733</td>\n",
       "      <td>0.231818</td>\n",
       "      <td>0.177486</td>\n",
       "    </tr>\n",
       "    <tr>\n",
       "      <th>309430</th>\n",
       "      <td>556</td>\n",
       "      <td>4.141279</td>\n",
       "      <td>1.542597</td>\n",
       "      <td>2.792477</td>\n",
       "      <td>0.489871</td>\n",
       "      <td>0.089199</td>\n",
       "      <td>0.346660</td>\n",
       "      <td>0.315971</td>\n",
       "      <td>0.794441</td>\n",
       "      <td>7</td>\n",
       "      <td>1.097733</td>\n",
       "      <td>0.231818</td>\n",
       "      <td>0.177486</td>\n",
       "    </tr>\n",
       "    <tr>\n",
       "      <th>309431</th>\n",
       "      <td>556</td>\n",
       "      <td>6.642461</td>\n",
       "      <td>4.438882</td>\n",
       "      <td>2.730452</td>\n",
       "      <td>0.793605</td>\n",
       "      <td>0.461152</td>\n",
       "      <td>0.497342</td>\n",
       "      <td>0.205195</td>\n",
       "      <td>0.882206</td>\n",
       "      <td>8</td>\n",
       "      <td>1.097733</td>\n",
       "      <td>0.231818</td>\n",
       "      <td>0.177486</td>\n",
       "    </tr>\n",
       "    <tr>\n",
       "      <th>309432</th>\n",
       "      <td>556</td>\n",
       "      <td>11.750165</td>\n",
       "      <td>1.273182</td>\n",
       "      <td>2.457265</td>\n",
       "      <td>1.118458</td>\n",
       "      <td>0.118940</td>\n",
       "      <td>0.506662</td>\n",
       "      <td>0.247715</td>\n",
       "      <td>0.988157</td>\n",
       "      <td>9</td>\n",
       "      <td>1.097733</td>\n",
       "      <td>0.231818</td>\n",
       "      <td>0.177486</td>\n",
       "    </tr>\n",
       "    <tr>\n",
       "      <th>309433</th>\n",
       "      <td>556</td>\n",
       "      <td>12.523724</td>\n",
       "      <td>0.714809</td>\n",
       "      <td>1.702844</td>\n",
       "      <td>1.137869</td>\n",
       "      <td>-0.164825</td>\n",
       "      <td>0.359666</td>\n",
       "      <td>0.027689</td>\n",
       "      <td>1.000000</td>\n",
       "      <td>10</td>\n",
       "      <td>1.097733</td>\n",
       "      <td>0.231818</td>\n",
       "      <td>0.177486</td>\n",
       "    </tr>\n",
       "  </tbody>\n",
       "</table>\n",
       "<p>309434 rows × 13 columns</p>\n",
       "</div>"
      ],
      "text/plain": [
       "        system_number          a   total_mass          r      loga      logm  \\\n",
       "0                 236  42.748794  1149.018659  13.700592  1.567582  3.045485   \n",
       "1                 206   0.085549     0.380212   0.722514 -1.079287 -0.294513   \n",
       "2                 206   0.212191     1.867359   1.626827 -0.569989  0.192038   \n",
       "3                 206   0.415432     2.177810   2.777790 -0.508446  0.404321   \n",
       "4                 206   0.316805     2.117939   1.232626 -0.468412  0.281775   \n",
       "...               ...        ...          ...        ...       ...       ...   \n",
       "309429            556   2.000615     4.744330   2.013598  0.357580  0.712365   \n",
       "309430            556   4.141279     1.542597   2.792477  0.489871  0.089199   \n",
       "309431            556   6.642461     4.438882   2.730452  0.793605  0.461152   \n",
       "309432            556  11.750165     1.273182   2.457265  1.118458  0.118940   \n",
       "309433            556  12.523724     0.714809   1.702844  1.137869 -0.164825   \n",
       "\n",
       "            logr  delta_loga  loga_rel  rank_within_system  system_scale_max  \\\n",
       "0       1.063649         NaN       NaN                   1          1.630924   \n",
       "1       0.105022         NaN  0.000000                   1          1.136647   \n",
       "2       0.115698    0.394511  0.178963                   2          1.136647   \n",
       "3       0.534850    0.117708  0.311320                   3          1.136647   \n",
       "4       0.095845    0.174064  0.257924                   4          1.136647   \n",
       "...          ...         ...       ...                 ...               ...   \n",
       "309429  0.312232    0.138691  0.659296                   6          1.097733   \n",
       "309430  0.346660    0.315971  0.794441                   7          1.097733   \n",
       "309431  0.497342    0.205195  0.882206                   8          1.097733   \n",
       "309432  0.506662    0.247715  0.988157                   9          1.097733   \n",
       "309433  0.359666    0.027689  1.000000                  10          1.097733   \n",
       "\n",
       "        system_scale_median  system_scale_mean  \n",
       "0                  1.630924           1.630924  \n",
       "1                  0.253845           0.228489  \n",
       "2                  0.253845           0.228489  \n",
       "3                  0.253845           0.228489  \n",
       "4                  0.253845           0.228489  \n",
       "...                     ...                ...  \n",
       "309429             0.231818           0.177486  \n",
       "309430             0.231818           0.177486  \n",
       "309431             0.231818           0.177486  \n",
       "309432             0.231818           0.177486  \n",
       "309433             0.231818           0.177486  \n",
       "\n",
       "[309434 rows x 13 columns]"
      ]
     },
     "execution_count": 7,
     "metadata": {},
     "output_type": "execute_result"
    }
   ],
   "source": [
    "import numpy as np\n",
    "import pandas as pd\n",
    "\n",
    "# Parameters for jitter\n",
    "sigma_a = 0.1\n",
    "sigma_m = 0.1\n",
    "sigma_r = 0.1\n",
    "N_synthetic_systems = 25000\n",
    "\n",
    "# Placeholder for synthetic systems\n",
    "synthetic_systems = []\n",
    "\n",
    "# Generate synthetic systems\n",
    "for _ in range(N_synthetic_systems):\n",
    "    # Sample a real system uniformly\n",
    "    sampled_system_number = np.random.choice(harder_data_sorted['system_number'].unique())\n",
    "    sampled_system = harder_data_sorted[harder_data_sorted['system_number'] == sampled_system_number].copy()\n",
    "\n",
    "    # Apply jitter to log-values\n",
    "    sampled_system['loga'] += np.random.normal(0, sigma_a, size=len(sampled_system))\n",
    "    sampled_system['logm'] += np.random.normal(0, sigma_m, size=len(sampled_system))\n",
    "    sampled_system['logr'] += np.random.normal(0, sigma_r, size=len(sampled_system))\n",
    "\n",
    "    # Sort by a' (loga') and reassign ranks\n",
    "    sampled_system = sampled_system.sort_values(by='loga').reset_index(drop=True)\n",
    "    sampled_system['rank_within_system'] = np.arange(1, len(sampled_system) + 1)\n",
    "\n",
    "    # Optional clipping to physical bounds (e.g., loga > -2, logm > -2, logr > -2)\n",
    "    sampled_system['loga'] = sampled_system['loga'].clip(lower=-2)\n",
    "    sampled_system['logm'] = sampled_system['logm'].clip(lower=-2)\n",
    "    sampled_system['logr'] = sampled_system['logr'].clip(lower=-2)\n",
    "\n",
    "    # Append to synthetic systems\n",
    "    synthetic_systems.append(sampled_system)\n",
    "\n",
    "# Combine all synthetic systems into a single DataFrame\n",
    "synthetic_data_app1 = pd.concat(synthetic_systems, ignore_index=True)\n",
    "synthetic_data_app1"
   ]
  },
  {
   "cell_type": "markdown",
   "metadata": {
    "cell_id": "60431226cf1b40409163f49c41b1a669",
    "deepnote_cell_type": "text-cell-p"
   },
   "source": [
    "The synthetic planetary systems have been generated with jitter applied to the log-values of semi-major axis, mass, and radius. The systems are sorted, ranks reassigned, and values clipped to physical bounds."
   ]
  },
  {
   "cell_type": "markdown",
   "metadata": {
    "cell_id": "315d8396c5a246019464f963314770f0",
    "deepnote_app_block_visible": false,
    "deepnote_cell_type": "text-cell-h3",
    "formattedRanges": [],
    "is_collapsed": false
   },
   "source": [
    "### Approach 2: COPULA / joint sampling"
   ]
  },
  {
   "cell_type": "markdown",
   "metadata": {
    "cell_id": "496d0a6c8eb8487ca3cdeb70bb59c550",
    "deepnote_cell_type": "text-cell-p",
    "formattedRanges": []
   },
   "source": [
    "Model marginals for each variable (log-a, log-m, log-r) then capture joint dependence using a copula (e.g., Gaussian copula). For intra-system dependence, include a per-system latent that shifts planets in the same system."
   ]
  },
  {
   "cell_type": "markdown",
   "metadata": {
    "cell_id": "c8d2e46871f541e9b9b0f7eb6b3f578f",
    "deepnote_cell_type": "text-cell-p",
    "formattedRanges": [
     {
      "fromCodePoint": 0,
      "marks": {
       "bold": true
      },
      "toCodePoint": 5,
      "type": "marks"
     },
     {
      "fromCodePoint": 81,
      "marks": {
       "bold": true
      },
      "toCodePoint": 86,
      "type": "marks"
     }
    ]
   },
   "source": [
    "Pros: flexible, explicitly models dependencies, can generate novel combinations.\n",
    "Cons: you must estimate marginals robustly; copulas assume a particular dependence family (Gaussian copula is common but not always ideal)."
   ]
  },
  {
   "cell_type": "code",
   "execution_count": 8,
   "metadata": {
    "cell_id": "f8bed4947e7643cfa7b903f9069bdd38",
    "deepnote_cell_type": "code",
    "deepnote_table_loading": false,
    "deepnote_table_state": {
     "cellFormattingRules": [],
     "columnDisplayNames": [],
     "columnOrder": [
      "loga",
      "logm",
      "logr",
      "system_number",
      "rank_within_system"
     ],
     "conditionalFilters": [],
     "filters": [],
     "hiddenColumnIds": [],
     "pageIndex": 19,
     "pageSize": 10,
     "sortBy": [],
     "wrappedTextColumnIds": []
    },
    "deepnote_variable_name": "",
    "execution_context_id": "6a14e813-77e0-40cb-b29c-6d8859bb06ad",
    "execution_millis": 252673,
    "execution_start": 1758271096505,
    "source_hash": "cbd0ce2b",
    "sql_integration_id": ""
   },
   "outputs": [
    {
     "data": {
      "application/vnd.deepnote.dataframe.v3+json": {
       "column_count": 8,
       "columns": [
        {
         "dtype": "float64",
         "name": "loga"
        },
        {
         "dtype": "float64",
         "name": "logm"
        },
        {
         "dtype": "float64",
         "name": "logr"
        },
        {
         "dtype": "float64",
         "name": "a"
        },
        {
         "dtype": "float64",
         "name": "total_mass"
        },
        {
         "dtype": "float64",
         "name": "r"
        },
        {
         "dtype": "int64",
         "name": "system_number"
        },
        {
         "dtype": "int64",
         "name": "rank_within_system"
        },
        {
         "dtype": "int64",
         "name": "_deepnote_index_column"
        }
       ],
       "preview_row_count": 307565,
       "row_count": 307565,
       "rows": [
        {
         "_deepnote_index_column": 190,
         "a": 22.4914329895216,
         "loga": 1.3520171263834302,
         "logm": 0.2450800691343344,
         "logr": -0.1879201209161017,
         "r": 0.6487537468061008,
         "rank_within_system": 17,
         "system_number": 13,
         "total_mass": 1.7582477451736067
        },
        {
         "_deepnote_index_column": 191,
         "a": 3.062824357398151,
         "loga": 0.48612209220326036,
         "logm": 0.4239626824751073,
         "logr": 0.16867764425366005,
         "r": 1.4746115942450033,
         "rank_within_system": 1,
         "system_number": 14,
         "total_mass": 2.6543774700763936
        },
        {
         "_deepnote_index_column": 192,
         "a": 2.3985813087526746,
         "loga": 0.3799544450633694,
         "logm": 0.7287840095620808,
         "logr": 0.3601930353493506,
         "r": 2.291886124678786,
         "rank_within_system": 2,
         "system_number": 14,
         "total_mass": 5.355302526045255
        },
        {
         "_deepnote_index_column": 193,
         "a": 0.2474084763363379,
         "loga": -0.606585425309011,
         "logm": -0.1818347276390299,
         "logr": -0.04509200381488787,
         "r": 0.9013801630437549,
         "rank_within_system": 3,
         "system_number": 14,
         "total_mass": 0.6579081590894977
        },
        {
         "_deepnote_index_column": 194,
         "a": 7.265532816002454,
         "loga": 0.8612674686773621,
         "logm": 0.3247163692019412,
         "logr": 0.15710167855870463,
         "r": 1.4358255545575738,
         "rank_within_system": 4,
         "system_number": 14,
         "total_mass": 2.1121092044833847
        },
        {
         "_deepnote_index_column": 195,
         "a": 0.7921263203232958,
         "loga": -0.10120555598014083,
         "logm": 0.629986388351059,
         "logr": 0.42618490922803426,
         "r": 2.667994372644633,
         "rank_within_system": 5,
         "system_number": 14,
         "total_mass": 4.26566149164387
        },
        {
         "_deepnote_index_column": 196,
         "a": 0.1309540670255896,
         "loga": -0.8828810091948899,
         "logm": 0.4050571285284968,
         "logr": 0.01603312242208643,
         "r": 1.0376075482179374,
         "rank_within_system": 6,
         "system_number": 14,
         "total_mass": 2.54130697546438
        },
        {
         "_deepnote_index_column": 197,
         "a": 7.334420543028613,
         "loga": 0.8653658080353437,
         "logm": 0.07392045375314102,
         "logr": 1.1997111034843326,
         "r": 15.838392581280216,
         "rank_within_system": 7,
         "system_number": 14,
         "total_mass": 1.1855515802781342
        },
        {
         "_deepnote_index_column": 198,
         "a": 1.4836547399226483,
         "loga": 0.1713328483878881,
         "logm": -0.6571668556294658,
         "logr": 0.42928005354058296,
         "r": 2.687076640698157,
         "rank_within_system": 8,
         "system_number": 14,
         "total_mass": 0.22020802628464115
        },
        {
         "_deepnote_index_column": 199,
         "a": 12.264667043636498,
         "loga": 1.088655762646428,
         "logm": -0.9515297133299152,
         "logr": 0.216250583928344,
         "r": 1.6453207843739786,
         "rank_within_system": 9,
         "system_number": 14,
         "total_mass": 0.11180733262184943
        }
       ],
       "type": "dataframe"
      },
      "text/html": [
       "<div>\n",
       "<style scoped>\n",
       "    .dataframe tbody tr th:only-of-type {\n",
       "        vertical-align: middle;\n",
       "    }\n",
       "\n",
       "    .dataframe tbody tr th {\n",
       "        vertical-align: top;\n",
       "    }\n",
       "\n",
       "    .dataframe thead th {\n",
       "        text-align: right;\n",
       "    }\n",
       "</style>\n",
       "<table border=\"1\" class=\"dataframe\">\n",
       "  <thead>\n",
       "    <tr style=\"text-align: right;\">\n",
       "      <th></th>\n",
       "      <th>loga</th>\n",
       "      <th>logm</th>\n",
       "      <th>logr</th>\n",
       "      <th>a</th>\n",
       "      <th>total_mass</th>\n",
       "      <th>r</th>\n",
       "      <th>system_number</th>\n",
       "      <th>rank_within_system</th>\n",
       "    </tr>\n",
       "  </thead>\n",
       "  <tbody>\n",
       "    <tr>\n",
       "      <th>0</th>\n",
       "      <td>1.429163</td>\n",
       "      <td>-0.825617</td>\n",
       "      <td>0.010828</td>\n",
       "      <td>26.863535</td>\n",
       "      <td>0.149411</td>\n",
       "      <td>1.025245</td>\n",
       "      <td>1</td>\n",
       "      <td>1</td>\n",
       "    </tr>\n",
       "    <tr>\n",
       "      <th>1</th>\n",
       "      <td>0.886435</td>\n",
       "      <td>-0.180446</td>\n",
       "      <td>0.222575</td>\n",
       "      <td>7.699020</td>\n",
       "      <td>0.660015</td>\n",
       "      <td>1.669457</td>\n",
       "      <td>1</td>\n",
       "      <td>2</td>\n",
       "    </tr>\n",
       "    <tr>\n",
       "      <th>2</th>\n",
       "      <td>-0.281175</td>\n",
       "      <td>0.712041</td>\n",
       "      <td>-0.095866</td>\n",
       "      <td>0.523389</td>\n",
       "      <td>5.152768</td>\n",
       "      <td>0.801925</td>\n",
       "      <td>1</td>\n",
       "      <td>3</td>\n",
       "    </tr>\n",
       "    <tr>\n",
       "      <th>3</th>\n",
       "      <td>-0.180979</td>\n",
       "      <td>-0.633339</td>\n",
       "      <td>0.678011</td>\n",
       "      <td>0.659206</td>\n",
       "      <td>0.232627</td>\n",
       "      <td>4.764435</td>\n",
       "      <td>1</td>\n",
       "      <td>4</td>\n",
       "    </tr>\n",
       "    <tr>\n",
       "      <th>4</th>\n",
       "      <td>2.516135</td>\n",
       "      <td>0.384830</td>\n",
       "      <td>0.020154</td>\n",
       "      <td>328.197231</td>\n",
       "      <td>2.425663</td>\n",
       "      <td>1.047501</td>\n",
       "      <td>1</td>\n",
       "      <td>5</td>\n",
       "    </tr>\n",
       "    <tr>\n",
       "      <th>...</th>\n",
       "      <td>...</td>\n",
       "      <td>...</td>\n",
       "      <td>...</td>\n",
       "      <td>...</td>\n",
       "      <td>...</td>\n",
       "      <td>...</td>\n",
       "      <td>...</td>\n",
       "      <td>...</td>\n",
       "    </tr>\n",
       "    <tr>\n",
       "      <th>307560</th>\n",
       "      <td>0.300234</td>\n",
       "      <td>0.921544</td>\n",
       "      <td>-0.109365</td>\n",
       "      <td>1.996338</td>\n",
       "      <td>8.347253</td>\n",
       "      <td>0.777383</td>\n",
       "      <td>25000</td>\n",
       "      <td>11</td>\n",
       "    </tr>\n",
       "    <tr>\n",
       "      <th>307561</th>\n",
       "      <td>-0.129011</td>\n",
       "      <td>0.171396</td>\n",
       "      <td>0.768084</td>\n",
       "      <td>0.743000</td>\n",
       "      <td>1.483870</td>\n",
       "      <td>5.862514</td>\n",
       "      <td>25000</td>\n",
       "      <td>12</td>\n",
       "    </tr>\n",
       "    <tr>\n",
       "      <th>307562</th>\n",
       "      <td>0.330665</td>\n",
       "      <td>-0.938333</td>\n",
       "      <td>-0.129449</td>\n",
       "      <td>2.141237</td>\n",
       "      <td>0.115257</td>\n",
       "      <td>0.742251</td>\n",
       "      <td>25000</td>\n",
       "      <td>13</td>\n",
       "    </tr>\n",
       "    <tr>\n",
       "      <th>307563</th>\n",
       "      <td>0.631361</td>\n",
       "      <td>0.718902</td>\n",
       "      <td>0.376998</td>\n",
       "      <td>4.279181</td>\n",
       "      <td>5.234820</td>\n",
       "      <td>2.382309</td>\n",
       "      <td>25000</td>\n",
       "      <td>14</td>\n",
       "    </tr>\n",
       "    <tr>\n",
       "      <th>307564</th>\n",
       "      <td>1.245131</td>\n",
       "      <td>-0.507649</td>\n",
       "      <td>0.408352</td>\n",
       "      <td>17.584553</td>\n",
       "      <td>0.310707</td>\n",
       "      <td>2.560661</td>\n",
       "      <td>25000</td>\n",
       "      <td>15</td>\n",
       "    </tr>\n",
       "  </tbody>\n",
       "</table>\n",
       "<p>307565 rows × 8 columns</p>\n",
       "</div>"
      ],
      "text/plain": [
       "            loga      logm      logr           a  total_mass         r  \\\n",
       "0       1.429163 -0.825617  0.010828   26.863535    0.149411  1.025245   \n",
       "1       0.886435 -0.180446  0.222575    7.699020    0.660015  1.669457   \n",
       "2      -0.281175  0.712041 -0.095866    0.523389    5.152768  0.801925   \n",
       "3      -0.180979 -0.633339  0.678011    0.659206    0.232627  4.764435   \n",
       "4       2.516135  0.384830  0.020154  328.197231    2.425663  1.047501   \n",
       "...          ...       ...       ...         ...         ...       ...   \n",
       "307560  0.300234  0.921544 -0.109365    1.996338    8.347253  0.777383   \n",
       "307561 -0.129011  0.171396  0.768084    0.743000    1.483870  5.862514   \n",
       "307562  0.330665 -0.938333 -0.129449    2.141237    0.115257  0.742251   \n",
       "307563  0.631361  0.718902  0.376998    4.279181    5.234820  2.382309   \n",
       "307564  1.245131 -0.507649  0.408352   17.584553    0.310707  2.560661   \n",
       "\n",
       "        system_number  rank_within_system  \n",
       "0                   1                   1  \n",
       "1                   1                   2  \n",
       "2                   1                   3  \n",
       "3                   1                   4  \n",
       "4                   1                   5  \n",
       "...               ...                 ...  \n",
       "307560          25000                  11  \n",
       "307561          25000                  12  \n",
       "307562          25000                  13  \n",
       "307563          25000                  14  \n",
       "307564          25000                  15  \n",
       "\n",
       "[307565 rows x 8 columns]"
      ]
     },
     "execution_count": 8,
     "metadata": {},
     "output_type": "execute_result"
    }
   ],
   "source": [
    "from scipy.stats import norm, gaussian_kde\n",
    "from sklearn.covariance import EmpiricalCovariance\n",
    "import numpy as np\n",
    "import pandas as pd\n",
    "\n",
    "# Step 1: Estimate marginals globally using KDE\n",
    "kde_loga = gaussian_kde(harder_data_sorted['loga'])\n",
    "kde_logm = gaussian_kde(harder_data_sorted['logm'])\n",
    "kde_logr = gaussian_kde(harder_data_sorted['logr'])\n",
    "\n",
    "# Transform observations to uniforms u = F_empirical(x)\n",
    "harder_data_sorted['u_loga'] = harder_data_sorted['loga'].apply(lambda x: kde_loga.integrate_box_1d(-np.inf, x))\n",
    "harder_data_sorted['u_logm'] = harder_data_sorted['logm'].apply(lambda x: kde_logm.integrate_box_1d(-np.inf, x))\n",
    "harder_data_sorted['u_logr'] = harder_data_sorted['logr'].apply(lambda x: kde_logr.integrate_box_1d(-np.inf, x))\n",
    "\n",
    "# Transform uniforms to normals z = Φ^{-1}(u)\n",
    "harder_data_sorted['z_loga'] = norm.ppf(harder_data_sorted['u_loga'])\n",
    "harder_data_sorted['z_logm'] = norm.ppf(harder_data_sorted['u_logm'])\n",
    "harder_data_sorted['z_logr'] = norm.ppf(harder_data_sorted['u_logr'])\n",
    "\n",
    "# Step 2: Fit a correlation matrix Σ of (z_loga, z_logm, z_logr)\n",
    "z_data = harder_data_sorted[['z_loga', 'z_logm', 'z_logr']].dropna()\n",
    "cov_estimator = EmpiricalCovariance().fit(z_data)\n",
    "correlation_matrix = cov_estimator.covariance_\n",
    "\n",
    "# Step 3: Generate synthetic data\n",
    "synthetic_systems = []\n",
    "N_synthetic_systems = 25000\n",
    "\n",
    "for _ in range(N_synthetic_systems):\n",
    "    # Draw K ~ empirical_Nplanets_dist\n",
    "    K = np.random.choice(unique_counts, p=empirical_pmf)\n",
    "\n",
    "    # Draw multivariate normal z_j ~ N(0, Σ)\n",
    "    z_samples = np.random.multivariate_normal(mean=[0, 0, 0], cov=correlation_matrix, size=K)\n",
    "\n",
    "    # Transform z_j back to uniforms u_j = Φ(z_j)\n",
    "    u_samples = norm.cdf(z_samples)\n",
    "\n",
    "    # Transform uniforms back to original scale x_j = F^{-1}(u_j)\n",
    "    loga_samples = np.array([kde_loga.resample(1).flatten()[0] for u in u_samples[:, 0]])\n",
    "    logm_samples = np.array([kde_logm.resample(1).flatten()[0] for u in u_samples[:, 1]])\n",
    "    logr_samples = np.array([kde_logr.resample(1).flatten()[0] for u in u_samples[:, 2]])\n",
    "\n",
    "    # Convert log values back to original scale\n",
    "    a_samples = 10 ** loga_samples\n",
    "    total_mass_samples = 10 ** logm_samples\n",
    "    r_samples = 10 ** logr_samples\n",
    "\n",
    "    # Create synthetic system DataFrame\n",
    "    synthetic_system = pd.DataFrame({\n",
    "        'loga': loga_samples,\n",
    "        'logm': logm_samples,\n",
    "        'logr': logr_samples,\n",
    "        'a': a_samples,\n",
    "        'total_mass': total_mass_samples,\n",
    "        'r': r_samples\n",
    "    })\n",
    "\n",
    "    # Add system-level metadata to match Approach 1\n",
    "    synthetic_system['system_number'] = _ + 1\n",
    "    synthetic_system['rank_within_system'] = range(1, K + 1)\n",
    "\n",
    "    # Append to synthetic systems\n",
    "    synthetic_systems.append(synthetic_system)\n",
    "\n",
    "# Combine all synthetic systems into a single DataFrame\n",
    "synthetic_data_copula = pd.concat(synthetic_systems, ignore_index=True)\n",
    "synthetic_data_copula"
   ]
  },
  {
   "cell_type": "markdown",
   "metadata": {
    "cell_id": "a6623ee53a2d408eaef0107b6d57c2c2",
    "deepnote_cell_type": "text-cell-h3",
    "formattedRanges": []
   },
   "source": [
    "### Approach 3: HIERARCHICAL BAYESIAN GENERATIVE MODEL"
   ]
  },
  {
   "cell_type": "markdown",
   "metadata": {
    "cell_id": "45bc18f568634ce698b868931a2748db",
    "deepnote_cell_type": "text-cell-p",
    "formattedRanges": []
   },
   "source": [
    "Treat each system as generated from a system-level latent (scale/architecture). Model planet properties conditional on the system latent and planet rank. This gives interpretable parameters and naturally preserves within-system correlations via random effects."
   ]
  },
  {
   "cell_type": "markdown",
   "metadata": {
    "cell_id": "5210f6343f5c40548499092d828a11ce",
    "deepnote_cell_type": "text-cell-p",
    "formattedRanges": [
     {
      "fromCodePoint": 0,
      "marks": {
       "bold": true
      },
      "toCodePoint": 34,
      "type": "marks"
     },
     {
      "fromCodePoint": 328,
      "marks": {
       "bold": true
      },
      "toCodePoint": 355,
      "type": "marks"
     },
     {
      "fromCodePoint": 1117,
      "marks": {
       "bold": true
      },
      "toCodePoint": 1135,
      "type": "marks"
     },
     {
      "fromCodePoint": 1463,
      "marks": {
       "bold": true
      },
      "toCodePoint": 1483,
      "type": "marks"
     },
     {
      "fromCodePoint": 2006,
      "marks": {
       "bold": true
      },
      "toCodePoint": 2026,
      "type": "marks"
     }
    ]
   },
   "source": [
    "1. System-Level Latent Parameters:\n",
    "   - `mu_s`: Mean of the system-level latent variable. This represents the average scale or architecture of planetary systems.\n",
    "   - `sigma_s`: Standard deviation of the system-level latent variable. This captures the variability in scales or architectures across different planetary systems.\n",
    "\n",
    "2. Planet-Level Parameters:\n",
    "   - `alpha0`: Intercept for the planet-level model. This is the baseline value for the logarithm of the semi-major axis (`loga`) of planets.\n",
    "   - `alpha1`: Slope for the rank effect in the planet-level model. This captures how the logarithm of the semi-major axis (`loga`) changes with the rank of the planet within the system.\n",
    "   - `beta0`: Intercept for the logarithm of the mass (`logm`) of planets. This is the baseline value for the mass of planets.\n",
    "   - `beta1`: Slope for the logarithm of the semi-major axis (`loga`) in the mass model. This captures how the mass of planets depends on their semi-major axis.\n",
    "   - `beta2`: Slope for the logarithm of the radius (`logr`) in the mass model. This captures how the mass of planets depends on their radius.\n",
    "\n",
    "3. Random Effects:\n",
    "   - `b_i`: System-specific random effect for the logarithm of the semi-major axis (`loga`). This accounts for variations in the semi-major axis across different systems.\n",
    "   - `b_prime_i`: System-specific random effect for the logarithm of the mass (`logm`). This accounts for variations in the mass across different systems.\n",
    "\n",
    "4. Noise Parameters:\n",
    "   - `sigma_a`: Standard deviation of the noise in the logarithm of the semi-major axis (`loga`). This captures the variability in the semi-major axis that is not explained by the model.\n",
    "   - `sigma_m`: Standard deviation of the noise in the logarithm of the mass (`logm`). This captures the variability in the mass that is not explained by the model.\n",
    "   - `sigma_r`: Standard deviation of the noise in the logarithm of the radius (`logr`). This captures the variability in the radius that is not explained by the model.\n",
    "\n",
    "5. Latent Variables:\n",
    "   - `s_i`: System-level latent variable. This represents the scale or architecture of a specific planetary system.\n",
    "   - `loga_ij`: Logarithm of the semi-major axis for planet `j` in system `i`.\n",
    "   - `logm_ij`: Logarithm of the mass for planet `j` in system `i`.\n",
    "   - `logr_ij`: Logarithm of the radius for planet `j` in system `i`.\n",
    "\n",
    "These parameters collectively define the hierarchical Bayesian generative model, allowing it to capture both system-level and planet-level variations while preserving the statistical relationships observed in the data."
   ]
  },
  {
   "cell_type": "markdown",
   "metadata": {
    "cell_id": "7add9bb1df3540d69dde046c897629fd",
    "deepnote_cell_type": "text-cell-p",
    "formattedRanges": [
     {
      "fromCodePoint": 0,
      "marks": {
       "bold": true
      },
      "toCodePoint": 5,
      "type": "marks"
     },
     {
      "fromCodePoint": 119,
      "marks": {
       "bold": true
      },
      "toCodePoint": 125,
      "type": "marks"
     }
    ]
   },
   "source": [
    "Pros: highest fidelity; can express hierarchical behavior, borrow strength across ranks, explicitly model uncertainty.\n",
    "Cons: heavier compute, more expertise required; MCMC on small dataset can still work well if priors are sensible."
   ]
  },
  {
   "cell_type": "code",
   "execution_count": 9,
   "metadata": {
    "cell_id": "c619bf6f2f424f21b07648a0e644b8f3",
    "deepnote_cell_type": "code",
    "deepnote_table_loading": false,
    "deepnote_table_state": {
     "cellFormattingRules": [],
     "columnDisplayNames": [],
     "columnOrder": [
      "system_number",
      "rank",
      "loga",
      "logr",
      "logm"
     ],
     "conditionalFilters": [],
     "filters": [],
     "hiddenColumnIds": [],
     "pageIndex": 0,
     "pageSize": 10,
     "sortBy": [],
     "wrappedTextColumnIds": []
    },
    "deepnote_variable_name": "",
    "execution_context_id": "6a14e813-77e0-40cb-b29c-6d8859bb06ad",
    "execution_millis": 1861,
    "execution_start": 1758271349886,
    "source_hash": "8736f7ab",
    "sql_integration_id": ""
   },
   "outputs": [
    {
     "data": {
      "application/vnd.deepnote.dataframe.v3+json": {
       "column_count": 8,
       "columns": [
        {
         "dtype": "int64",
         "name": "system_number"
        },
        {
         "dtype": "int64",
         "name": "rank"
        },
        {
         "dtype": "float64",
         "name": "loga"
        },
        {
         "dtype": "float64",
         "name": "logr"
        },
        {
         "dtype": "float64",
         "name": "logm"
        },
        {
         "dtype": "float64",
         "name": "a"
        },
        {
         "dtype": "float64",
         "name": "r"
        },
        {
         "dtype": "float64",
         "name": "total_mass"
        },
        {
         "dtype": "int64",
         "name": "_deepnote_index_column"
        }
       ],
       "preview_row_count": 309817,
       "row_count": 309817,
       "rows": [
        {
         "_deepnote_index_column": 0,
         "a": 6.431415022523416,
         "loga": 0.8083065357336162,
         "logm": -0.8584189687257312,
         "logr": -0.6682018612703723,
         "r": 0.21468323885897247,
         "rank": 1,
         "system_number": 1,
         "total_mass": 0.13854186551690176
        },
        {
         "_deepnote_index_column": 1,
         "a": 72.18361945914998,
         "loga": 1.8584386548324654,
         "logm": -0.7068073762742013,
         "logr": -1.2924389988469627,
         "r": 0.050998922580721834,
         "rank": 2,
         "system_number": 1,
         "total_mass": 0.19642312841122242
        },
        {
         "_deepnote_index_column": 2,
         "a": 2.9581626875752334,
         "loga": 0.4710220548445466,
         "logm": -0.7241559818822145,
         "logr": -0.5747496677155881,
         "r": 0.2662259174117314,
         "rank": 3,
         "system_number": 1,
         "total_mass": 0.18873133769422495
        },
        {
         "_deepnote_index_column": 3,
         "a": 5.08662725792691,
         "loga": 0.7064299142076171,
         "logm": -1.698066711602844,
         "logr": -2.2437685594259564,
         "r": 0.00570468200420532,
         "rank": 4,
         "system_number": 1,
         "total_mass": 0.02004164145783715
        },
        {
         "_deepnote_index_column": 4,
         "a": 5.298922793327205,
         "loga": 0.7241875917777315,
         "logm": -0.5198543279942718,
         "logr": -0.6856850452539812,
         "r": 0.20621248449062018,
         "rank": 5,
         "system_number": 1,
         "total_mass": 0.30209648491217417
        },
        {
         "_deepnote_index_column": 5,
         "a": 21.932036276273895,
         "loga": 1.3410789555486924,
         "logm": -0.40657450537854717,
         "logr": -0.2923384844285886,
         "r": 0.5101072729043705,
         "rank": 6,
         "system_number": 1,
         "total_mass": 0.3921258694186413
        },
        {
         "_deepnote_index_column": 6,
         "a": 19.608063106458875,
         "loga": 1.2924346959767203,
         "logm": -0.6353840545840745,
         "logr": -0.6191364550749022,
         "r": 0.24036074692749496,
         "rank": 7,
         "system_number": 1,
         "total_mass": 0.23153462411879525
        },
        {
         "_deepnote_index_column": 7,
         "a": 17.868859718383504,
         "loga": 1.2520968393654976,
         "logm": -0.0003641291231902856,
         "logr": 0.5127718719939511,
         "r": 3.2566558909390086,
         "rank": 8,
         "system_number": 1,
         "total_mass": 0.9991619131001875
        },
        {
         "_deepnote_index_column": 8,
         "a": 18.841426080685,
         "loga": 1.2751137708312328,
         "logm": -0.537537570903094,
         "logr": -0.6140607011280591,
         "r": 0.2431864084861005,
         "rank": 9,
         "system_number": 1,
         "total_mass": 0.29004302710325314
        },
        {
         "_deepnote_index_column": 9,
         "a": 9.2112831379136,
         "loga": 0.9643201319232625,
         "logm": -0.16031328885365384,
         "logr": 0.2780096007390557,
         "r": 1.8967478512393934,
         "rank": 1,
         "system_number": 2,
         "total_mass": 0.6913320818396593
        }
       ],
       "type": "dataframe"
      },
      "text/html": [
       "<div>\n",
       "<style scoped>\n",
       "    .dataframe tbody tr th:only-of-type {\n",
       "        vertical-align: middle;\n",
       "    }\n",
       "\n",
       "    .dataframe tbody tr th {\n",
       "        vertical-align: top;\n",
       "    }\n",
       "\n",
       "    .dataframe thead th {\n",
       "        text-align: right;\n",
       "    }\n",
       "</style>\n",
       "<table border=\"1\" class=\"dataframe\">\n",
       "  <thead>\n",
       "    <tr style=\"text-align: right;\">\n",
       "      <th></th>\n",
       "      <th>system_number</th>\n",
       "      <th>rank</th>\n",
       "      <th>loga</th>\n",
       "      <th>logr</th>\n",
       "      <th>logm</th>\n",
       "      <th>a</th>\n",
       "      <th>r</th>\n",
       "      <th>total_mass</th>\n",
       "    </tr>\n",
       "  </thead>\n",
       "  <tbody>\n",
       "    <tr>\n",
       "      <th>0</th>\n",
       "      <td>1</td>\n",
       "      <td>1</td>\n",
       "      <td>0.808307</td>\n",
       "      <td>-0.668202</td>\n",
       "      <td>-0.858419</td>\n",
       "      <td>6.431415</td>\n",
       "      <td>0.214683</td>\n",
       "      <td>0.138542</td>\n",
       "    </tr>\n",
       "    <tr>\n",
       "      <th>1</th>\n",
       "      <td>1</td>\n",
       "      <td>2</td>\n",
       "      <td>1.858439</td>\n",
       "      <td>-1.292439</td>\n",
       "      <td>-0.706807</td>\n",
       "      <td>72.183619</td>\n",
       "      <td>0.050999</td>\n",
       "      <td>0.196423</td>\n",
       "    </tr>\n",
       "    <tr>\n",
       "      <th>2</th>\n",
       "      <td>1</td>\n",
       "      <td>3</td>\n",
       "      <td>0.471022</td>\n",
       "      <td>-0.574750</td>\n",
       "      <td>-0.724156</td>\n",
       "      <td>2.958163</td>\n",
       "      <td>0.266226</td>\n",
       "      <td>0.188731</td>\n",
       "    </tr>\n",
       "    <tr>\n",
       "      <th>3</th>\n",
       "      <td>1</td>\n",
       "      <td>4</td>\n",
       "      <td>0.706430</td>\n",
       "      <td>-2.243769</td>\n",
       "      <td>-1.698067</td>\n",
       "      <td>5.086627</td>\n",
       "      <td>0.005705</td>\n",
       "      <td>0.020042</td>\n",
       "    </tr>\n",
       "    <tr>\n",
       "      <th>4</th>\n",
       "      <td>1</td>\n",
       "      <td>5</td>\n",
       "      <td>0.724188</td>\n",
       "      <td>-0.685685</td>\n",
       "      <td>-0.519854</td>\n",
       "      <td>5.298923</td>\n",
       "      <td>0.206212</td>\n",
       "      <td>0.302096</td>\n",
       "    </tr>\n",
       "    <tr>\n",
       "      <th>...</th>\n",
       "      <td>...</td>\n",
       "      <td>...</td>\n",
       "      <td>...</td>\n",
       "      <td>...</td>\n",
       "      <td>...</td>\n",
       "      <td>...</td>\n",
       "      <td>...</td>\n",
       "      <td>...</td>\n",
       "    </tr>\n",
       "    <tr>\n",
       "      <th>309812</th>\n",
       "      <td>24999</td>\n",
       "      <td>7</td>\n",
       "      <td>1.177112</td>\n",
       "      <td>-1.085386</td>\n",
       "      <td>-0.669303</td>\n",
       "      <td>15.035310</td>\n",
       "      <td>0.082151</td>\n",
       "      <td>0.214140</td>\n",
       "    </tr>\n",
       "    <tr>\n",
       "      <th>309813</th>\n",
       "      <td>24999</td>\n",
       "      <td>8</td>\n",
       "      <td>1.136538</td>\n",
       "      <td>-1.225600</td>\n",
       "      <td>-0.767412</td>\n",
       "      <td>13.694237</td>\n",
       "      <td>0.059484</td>\n",
       "      <td>0.170839</td>\n",
       "    </tr>\n",
       "    <tr>\n",
       "      <th>309814</th>\n",
       "      <td>24999</td>\n",
       "      <td>9</td>\n",
       "      <td>1.165388</td>\n",
       "      <td>-0.262670</td>\n",
       "      <td>0.037177</td>\n",
       "      <td>14.634826</td>\n",
       "      <td>0.546173</td>\n",
       "      <td>1.089375</td>\n",
       "    </tr>\n",
       "    <tr>\n",
       "      <th>309815</th>\n",
       "      <td>24999</td>\n",
       "      <td>10</td>\n",
       "      <td>1.204883</td>\n",
       "      <td>0.292153</td>\n",
       "      <td>0.243778</td>\n",
       "      <td>16.028135</td>\n",
       "      <td>1.959536</td>\n",
       "      <td>1.752984</td>\n",
       "    </tr>\n",
       "    <tr>\n",
       "      <th>309816</th>\n",
       "      <td>25000</td>\n",
       "      <td>1</td>\n",
       "      <td>0.153637</td>\n",
       "      <td>0.753697</td>\n",
       "      <td>0.518529</td>\n",
       "      <td>1.424416</td>\n",
       "      <td>5.671486</td>\n",
       "      <td>3.300113</td>\n",
       "    </tr>\n",
       "  </tbody>\n",
       "</table>\n",
       "<p>309817 rows × 8 columns</p>\n",
       "</div>"
      ],
      "text/plain": [
       "        system_number  rank      loga      logr      logm          a  \\\n",
       "0                   1     1  0.808307 -0.668202 -0.858419   6.431415   \n",
       "1                   1     2  1.858439 -1.292439 -0.706807  72.183619   \n",
       "2                   1     3  0.471022 -0.574750 -0.724156   2.958163   \n",
       "3                   1     4  0.706430 -2.243769 -1.698067   5.086627   \n",
       "4                   1     5  0.724188 -0.685685 -0.519854   5.298923   \n",
       "...               ...   ...       ...       ...       ...        ...   \n",
       "309812          24999     7  1.177112 -1.085386 -0.669303  15.035310   \n",
       "309813          24999     8  1.136538 -1.225600 -0.767412  13.694237   \n",
       "309814          24999     9  1.165388 -0.262670  0.037177  14.634826   \n",
       "309815          24999    10  1.204883  0.292153  0.243778  16.028135   \n",
       "309816          25000     1  0.153637  0.753697  0.518529   1.424416   \n",
       "\n",
       "               r  total_mass  \n",
       "0       0.214683    0.138542  \n",
       "1       0.050999    0.196423  \n",
       "2       0.266226    0.188731  \n",
       "3       0.005705    0.020042  \n",
       "4       0.206212    0.302096  \n",
       "...          ...         ...  \n",
       "309812  0.082151    0.214140  \n",
       "309813  0.059484    0.170839  \n",
       "309814  0.546173    1.089375  \n",
       "309815  1.959536    1.752984  \n",
       "309816  5.671486    3.300113  \n",
       "\n",
       "[309817 rows x 8 columns]"
      ]
     },
     "execution_count": 9,
     "metadata": {},
     "output_type": "execute_result"
    }
   ],
   "source": [
    "import numpy as np\n",
    "import pandas as pd\n",
    "\n",
    "# Parameters for the hierarchical model\n",
    "mu_s = 0.7844177520062057\n",
    "sigma_s = 0.6583803912753419\n",
    "sigma_b = 0.48849021635284934\n",
    "sigma_r = 0.6650052454763183\n",
    "sigma_m = 0.11551050725536592\n",
    "\n",
    "# Rank-specific parameters (example values, can be tuned)\n",
    "mu_rank = {1: -0.41354525522855723, 2: 0.6154700751371269, 3: -0.7861707573708009, 4: -0.6176370068351965, 5: -0.6104519370864728}\n",
    "sigma_a_rank = {1: 0.07901177890230987, 2: 0.07509563368259634, 3: 0.0292738569532166, 4: 0.06333842011271064, 5: 0.02802336044188404}\n",
    "gamma_rank = {1: -0.045501651713602105, 2: -0.8482279239517564, 3: -0.6294392778910575, 4: -0.651308761419564, 5: -0.8225511378024634}\n",
    "\n",
    "alpha0 = 0.13923216690601695\n",
    "alpha1 = 0.14270414893781563\n",
    "beta0 = 0.1378215432715184\n",
    "beta1 = 0.5762397155790562\n",
    "beta2 = 0.22503815840116356\n",
    "\n",
    "# Number of synthetic systems to generate\n",
    "N_synthetic_systems = 25000\n",
    "\n",
    "# Placeholder for synthetic systems\n",
    "synthetic_systems = []\n",
    "\n",
    "# Generate synthetic systems\n",
    "for i in range(N_synthetic_systems):\n",
    "    # Sample number of planets in the system (K_i)\n",
    "    K_i = np.random.choice(unique_counts, p=empirical_pmf)  # Using empirical PMF\n",
    "\n",
    "    # Sample system scale (s_i)\n",
    "    s_i = np.random.normal(mu_s, sigma_s)\n",
    "\n",
    "    # Sample system-level random effects\n",
    "    b_i = np.random.normal(0, sigma_b)\n",
    "    b_prime_i = np.random.normal(0, sigma_b)\n",
    "\n",
    "    # Placeholder for planets in the system\n",
    "    planets = []\n",
    "\n",
    "    for j in range(1, K_i + 1):\n",
    "        rank = j\n",
    "\n",
    "        # Sample loga_ij\n",
    "        eps_a_ij = np.random.normal(0, sigma_a_rank.get(rank, 0.05))\n",
    "        loga_ij = s_i + mu_rank.get(rank, 0.0) + eps_a_ij\n",
    "\n",
    "        # Sample logr_ij\n",
    "        logr_ij = np.random.normal(alpha0 + alpha1 * loga_ij + gamma_rank.get(rank, 0.0) + b_i, sigma_r)\n",
    "\n",
    "        # Sample logm_ij\n",
    "        logm_ij = np.random.normal(beta0 + beta1 * logr_ij + beta2 * loga_ij + b_prime_i, sigma_m)\n",
    "\n",
    "        # Convert log values back to original scale\n",
    "        a_ij = 10 ** loga_ij\n",
    "        r_ij = 10 ** logr_ij\n",
    "        total_mass_ij = 10 ** logm_ij\n",
    "\n",
    "        # Append planet data\n",
    "        planets.append({\n",
    "            'system_number': i + 1,\n",
    "            'rank': rank,\n",
    "            'loga': loga_ij,\n",
    "            'logr': logr_ij,\n",
    "            'logm': logm_ij,\n",
    "            'a': a_ij,\n",
    "            'r': r_ij,\n",
    "            'total_mass': total_mass_ij\n",
    "        })\n",
    "\n",
    "    # Append system data\n",
    "    synthetic_systems.extend(planets)\n",
    "\n",
    "# Combine all synthetic systems into a single DataFrame\n",
    "synthetic_data_hierarchical = pd.DataFrame(synthetic_systems)\n",
    "synthetic_data_hierarchical"
   ]
  },
  {
   "cell_type": "markdown",
   "metadata": {
    "cell_id": "107dfaabf0144ca2abf84c81930e2c9f",
    "deepnote_cell_type": "text-cell-p"
   },
   "source": [
    "The hierarchical Bayesian generative model has been implemented, generating synthetic planetary systems with system-level and planet-level dependencies. The resulting data includes system numbers, planet ranks, and the generated log-scaled properties (loga, logr, logm)."
   ]
  },
  {
   "cell_type": "markdown",
   "metadata": {
    "cell_id": "723ba77abb3e417baf4601eadbce5427",
    "deepnote_cell_type": "text-cell-h3",
    "formattedRanges": []
   },
   "source": [
    "### Approach 4: Concrete synthetic generation pipeline"
   ]
  },
  {
   "cell_type": "markdown",
   "metadata": {
    "cell_id": "e4ab571f963748ecb9d734a29d971b7e",
    "deepnote_cell_type": "text-cell-p",
    "formattedRanges": []
   },
   "source": [
    "Unlike pure resample+jitter (Approach 1), it can create new system architectures not directly in the dataset."
   ]
  },
  {
   "cell_type": "markdown",
   "metadata": {
    "cell_id": "2c7411cdd0944a758e1fa7b5d7ec0811",
    "deepnote_cell_type": "text-cell-p",
    "formattedRanges": []
   },
   "source": [
    "Unlike copula (Approach 2), it encodes system-level coherence: planets in one system are related through the shared system_scale and rank offsets."
   ]
  },
  {
   "cell_type": "markdown",
   "metadata": {
    "cell_id": "1209044cada04534986e6fa951a7f14b",
    "deepnote_cell_type": "text-cell-p",
    "formattedRanges": []
   },
   "source": [
    "Unlike your first attempt at hierarchical Bayes (Approach 3), it’s easier to fit and run while still reflecting the hierarchy."
   ]
  },
  {
   "cell_type": "markdown",
   "metadata": {
    "cell_id": "42c45395905e48be89ddb5023aa09b97",
    "deepnote_cell_type": "text-cell-p",
    "formattedRanges": [
     {
      "fromCodePoint": 0,
      "marks": {
       "bold": true
      },
      "toCodePoint": 41,
      "type": "marks"
     }
    ]
   },
   "source": [
    "1. Model the number of planets per system"
   ]
  },
  {
   "cell_type": "markdown",
   "metadata": {
    "cell_id": "c8027d96490642e2ae3cb45dc2c30b27",
    "deepnote_cell_type": "text-cell-bullet",
    "formattedRanges": []
   },
   "source": [
    "- Empirically estimate the distribution of planets per system (K)"
   ]
  },
  {
   "cell_type": "markdown",
   "metadata": {
    "cell_id": "f6b940cce02249588f9ea2d8ec8de29e",
    "deepnote_cell_type": "text-cell-bullet",
    "formattedRanges": []
   },
   "source": [
    "- You can fit a simple distribution (Poisson / Negative Binomial) or just resample directly from the empirical PMF."
   ]
  },
  {
   "cell_type": "markdown",
   "metadata": {
    "cell_id": "44aa47dec5b7479abb1fec5f7aab0fc3",
    "deepnote_cell_type": "text-cell-p",
    "formattedRanges": [
     {
      "fromCodePoint": 0,
      "marks": {
       "bold": true
      },
      "toCodePoint": 50,
      "type": "marks"
     }
    ]
   },
   "source": [
    "2. Model a system-level “scale” in semi-major axis"
   ]
  },
  {
   "cell_type": "markdown",
   "metadata": {
    "cell_id": "5b728375f660412a8b0228f8d3de554d",
    "deepnote_cell_type": "text-cell-bullet",
    "formattedRanges": []
   },
   "source": [
    "- Each planetary system tends to have a maximum extent (max(log a)). "
   ]
  },
  {
   "cell_type": "markdown",
   "metadata": {
    "cell_id": "41d23e993fb441809df330b775b618bc",
    "deepnote_cell_type": "text-cell-bullet",
    "formattedRanges": []
   },
   "source": [
    "- Fit the distribution of this system scale across your real systems (e.g., Normal in log-space or kernel density). "
   ]
  },
  {
   "cell_type": "markdown",
   "metadata": {
    "cell_id": "bd09114ea8254eefa6cc31a786adae01",
    "deepnote_cell_type": "text-cell-bullet",
    "formattedRanges": []
   },
   "source": [
    "- When generating, draw one system_scale per synthetic system."
   ]
  },
  {
   "cell_type": "markdown",
   "metadata": {
    "cell_id": "23dbe93289a341e3b1874e575f266348",
    "deepnote_cell_type": "text-cell-p",
    "formattedRanges": [
     {
      "fromCodePoint": 0,
      "marks": {
       "bold": true
      },
      "toCodePoint": 54,
      "type": "marks"
     }
    ]
   },
   "source": [
    "3. Model planet positions relative to the system scale"
   ]
  },
  {
   "cell_type": "markdown",
   "metadata": {
    "cell_id": "ea4479f74490484e8402164de0b79dfc",
    "deepnote_cell_type": "text-cell-bullet",
    "formattedRanges": []
   },
   "source": [
    "- Sort planets in each real system by a."
   ]
  },
  {
   "cell_type": "markdown",
   "metadata": {
    "cell_id": "8cfac3b7b4b147dcba4e33ddff5269c3",
    "deepnote_cell_type": "text-cell-bullet",
    "formattedRanges": []
   },
   "source": [
    "- For each rank (1st, 2nd, …), compute offset from the system scale: \\Delta a_{rank} = \\log a_{rank} - \\text{system_scale}"
   ]
  },
  {
   "cell_type": "markdown",
   "metadata": {
    "cell_id": "2080a6e6200749ceaa68251b87de1a73",
    "deepnote_cell_type": "text-cell-bullet",
    "formattedRanges": []
   },
   "source": [
    "- Estimate mean & std of these offsets (per rank)."
   ]
  },
  {
   "cell_type": "markdown",
   "metadata": {
    "cell_id": "5217214cd5b44de0ae66a85ff69e3cfb",
    "deepnote_cell_type": "text-cell-bullet",
    "formattedRanges": []
   },
   "source": [
    "- When generating, for a planet of given rank, draw an offset from that distribution and add to the system scale."
   ]
  },
  {
   "cell_type": "markdown",
   "metadata": {
    "cell_id": "57ef0e2c05314d07a85fae3627493844",
    "deepnote_cell_type": "text-cell-bullet",
    "formattedRanges": []
   },
   "source": [
    "- This captures the spacing pattern inside systems."
   ]
  },
  {
   "cell_type": "markdown",
   "metadata": {
    "cell_id": "560947ad67104c8191240276e97635cb",
    "deepnote_cell_type": "text-cell-p",
    "formattedRanges": [
     {
      "fromCodePoint": 0,
      "marks": {
       "bold": true
      },
      "toCodePoint": 36,
      "type": "marks"
     }
    ]
   },
   "source": [
    "4. Model radius & mass conditionally"
   ]
  },
  {
   "cell_type": "markdown",
   "metadata": {
    "cell_id": "fb5fbd3a45874c2b9ed932dbc59a0089",
    "deepnote_cell_type": "text-cell-bullet",
    "formattedRanges": []
   },
   "source": [
    "- Fit regressions (in log-space):\n",
    "logr ~ α₀ + α₁*loga + α₂*rank + ε\n",
    "logm ~ β₀ + β₁*logr + β₂*loga + β₃*rank + ε"
   ]
  },
  {
   "cell_type": "markdown",
   "metadata": {
    "cell_id": "83ff1c5c9cb64e00b51bcf28828c7b3c",
    "deepnote_cell_type": "text-cell-bullet",
    "formattedRanges": []
   },
   "source": [
    "- These regressions encode the empirical mass–radius relation and any weak dependence on distance/rank."
   ]
  },
  {
   "cell_type": "markdown",
   "metadata": {
    "cell_id": "1d358e2c377049e1a755d9c912b7cd9a",
    "deepnote_cell_type": "text-cell-bullet",
    "formattedRanges": []
   },
   "source": [
    "- Save residual distributions (variance or KDE)."
   ]
  },
  {
   "cell_type": "markdown",
   "metadata": {
    "cell_id": "373674431ec84501b0ce8ece19f13fe7",
    "deepnote_cell_type": "text-cell-bullet",
    "formattedRanges": []
   },
   "source": [
    "- When generating, sample logr and logm using these regressions + noise."
   ]
  },
  {
   "cell_type": "markdown",
   "metadata": {
    "cell_id": "0e500170a5f147fa82cdc0167a94563e",
    "deepnote_cell_type": "text-cell-p",
    "formattedRanges": [
     {
      "fromCodePoint": 0,
      "marks": {
       "bold": true
      },
      "toCodePoint": 18,
      "type": "marks"
     }
    ]
   },
   "source": [
    "5. Post-processing"
   ]
  },
  {
   "cell_type": "markdown",
   "metadata": {
    "cell_id": "171fcd4a156b4bef9c9b047ae641f262",
    "deepnote_cell_type": "text-cell-bullet",
    "formattedRanges": []
   },
   "source": [
    "- Clip to plausible ranges (e.g. exclude negative or unrealistic values)."
   ]
  },
  {
   "cell_type": "markdown",
   "metadata": {
    "cell_id": "805d0dc85a0844b095d2cb1a6aa0117e",
    "deepnote_cell_type": "text-cell-bullet",
    "formattedRanges": []
   },
   "source": [
    "- Add observational noise if you want the synthetic data to mimic measurement uncertainty."
   ]
  },
  {
   "cell_type": "markdown",
   "metadata": {
    "cell_id": "28e2420397594a26b29c9d5a11249421",
    "deepnote_cell_type": "text-cell-bullet",
    "formattedRanges": []
   },
   "source": [
    "- Optionally renormalize to match global marginals more tightly."
   ]
  },
  {
   "cell_type": "markdown",
   "metadata": {},
   "source": [
    "## !!!!There is an issue with generating to many systems using this approach. The bug is not yet fixed"
   ]
  },
  {
   "cell_type": "code",
   "execution_count": 10,
   "metadata": {
    "cell_id": "c5255741cfbe4fe09636a4f0859cbc0c",
    "deepnote_cell_type": "code",
    "deepnote_variable_name": "",
    "execution_context_id": "6a14e813-77e0-40cb-b29c-6d8859bb06ad",
    "execution_millis": 19770,
    "execution_start": 1758271351805,
    "source_hash": "1b3d6b14",
    "sql_integration_id": ""
   },
   "outputs": [
    {
     "data": {
      "application/vnd.deepnote.dataframe.v3+json": {
       "column_count": 7,
       "columns": [
        {
         "dtype": "int64",
         "name": "system_number"
        },
        {
         "dtype": "float64",
         "name": "loga"
        },
        {
         "dtype": "float64",
         "name": "logm"
        },
        {
         "dtype": "float64",
         "name": "logr"
        },
        {
         "dtype": "float64",
         "name": "a"
        },
        {
         "dtype": "float64",
         "name": "r"
        },
        {
         "dtype": "float64",
         "name": "total_mass"
        },
        {
         "dtype": "int64",
         "name": "_deepnote_index_column"
        }
       ],
       "preview_row_count": 2522141,
       "row_count": 2522141,
       "rows": [
        {
         "_deepnote_index_column": 0,
         "a": 0.3397499243148676,
         "loga": -0.46884063134201415,
         "logm": -0.17385432230477504,
         "logr": -0.3406804441885425,
         "r": 0.4563725934237769,
         "system_number": 1,
         "total_mass": 0.6701093500452168
        },
        {
         "_deepnote_index_column": 1,
         "a": 0.4090543930709037,
         "loga": -0.38821893883887737,
         "logm": -0.44956671942990745,
         "logr": -0.697936961322764,
         "r": 0.20047630014426962,
         "system_number": 1,
         "total_mass": 0.35516755090705027
        },
        {
         "_deepnote_index_column": 2,
         "a": 0.5313096824203521,
         "loga": -0.2746522695722604,
         "logm": -1.1975010673926654,
         "logr": -2.213052778012461,
         "r": 0.006122759798354773,
         "system_number": 1,
         "total_mass": 0.06345983412874028
        },
        {
         "_deepnote_index_column": 3,
         "a": 0.5730410553088724,
         "loga": -0.2418142620546594,
         "logm": 0.4725457848394964,
         "logr": 0.3317952541549571,
         "r": 2.146818129422219,
         "system_number": 1,
         "total_mass": 2.968559682886175
        },
        {
         "_deepnote_index_column": 4,
         "a": 1.464900892823304,
         "loga": 0.16580824369633568,
         "logm": 0.3263247740553508,
         "logr": 0.22607899189737962,
         "r": 1.6829801430285058,
         "system_number": 1,
         "total_mass": 2.1199458803356284
        },
        {
         "_deepnote_index_column": 5,
         "a": 1.504042900118384,
         "loga": 0.17726022390121698,
         "logm": -0.13291598820006084,
         "logr": -0.39309110630118776,
         "r": 0.40449102866403025,
         "system_number": 1,
         "total_mass": 0.7363495263503292
        },
        {
         "_deepnote_index_column": 6,
         "a": 1.5694959588071895,
         "loga": 0.19576020180095616,
         "logm": -0.18117428716302406,
         "logr": -0.6291952131552025,
         "r": 0.23485769102068216,
         "system_number": 1,
         "total_mass": 0.6589094145668252
        },
        {
         "_deepnote_index_column": 7,
         "a": 1.599244658681673,
         "loga": 0.203914908891586,
         "logm": 0.1503963855831897,
         "logr": -0.09545652743020977,
         "r": 0.8026819047410638,
         "system_number": 1,
         "total_mass": 1.413827372464088
        },
        {
         "_deepnote_index_column": 8,
         "a": 1.6110591190337016,
         "loga": 0.20711147747633987,
         "logm": 0.4092490421351975,
         "logr": 0.21036968944497994,
         "r": 1.6231912370231618,
         "system_number": 1,
         "total_mass": 2.5659550377850526
        },
        {
         "_deepnote_index_column": 9,
         "a": 1.6130251298206506,
         "loga": 0.20764113345060134,
         "logm": 0.7043917106344513,
         "logr": 0.7761485609304696,
         "r": 5.972395518772048,
         "system_number": 1,
         "total_mass": 5.0628109488196085
        }
       ],
       "type": "dataframe"
      },
      "text/html": [
       "<div>\n",
       "<style scoped>\n",
       "    .dataframe tbody tr th:only-of-type {\n",
       "        vertical-align: middle;\n",
       "    }\n",
       "\n",
       "    .dataframe tbody tr th {\n",
       "        vertical-align: top;\n",
       "    }\n",
       "\n",
       "    .dataframe thead th {\n",
       "        text-align: right;\n",
       "    }\n",
       "</style>\n",
       "<table border=\"1\" class=\"dataframe\">\n",
       "  <thead>\n",
       "    <tr style=\"text-align: right;\">\n",
       "      <th></th>\n",
       "      <th>system_number</th>\n",
       "      <th>loga</th>\n",
       "      <th>logm</th>\n",
       "      <th>logr</th>\n",
       "      <th>a</th>\n",
       "      <th>r</th>\n",
       "      <th>total_mass</th>\n",
       "    </tr>\n",
       "  </thead>\n",
       "  <tbody>\n",
       "    <tr>\n",
       "      <th>0</th>\n",
       "      <td>1</td>\n",
       "      <td>-0.468841</td>\n",
       "      <td>-0.173854</td>\n",
       "      <td>-0.340680</td>\n",
       "      <td>0.339750</td>\n",
       "      <td>0.456373</td>\n",
       "      <td>0.670109</td>\n",
       "    </tr>\n",
       "    <tr>\n",
       "      <th>1</th>\n",
       "      <td>1</td>\n",
       "      <td>-0.388219</td>\n",
       "      <td>-0.449567</td>\n",
       "      <td>-0.697937</td>\n",
       "      <td>0.409054</td>\n",
       "      <td>0.200476</td>\n",
       "      <td>0.355168</td>\n",
       "    </tr>\n",
       "    <tr>\n",
       "      <th>2</th>\n",
       "      <td>1</td>\n",
       "      <td>-0.274652</td>\n",
       "      <td>-1.197501</td>\n",
       "      <td>-2.213053</td>\n",
       "      <td>0.531310</td>\n",
       "      <td>0.006123</td>\n",
       "      <td>0.063460</td>\n",
       "    </tr>\n",
       "    <tr>\n",
       "      <th>3</th>\n",
       "      <td>1</td>\n",
       "      <td>-0.241814</td>\n",
       "      <td>0.472546</td>\n",
       "      <td>0.331795</td>\n",
       "      <td>0.573041</td>\n",
       "      <td>2.146818</td>\n",
       "      <td>2.968560</td>\n",
       "    </tr>\n",
       "    <tr>\n",
       "      <th>4</th>\n",
       "      <td>1</td>\n",
       "      <td>0.165808</td>\n",
       "      <td>0.326325</td>\n",
       "      <td>0.226079</td>\n",
       "      <td>1.464901</td>\n",
       "      <td>1.682980</td>\n",
       "      <td>2.119946</td>\n",
       "    </tr>\n",
       "    <tr>\n",
       "      <th>...</th>\n",
       "      <td>...</td>\n",
       "      <td>...</td>\n",
       "      <td>...</td>\n",
       "      <td>...</td>\n",
       "      <td>...</td>\n",
       "      <td>...</td>\n",
       "      <td>...</td>\n",
       "    </tr>\n",
       "    <tr>\n",
       "      <th>2522136</th>\n",
       "      <td>5000</td>\n",
       "      <td>0.624147</td>\n",
       "      <td>0.311081</td>\n",
       "      <td>-0.093262</td>\n",
       "      <td>4.208687</td>\n",
       "      <td>0.806747</td>\n",
       "      <td>2.046827</td>\n",
       "    </tr>\n",
       "    <tr>\n",
       "      <th>2522137</th>\n",
       "      <td>5000</td>\n",
       "      <td>0.626255</td>\n",
       "      <td>0.625773</td>\n",
       "      <td>0.565381</td>\n",
       "      <td>4.229167</td>\n",
       "      <td>3.676045</td>\n",
       "      <td>4.224482</td>\n",
       "    </tr>\n",
       "    <tr>\n",
       "      <th>2522138</th>\n",
       "      <td>5000</td>\n",
       "      <td>0.629157</td>\n",
       "      <td>0.618868</td>\n",
       "      <td>0.523714</td>\n",
       "      <td>4.257518</td>\n",
       "      <td>3.339747</td>\n",
       "      <td>4.157845</td>\n",
       "    </tr>\n",
       "    <tr>\n",
       "      <th>2522139</th>\n",
       "      <td>5000</td>\n",
       "      <td>0.679416</td>\n",
       "      <td>1.020449</td>\n",
       "      <td>1.305984</td>\n",
       "      <td>4.779874</td>\n",
       "      <td>20.229458</td>\n",
       "      <td>10.482107</td>\n",
       "    </tr>\n",
       "    <tr>\n",
       "      <th>2522140</th>\n",
       "      <td>5000</td>\n",
       "      <td>1.228953</td>\n",
       "      <td>0.106958</td>\n",
       "      <td>-0.636652</td>\n",
       "      <td>16.941538</td>\n",
       "      <td>0.230860</td>\n",
       "      <td>1.279258</td>\n",
       "    </tr>\n",
       "  </tbody>\n",
       "</table>\n",
       "<p>2522141 rows × 7 columns</p>\n",
       "</div>"
      ],
      "text/plain": [
       "         system_number      loga      logm      logr          a          r  \\\n",
       "0                    1 -0.468841 -0.173854 -0.340680   0.339750   0.456373   \n",
       "1                    1 -0.388219 -0.449567 -0.697937   0.409054   0.200476   \n",
       "2                    1 -0.274652 -1.197501 -2.213053   0.531310   0.006123   \n",
       "3                    1 -0.241814  0.472546  0.331795   0.573041   2.146818   \n",
       "4                    1  0.165808  0.326325  0.226079   1.464901   1.682980   \n",
       "...                ...       ...       ...       ...        ...        ...   \n",
       "2522136           5000  0.624147  0.311081 -0.093262   4.208687   0.806747   \n",
       "2522137           5000  0.626255  0.625773  0.565381   4.229167   3.676045   \n",
       "2522138           5000  0.629157  0.618868  0.523714   4.257518   3.339747   \n",
       "2522139           5000  0.679416  1.020449  1.305984   4.779874  20.229458   \n",
       "2522140           5000  1.228953  0.106958 -0.636652  16.941538   0.230860   \n",
       "\n",
       "         total_mass  \n",
       "0          0.670109  \n",
       "1          0.355168  \n",
       "2          0.063460  \n",
       "3          2.968560  \n",
       "4          2.119946  \n",
       "...             ...  \n",
       "2522136    2.046827  \n",
       "2522137    4.224482  \n",
       "2522138    4.157845  \n",
       "2522139   10.482107  \n",
       "2522140    1.279258  \n",
       "\n",
       "[2522141 rows x 7 columns]"
      ]
     },
     "execution_count": 10,
     "metadata": {},
     "output_type": "execute_result"
    }
   ],
   "source": [
    "import numpy as np\n",
    "import pandas as pd\n",
    "\n",
    "# Ensure harder_data_sorted is defined by sorting the harder_data DataFrame\n",
    "harder_data_sorted = harder_data.sort_values(by=['system_number', 'a'])\n",
    "\n",
    "# Define unique_counts and empirical_pmf for sampling number of planets\n",
    "unique_counts, counts = np.unique(harder_data_sorted['system_number'], return_counts=True)\n",
    "empirical_pmf = counts / counts.sum()\n",
    "\n",
    "# Define functions for sampling and regression\n",
    "def sample_from_P_K():\n",
    "    # Example: sample number of planets from an empirical PMF\n",
    "    return np.random.choice(unique_counts, p=empirical_pmf)\n",
    "\n",
    "def sample_system_scale():\n",
    "    # Example: sample system scale from a normal distribution\n",
    "    return np.random.normal(mu_s, sigma_s)\n",
    "\n",
    "def regression_radius(loga, rank):\n",
    "    # Example: regression for radius\n",
    "    return alpha0 + alpha1 * loga + gamma_rank.get(rank, 0.0)\n",
    "\n",
    "def regression_mass(logr, loga, rank):\n",
    "    # Example: regression for mass\n",
    "    return beta0 + beta1 * logr + beta2 * loga\n",
    "\n",
    "# Parameters\n",
    "mu_s = 0.7844177520062057\n",
    "sigma_s = 0.6583803912753419\n",
    "sigma_r = 0.6650052454763183\n",
    "sigma_m = 0.11551050725536592\n",
    "\n",
    "mean_offset = {1: -0.41354525522855723, 2: 0.6154700751371269, 3: -0.7861707573708009, 4: -0.6176370068351965, 5: -0.6104519370864728}\n",
    "sd_offset = {1: 0.07901177890230987, 2: 0.07509563368259634, 3: 0.0292738569532166, 4: 0.06333842011271064, 5: 0.02802336044188404}\n",
    "\n",
    "gamma_rank = {1: -0.045501651713602105, 2: -0.8482279239517564, 3: -0.6294392778910575, 4: -0.651308761419564, 5: -0.8225511378024634}\n",
    "\n",
    "alpha0 = 0.13923216690601695\n",
    "alpha1 = 0.14270414893781563\n",
    "beta0 = 0.1378215432715184\n",
    "beta1 = 0.5762397155790562\n",
    "beta2 = 0.22503815840116356\n",
    "\n",
    "# Number of synthetic systems to generate\n",
    "N_synthetic_systems = 5000\n",
    "\n",
    "# Placeholder for synthetic systems\n",
    "synthetic_systems = []\n",
    "\n",
    "# Generate synthetic systems\n",
    "for system_id in range(1, N_synthetic_systems + 1):\n",
    "    # Step 1: number of planets\n",
    "    K = sample_from_P_K()\n",
    "\n",
    "    # Step 2: system scale\n",
    "    s = sample_system_scale()\n",
    "\n",
    "    # Step 3–4: planets\n",
    "    planets = []\n",
    "    for rank in range(1, K + 1):\n",
    "        offset = np.random.normal(mean_offset.get(rank, 0.0), sd_offset.get(rank, 0.05))\n",
    "        loga = s + offset\n",
    "\n",
    "        logr = regression_radius(loga, rank) + np.random.normal(0, sigma_r)\n",
    "        logm = regression_mass(logr, loga, rank) + np.random.normal(0, sigma_m)\n",
    "\n",
    "        # Convert log values back to original scale\n",
    "        a = 10 ** loga\n",
    "        r = 10 ** logr\n",
    "        total_mass = 10 ** logm\n",
    "\n",
    "        planets.append((loga, logm, logr, a, r, total_mass))\n",
    "\n",
    "    # Sort planets by loga\n",
    "    planets.sort(key=lambda x: x[0])\n",
    "\n",
    "    # Assign system number and save\n",
    "    for planet in planets:\n",
    "        synthetic_systems.append({\n",
    "            'system_number': system_id,\n",
    "            'loga': planet[0],\n",
    "            'logm': planet[1],\n",
    "            'logr': planet[2],\n",
    "            'a': planet[3],\n",
    "            'r': planet[4],\n",
    "            'total_mass': planet[5]\n",
    "        })\n",
    "\n",
    "# Convert to DataFrame\n",
    "synthetic_data_appr4 = pd.DataFrame(synthetic_systems)\n",
    "synthetic_data_appr4"
   ]
  },
  {
   "cell_type": "markdown",
   "metadata": {
    "cell_id": "694a260f35cd46feacc500e267421a7c",
    "deepnote_cell_type": "text-cell-h2",
    "formattedRanges": []
   },
   "source": [
    "## Validation & Metrics"
   ]
  },
  {
   "cell_type": "markdown",
   "metadata": {
    "cell_id": "afdb5e1ea6854a89880c3212c8cea720",
    "deepnote_cell_type": "text-cell-h3",
    "formattedRanges": []
   },
   "source": [
    "### Overlap"
   ]
  },
  {
   "cell_type": "markdown",
   "metadata": {
    "cell_id": "3a49fdcd7a684860b93218246fbb37ed",
    "deepnote_cell_type": "text-cell-p",
    "formattedRanges": []
   },
   "source": [
    "Overlap of the results in % between generated and source info."
   ]
  },
  {
   "cell_type": "code",
   "execution_count": 11,
   "metadata": {
    "cell_id": "b16713c8ef6b408ea281c1f828dce212",
    "deepnote_cell_type": "code",
    "deepnote_variable_name": "",
    "execution_context_id": "6a14e813-77e0-40cb-b29c-6d8859bb06ad",
    "execution_millis": 114,
    "execution_start": 1758271371626,
    "source_hash": "3f68d164",
    "sql_integration_id": ""
   },
   "outputs": [
    {
     "name": "stdout",
     "output_type": "stream",
     "text": [
      "       Approach  Overlap Percentage (%)\n",
      "0    Approach 1                0.000000\n",
      "1        Copula                0.008123\n",
      "2  Hierarchical                0.000000\n",
      "3    Approach 4                0.000000\n"
     ]
    }
   ],
   "source": [
    "import numpy as np\n",
    "import pandas as pd\n",
    "\n",
    "# Use harder_data as the source data\n",
    "source_data = harder_data[['a', 'total_mass', 'r']]\n",
    "\n",
    "# Extract generated data for each approach\n",
    "# Ensure the columns match the source_data columns for comparison\n",
    "generated_data_app1 = synthetic_data_appr4[['a', 'total_mass', 'r']]\n",
    "generated_data_copula = synthetic_data_copula[['a', 'total_mass', 'r']]\n",
    "generated_data_hierarchical = synthetic_data_hierarchical[['a', 'total_mass', 'r']]\n",
    "generated_data_appr4 = synthetic_data_appr4[['a', 'total_mass', 'r']]\n",
    "\n",
    "# Function to calculate overlap percentage\n",
    "def calculate_overlap_percentage(source_data, generated_data, tolerance=0.1):\n",
    "    # Align indices for comparison\n",
    "    source_data, generated_data = source_data.align(generated_data, join='inner', axis=0)\n",
    "\n",
    "    # Calculate the absolute difference between source and generated data\n",
    "    difference = np.abs(source_data.values - generated_data.values)\n",
    "\n",
    "    # Check if the difference is within the tolerance\n",
    "    within_tolerance = (difference <= tolerance).all(axis=1)\n",
    "\n",
    "    # Calculate the overlap percentage\n",
    "    overlap_percentage = (within_tolerance.sum() / len(source_data)) * 100\n",
    "\n",
    "    return overlap_percentage\n",
    "\n",
    "# Calculate overlaps for each approach\n",
    "overlap_app1 = calculate_overlap_percentage(source_data, generated_data_app1)\n",
    "overlap_copula = calculate_overlap_percentage(source_data, generated_data_copula)\n",
    "overlap_hierarchical = calculate_overlap_percentage(source_data, generated_data_hierarchical)\n",
    "overlap_appr4 = calculate_overlap_percentage(source_data, generated_data_appr4)\n",
    "\n",
    "# Create a DataFrame for better overview\n",
    "overlap_data = {\n",
    "    'Approach': ['Approach 1', 'Copula', 'Hierarchical', 'Approach 4'],\n",
    "    'Overlap Percentage (%)': [overlap_app1, overlap_copula, overlap_hierarchical, overlap_appr4]\n",
    "}\n",
    "\n",
    "# Convert to DataFrame and display\n",
    "overlap_df = pd.DataFrame(overlap_data)\n",
    "print(overlap_df)"
   ]
  },
  {
   "cell_type": "markdown",
   "metadata": {
    "cell_id": "2ba733f2044b4c7fac25b6f92bc288ce",
    "deepnote_app_block_visible": false,
    "deepnote_cell_type": "text-cell-h3",
    "formattedRanges": [],
    "is_collapsed": false
   },
   "source": [
    "### Marginal-Test (KS Test / Cramer-von Mises)"
   ]
  },
  {
   "cell_type": "markdown",
   "metadata": {
    "cell_id": "947aee4517c046a9847d907b2adb5a41",
    "deepnote_cell_type": "text-cell-p",
    "formattedRanges": [
     {
      "fromCodePoint": 286,
      "marks": {
       "bold": true
      },
      "toCodePoint": 297,
      "type": "marks"
     },
     {
      "fromCodePoint": 853,
      "marks": {
       "bold": true
      },
      "toCodePoint": 878,
      "type": "marks"
     },
     {
      "fromCodePoint": 1351,
      "marks": {
       "bold": true
      },
      "toCodePoint": 1370,
      "type": "marks"
     },
     {
      "fromCodePoint": 1371,
      "marks": {
       "bold": true
      },
      "toCodePoint": 1385,
      "type": "marks"
     },
     {
      "fromCodePoint": 1543,
      "marks": {
       "bold": true
      },
      "toCodePoint": 1556,
      "type": "marks"
     }
    ]
   },
   "source": [
    "The Kolmogorov-Smirnov (KS) Test and the Cramer-von Mises (CvM) Test are statistical tests used to compare two distributions or to test whether a sample comes from a specific distribution. They are commonly used in model validation to assess how well synthetic data matches real data.\n",
    "\n",
    "1. KS Test:\n",
    "   - The KS test measures the maximum difference between the empirical cumulative distribution functions (ECDFs) of two datasets or between a dataset and a theoretical distribution.\n",
    "   - A small KS statistic indicates that the two distributions are similar, while a large KS statistic suggests significant differences.\n",
    "   - The p-value indicates whether the observed difference is statistically significant. A high p-value (e.g., > 0.05) suggests that the distributions are not significantly different, which is desirable when validating synthetic data.\n",
    "\n",
    "2. Cramer-von Mises Test:\n",
    "   - The CvM test evaluates the squared differences between the ECDFs of two datasets or between a dataset and a theoretical distribution, integrated over the entire range of the data.\n",
    "   - It is more sensitive to differences across the entire distribution, unlike the KS test, which focuses on the maximum difference.\n",
    "   - A smaller CvM statistic indicates better agreement between the distributions. Like the KS test, a high p-value suggests no significant difference.\n",
    "\n",
    "Good or Bad Values:\n",
    "- Good Values: Small test statistics and high p-values (e.g., > 0.05) indicate that the synthetic data closely matches the real data, meaning the model is performing well.\n",
    "- Bad Values: Large test statistics and low p-values (e.g., < 0.05) suggest significant differences between the distributions, indicating that the synthetic data does not adequately replicate the real data."
   ]
  },
  {
   "cell_type": "markdown",
   "metadata": {
    "cell_id": "1751d00d36414641b4614c3a66eedf49",
    "deepnote_cell_type": "text-cell-p",
    "formattedRanges": [
     {
      "fromCodePoint": 0,
      "marks": {
       "bold": true
      },
      "toCodePoint": 19,
      "type": "marks"
     }
    ]
   },
   "source": [
    "Results Approach 1:"
   ]
  },
  {
   "cell_type": "code",
   "execution_count": 12,
   "metadata": {
    "cell_id": "0003447fd25f44f3b0dc4c83487071bb",
    "deepnote_cell_type": "code",
    "deepnote_variable_name": "",
    "execution_context_id": "6a14e813-77e0-40cb-b29c-6d8859bb06ad",
    "execution_millis": 245,
    "execution_start": 1758271371785,
    "source_hash": "814110f9",
    "sql_integration_id": ""
   },
   "outputs": [
    {
     "name": "stdout",
     "output_type": "stream",
     "text": [
      "  Variable  KS Statistic    KS P-Value  CVM Statistic  CVM P-Value\n",
      "0     loga      0.010739  1.293498e-01       0.179486     0.311005\n",
      "1     logm      0.023913  2.585467e-06       0.199637     0.268175\n",
      "2     logr      0.031946  6.226060e-11       1.426252     0.000254\n"
     ]
    },
    {
     "data": {
      "image/png": "[encoded data removed]",
      "text/plain": [
       "<Figure size 1000x600 with 1 Axes>"
      ]
     },
     "metadata": {
      "image/png": {
       "height": 547,
       "width": 863
      }
     },
     "output_type": "display_data"
    }
   ],
   "source": [
    "import numpy as np\n",
    "from scipy.stats import ks_2samp, cramervonmises_2samp\n",
    "import matplotlib.pyplot as plt\n",
    "import pandas as pd\n",
    "\n",
    "# Perform KS Test and Cramer-von Mises Test for Approach 1\n",
    "ks_loga_approach1 = ks_2samp(harder_data_sorted['loga'], synthetic_data_app1['loga'])\n",
    "ks_logm_approach1 = ks_2samp(harder_data_sorted['logm'], synthetic_data_app1['logm'])\n",
    "ks_logr_approach1 = ks_2samp(harder_data_sorted['logr'], synthetic_data_app1['logr'])\n",
    "\n",
    "cvm_loga_approach1 = cramervonmises_2samp(harder_data_sorted['loga'], synthetic_data_app1['loga'])\n",
    "cvm_logm_approach1 = cramervonmises_2samp(harder_data_sorted['logm'], synthetic_data_app1['logm'])\n",
    "cvm_logr_approach1 = cramervonmises_2samp(harder_data_sorted['logr'], synthetic_data_app1['logr'])\n",
    "\n",
    "# Data for KS Test\n",
    "ks_values_approach1 = [ks_loga_approach1.statistic, ks_logm_approach1.statistic, ks_logr_approach1.statistic]\n",
    "ks_pvalues_approach1 = [ks_loga_approach1.pvalue, ks_logm_approach1.pvalue, ks_logr_approach1.pvalue]\n",
    "\n",
    "# Data for Cramer-von Mises Test\n",
    "cvm_values_approach1 = [cvm_loga_approach1.statistic, cvm_logm_approach1.statistic, cvm_logr_approach1.statistic]\n",
    "cvm_pvalues_approach1 = [cvm_loga_approach1.pvalue, cvm_logm_approach1.pvalue, cvm_logr_approach1.pvalue]\n",
    "\n",
    "# Combine results into a DataFrame for easy copying\n",
    "results_table = pd.DataFrame({\n",
    "    'Variable': ['loga', 'logm', 'logr'],\n",
    "    'KS Statistic': ks_values_approach1,\n",
    "    'KS P-Value': ks_pvalues_approach1,\n",
    "    'CVM Statistic': cvm_values_approach1,\n",
    "    'CVM P-Value': cvm_pvalues_approach1\n",
    "})\n",
    "\n",
    "print(results_table)\n",
    "\n",
    "# Create a bar plot for KS Test\n",
    "plt.figure(figsize=(10, 6))\n",
    "plt.bar(results_table['Variable'], results_table['KS Statistic'], color='blue', alpha=0.7)\n",
    "plt.xlabel('Variables')\n",
    "plt.ylabel('KS Statistic')\n",
    "plt.title('KS Test Results for Synthetic and Real Data (Approach 1)')\n",
    "plt.show()\n",
    "\n",
    "# Create a bar plot for Cramer-von Mises Test\n",
    "# plt.figure(figsize=(10, 6))\n",
    "# plt.bar(results_table['Variable'], results_table['CVM Statistic'], color='orange', alpha=0.7)\n",
    "# plt.xlabel('Variables')\n",
    "# plt.ylabel('CVM Statistic')\n",
    "# plt.title('Cramer-von Mises Test Results for Synthetic and Real Data (Approach 1)')\n",
    "# plt.show()"
   ]
  },
  {
   "cell_type": "markdown",
   "metadata": {
    "cell_id": "50d99833aa6b4c7f883978b17abe198d",
    "deepnote_cell_type": "text-cell-p",
    "formattedRanges": [
     {
      "fromCodePoint": 0,
      "marks": {
       "bold": true
      },
      "toCodePoint": 18,
      "type": "marks"
     }
    ]
   },
   "source": [
    "Result Approach 2:"
   ]
  },
  {
   "cell_type": "code",
   "execution_count": 13,
   "metadata": {
    "cell_id": "ee586c4671e1445aaee55b0ece3540e7",
    "deepnote_cell_type": "code",
    "deepnote_variable_name": "",
    "execution_context_id": "6a14e813-77e0-40cb-b29c-6d8859bb06ad",
    "execution_millis": 264,
    "execution_start": 1758271372076,
    "source_hash": "48172951",
    "sql_integration_id": ""
   },
   "outputs": [
    {
     "name": "stdout",
     "output_type": "stream",
     "text": [
      "  Variable  KS Statistic    KS P-Value  CVM Statistic  CVM P-Value\n",
      "0     loga      0.015383  7.301655e-03       0.414372     0.066218\n",
      "1     logm      0.027958  1.798402e-08       0.348613     0.099181\n",
      "2     logr      0.014861  1.061595e-02       0.129565     0.458322\n"
     ]
    },
    {
     "data": {
      "image/png": "[encoded data removed]",
      "text/plain": [
       "<Figure size 1000x600 with 1 Axes>"
      ]
     },
     "metadata": {
      "image/png": {
       "height": 547,
       "width": 863
      }
     },
     "output_type": "display_data"
    }
   ],
   "source": [
    "import numpy as np\n",
    "from scipy.stats import ks_2samp, cramervonmises_2samp\n",
    "import matplotlib.pyplot as plt\n",
    "import pandas as pd\n",
    "\n",
    "# Perform KS Test and Cramer-von Mises Test for Approach 2\n",
    "ks_loga_approach2 = ks_2samp(harder_data_sorted['loga'], synthetic_data_copula['loga'])\n",
    "ks_logm_approach2 = ks_2samp(harder_data_sorted['logm'], synthetic_data_copula['logm'])\n",
    "ks_logr_approach2 = ks_2samp(harder_data_sorted['logr'], synthetic_data_copula['logr'])\n",
    "\n",
    "cvm_loga_approach2 = cramervonmises_2samp(harder_data_sorted['loga'], synthetic_data_copula['loga'])\n",
    "cvm_logm_approach2 = cramervonmises_2samp(harder_data_sorted['logm'], synthetic_data_copula['logm'])\n",
    "cvm_logr_approach2 = cramervonmises_2samp(harder_data_sorted['logr'], synthetic_data_copula['logr'])\n",
    "\n",
    "# Data for KS Test\n",
    "ks_values_approach2 = [ks_loga_approach2.statistic, ks_logm_approach2.statistic, ks_logr_approach2.statistic]\n",
    "ks_pvalues_approach2 = [ks_loga_approach2.pvalue, ks_logm_approach2.pvalue, ks_logr_approach2.pvalue]\n",
    "\n",
    "# Data for Cramer-von Mises Test\n",
    "cvm_values_approach2 = [cvm_loga_approach2.statistic, cvm_logm_approach2.statistic, cvm_logr_approach2.statistic]\n",
    "cvm_pvalues_approach2 = [cvm_loga_approach2.pvalue, cvm_logm_approach2.pvalue, cvm_logr_approach2.pvalue]\n",
    "\n",
    "# Combine results into a DataFrame for easy copying\n",
    "results_table_approach2 = pd.DataFrame({\n",
    "    'Variable': ['loga', 'logm', 'logr'],\n",
    "    'KS Statistic': ks_values_approach2,\n",
    "    'KS P-Value': ks_pvalues_approach2,\n",
    "    'CVM Statistic': cvm_values_approach2,\n",
    "    'CVM P-Value': cvm_pvalues_approach2\n",
    "})\n",
    "\n",
    "print(results_table_approach2)\n",
    "\n",
    "# Create a bar plot for KS Test\n",
    "plt.figure(figsize=(10, 6))\n",
    "plt.bar(results_table_approach2['Variable'], results_table_approach2['KS Statistic'], color='blue', alpha=0.7)\n",
    "plt.xlabel('Variables')\n",
    "plt.ylabel('KS Statistic')\n",
    "plt.title('KS Test Results for Synthetic and Real Data (Approach 2)')\n",
    "plt.show()\n",
    "\n",
    "# Create a bar plot for Cramer-von Mises Test\n",
    "# plt.figure(figsize=(10, 6))\n",
    "# plt.bar(results_table_approach2['Variable'], results_table_approach2['CVM Statistic'], color='orange', alpha=0.7)\n",
    "# plt.xlabel('Variables')\n",
    "# plt.ylabel('CVM Statistic')\n",
    "# plt.title('Cramer-von Mises Test Results for Synthetic and Real Data (Approach 2)')\n",
    "# plt.show()"
   ]
  },
  {
   "cell_type": "markdown",
   "metadata": {
    "cell_id": "d1b97d1c172746d6bc902d772463d8cf",
    "deepnote_app_block_visible": false,
    "deepnote_cell_type": "text-cell-p",
    "formattedRanges": [
     {
      "fromCodePoint": 0,
      "marks": {
       "bold": true
      },
      "toCodePoint": 19,
      "type": "marks"
     }
    ],
    "is_collapsed": false
   },
   "source": [
    "Results Approach 3:"
   ]
  },
  {
   "cell_type": "code",
   "execution_count": 14,
   "metadata": {
    "cell_id": "c4d50f7c21564fd3bbb986a9b69a8833",
    "deepnote_cell_type": "code",
    "deepnote_variable_name": "",
    "execution_context_id": "6a14e813-77e0-40cb-b29c-6d8859bb06ad",
    "execution_millis": 251,
    "execution_start": 1758271372395,
    "source_hash": "305502a1",
    "sql_integration_id": ""
   },
   "outputs": [
    {
     "name": "stdout",
     "output_type": "stream",
     "text": [
      "  Variable  KS Statistic     KS P-Value  CVM Statistic   CVM P-Value\n",
      "0     loga      0.101827  2.420464e-107      41.910891  2.117600e-08\n",
      "1     logm      0.139700  4.591000e-202     132.811563  6.301833e-08\n",
      "2     logr      0.399623   0.000000e+00     484.493462  1.132275e-07\n"
     ]
    },
    {
     "data": {
      "image/png": "[encoded data removed]",
      "text/plain": [
       "<Figure size 1000x600 with 1 Axes>"
      ]
     },
     "metadata": {
      "image/png": {
       "height": 547,
       "width": 855
      }
     },
     "output_type": "display_data"
    }
   ],
   "source": [
    "import numpy as np\n",
    "from scipy.stats import ks_2samp, cramervonmises_2samp\n",
    "import matplotlib.pyplot as plt\n",
    "import pandas as pd\n",
    "\n",
    "# Perform KS Test and Cramer-von Mises Test for Approach 3\n",
    "ks_loga_approach3 = ks_2samp(harder_data_sorted['loga'], synthetic_data_hierarchical['loga'])\n",
    "ks_logm_approach3 = ks_2samp(harder_data_sorted['logm'], synthetic_data_hierarchical['logm'])\n",
    "ks_logr_approach3 = ks_2samp(harder_data_sorted['logr'], synthetic_data_hierarchical['logr'])\n",
    "\n",
    "cvm_loga_approach3 = cramervonmises_2samp(harder_data_sorted['loga'], synthetic_data_hierarchical['loga'])\n",
    "cvm_logm_approach3 = cramervonmises_2samp(harder_data_sorted['logm'], synthetic_data_hierarchical['logm'])\n",
    "cvm_logr_approach3 = cramervonmises_2samp(harder_data_sorted['logr'], synthetic_data_hierarchical['logr'])\n",
    "\n",
    "# Data for KS Test\n",
    "ks_values_approach3 = [ks_loga_approach3.statistic, ks_logm_approach3.statistic, ks_logr_approach3.statistic]\n",
    "ks_pvalues_approach3 = [ks_loga_approach3.pvalue, ks_logm_approach3.pvalue, ks_logr_approach3.pvalue]\n",
    "\n",
    "# Data for Cramer-von Mises Test\n",
    "cvm_values_approach3 = [cvm_loga_approach3.statistic, cvm_logm_approach3.statistic, cvm_logr_approach3.statistic]\n",
    "cvm_pvalues_approach3 = [cvm_loga_approach3.pvalue, cvm_logm_approach3.pvalue, cvm_logr_approach3.pvalue]\n",
    "\n",
    "# Combine results into a DataFrame for easy copying\n",
    "results_table_approach3 = pd.DataFrame({\n",
    "    'Variable': ['loga', 'logm', 'logr'],\n",
    "    'KS Statistic': ks_values_approach3,\n",
    "    'KS P-Value': ks_pvalues_approach3,\n",
    "    'CVM Statistic': cvm_values_approach3,\n",
    "    'CVM P-Value': cvm_pvalues_approach3\n",
    "})\n",
    "\n",
    "print(results_table_approach3)\n",
    "\n",
    "# Create a bar plot for KS Test\n",
    "plt.figure(figsize=(10, 6))\n",
    "plt.bar(results_table_approach3['Variable'], results_table_approach3['KS Statistic'], color='blue', alpha=0.7)\n",
    "plt.xlabel('Variables')\n",
    "plt.ylabel('KS Statistic')\n",
    "plt.title('KS Test Results for Synthetic and Real Data (Approach 3)')\n",
    "plt.show()\n",
    "\n",
    "# Create a bar plot for Cramer-von Mises Test\n",
    "# plt.figure(figsize=(10, 6))\n",
    "# plt.bar(results_table_approach3['Variable'], results_table_approach3['CVM Statistic'], color='orange', alpha=0.7)\n",
    "# plt.xlabel('Variables')\n",
    "# plt.ylabel('CVM Statistic')\n",
    "# plt.title('Cramer-von Mises Test Results for Synthetic and Real Data (Approach 3)')\n",
    "# plt.show()"
   ]
  },
  {
   "cell_type": "markdown",
   "metadata": {
    "cell_id": "64005ee54db0492a9ed7c79761f565da",
    "deepnote_cell_type": "text-cell-p",
    "formattedRanges": [
     {
      "fromCodePoint": 0,
      "marks": {
       "bold": true
      },
      "toCodePoint": 18,
      "type": "marks"
     }
    ]
   },
   "source": [
    "Result Approach 4:"
   ]
  },
  {
   "cell_type": "code",
   "execution_count": 15,
   "metadata": {
    "cell_id": "34255fde37ee41d78693b095f72f2a9f",
    "deepnote_cell_type": "code",
    "execution_context_id": "6a14e813-77e0-40cb-b29c-6d8859bb06ad",
    "execution_millis": 2572,
    "execution_start": 1758271372705,
    "source_hash": "e9afd2af"
   },
   "outputs": [
    {
     "name": "stdout",
     "output_type": "stream",
     "text": [
      "     Variable  KS Statistic     KS P-Value  CVM Statistic   CVM P-Value\n",
      "0           a      0.154297  3.660514e-255     100.688430  2.862868e-08\n",
      "1  total_mass      0.322913   0.000000e+00     538.342258  1.706454e-07\n",
      "2           r      0.243798   0.000000e+00     197.243214  7.928099e-08\n"
     ]
    },
    {
     "data": {
      "image/png": "[encoded data removed]",
      "text/plain": [
       "<Figure size 1000x600 with 1 Axes>"
      ]
     },
     "metadata": {
      "image/png": {
       "height": 547,
       "width": 855
      }
     },
     "output_type": "display_data"
    }
   ],
   "source": [
    "import numpy as np\n",
    "from scipy.stats import ks_2samp, cramervonmises_2samp\n",
    "import matplotlib.pyplot as plt\n",
    "import pandas as pd\n",
    "\n",
    "# Perform KS Test and Cramer-von Mises Test for Approach 4\n",
    "ks_loga_approach4 = ks_2samp(harder_data_sorted['a'], synthetic_data_appr4['a'])\n",
    "ks_logm_approach4 = ks_2samp(harder_data_sorted['total_mass'], synthetic_data_appr4['total_mass'])\n",
    "ks_logr_approach4 = ks_2samp(harder_data_sorted['r'], synthetic_data_appr4['r'])\n",
    "\n",
    "cvm_loga_approach4 = cramervonmises_2samp(harder_data_sorted['a'], synthetic_data_appr4['a'])\n",
    "cvm_logm_approach4 = cramervonmises_2samp(harder_data_sorted['total_mass'], synthetic_data_appr4['total_mass'])\n",
    "cvm_logr_approach4 = cramervonmises_2samp(harder_data_sorted['r'], synthetic_data_appr4['r'])\n",
    "\n",
    "# Data for KS Test\n",
    "ks_values_approach4 = [ks_loga_approach4.statistic, ks_logm_approach4.statistic, ks_logr_approach4.statistic]\n",
    "ks_pvalues_approach4 = [ks_loga_approach4.pvalue, ks_logm_approach4.pvalue, ks_logr_approach4.pvalue]\n",
    "\n",
    "# Data for Cramer-von Mises Test\n",
    "cvm_values_approach4 = [cvm_loga_approach4.statistic, cvm_logm_approach4.statistic, cvm_logr_approach4.statistic]\n",
    "cvm_pvalues_approach4 = [cvm_loga_approach4.pvalue, cvm_logm_approach4.pvalue, cvm_logr_approach4.pvalue]\n",
    "\n",
    "# Combine results into a DataFrame for easy copying\n",
    "results_table_approach4 = pd.DataFrame({\n",
    "    'Variable': ['a', 'total_mass', 'r'],\n",
    "    'KS Statistic': ks_values_approach4,\n",
    "    'KS P-Value': ks_pvalues_approach4,\n",
    "    'CVM Statistic': cvm_values_approach4,\n",
    "    'CVM P-Value': cvm_pvalues_approach4\n",
    "})\n",
    "\n",
    "print(results_table_approach4)\n",
    "\n",
    "# Create a bar plot for KS Test\n",
    "plt.figure(figsize=(10, 6))\n",
    "plt.bar(results_table_approach4['Variable'], results_table_approach4['KS Statistic'], color='blue', alpha=0.7)\n",
    "plt.xlabel('Variables')\n",
    "plt.ylabel('KS Statistic')\n",
    "plt.title('KS Test Results for Synthetic and Real Data (Approach 4)')\n",
    "plt.show()\n",
    "\n",
    "# Create a bar plot for Cramer-von Mises Test\n",
    "# plt.figure(figsize=(10, 6))\n",
    "# plt.bar(results_table_approach4['Variable'], results_table_approach4['CVM Statistic'], color='orange', alpha=0.7)\n",
    "# plt.xlabel('Variables')\n",
    "# plt.ylabel('CVM Statistic')\n",
    "# plt.title('Cramer-von Mises Test Results for Synthetic and Real Data (Approach 4)')\n",
    "# plt.show()"
   ]
  },
  {
   "cell_type": "markdown",
   "metadata": {
    "cell_id": "2703d2a57e2c421f99e288b8cf62eea2",
    "deepnote_cell_type": "text-cell-h3",
    "formattedRanges": []
   },
   "source": [
    "### Marginal-Test (Jensen-Shannon / Earth Mover's distance between histograms.)"
   ]
  },
  {
   "cell_type": "markdown",
   "metadata": {
    "cell_id": "2fdb2bcb07a645cb8145231bf17df044",
    "deepnote_cell_type": "text-cell-p",
    "formattedRanges": [
     {
      "fromCodePoint": 236,
      "marks": {
       "bold": true
      },
      "toCodePoint": 262,
      "type": "marks"
     },
     {
      "fromCodePoint": 1010,
      "marks": {
       "bold": true
      },
      "toCodePoint": 1039,
      "type": "marks"
     },
     {
      "fromCodePoint": 1671,
      "marks": {
       "bold": true
      },
      "toCodePoint": 1705,
      "type": "marks"
     }
    ]
   },
   "source": [
    "Jensen-Shannon (JS) Divergence and Earth Mover's Distance (EMD) are two metrics used to compare probability distributions. They are particularly useful in evaluating the similarity between the distributions of real and synthetic data.\n",
    "\n",
    "Jensen-Shannon Divergence:\n",
    "1. Definition: JS divergence is a symmetric and smoothed version of the Kullback-Leibler (KL) divergence. It measures the similarity between two probability distributions \\(P\\) and \\(Q\\).\n",
    "   - Formula: \\(JS(P || Q) = \\frac{1}{2} KL(P || M) + \\frac{1}{2} KL(Q || M)\\), where \\(M = \\frac{1}{2}(P + Q)\\).\n",
    "   - Here, \\(KL(P || M)\\) is the KL divergence between \\(P\\) and \\(M\\), and \\(KL(Q || M)\\) is the KL divergence between \\(Q\\) and \\(M\\).\n",
    "2. Range: JS divergence is bounded between 0 and 1, where 0 indicates identical distributions and 1 indicates maximum divergence.\n",
    "3. Why Use It: JS divergence is robust and symmetric, making it suitable for comparing distributions. It is particularly useful when the distributions have overlapping support.\n",
    "\n",
    "Earth Mover's Distance (EMD):\n",
    "1. Definition: EMD measures the minimum \"cost\" required to transform one probability distribution into another. It is based on the concept of moving \"earth\" (probability mass) from one distribution to another.\n",
    "   - Intuitively, it calculates the amount of work needed to make one distribution match the other, where \"work\" is the product of the amount of probability mass moved and the distance it is moved.\n",
    "2. Why Use It: EMD is particularly useful when comparing distributions that may not have overlapping support. It provides an interpretable measure of how far apart two distributions are in terms of their probability mass.\n",
    "\n",
    "Why Use These Metrics for Testing:\n",
    "1. Comparing Distributions: Both JS divergence and EMD are used to compare the distributions of real and synthetic data. They help quantify how well the synthetic data replicates the real data.\n",
    "2. Robustness: These metrics are robust to small variations and provide meaningful insights into the similarity of distributions.\n",
    "3. Interpretability: EMD provides a physical interpretation (work needed to transform one distribution into another), while JS divergence provides a probabilistic interpretation (divergence between distributions).\n",
    "\n",
    "In the context of synthetic data generation, these metrics are used to validate whether the synthetic data captures the statistical properties of the real data. Lower values of JS divergence and EMD indicate better alignment between the real and synthetic data distributions."
   ]
  },
  {
   "cell_type": "markdown",
   "metadata": {
    "cell_id": "871d6d0a7be646988a49d2778d36208e",
    "deepnote_cell_type": "text-cell-p"
   },
   "source": [
    "For the Jensen-Shannon (JS) Divergence and Earth Mover's Distance (EMD), good values depend on the context and the specific application, but here are general guidelines:\n",
    "\n",
    "1. **Jensen-Shannon Divergence (JS):**\n",
    "   - **Range:** JS divergence is bounded between 0 and 1.\n",
    "   - **Good Values:** A JS divergence close to 0 indicates that the two distributions are very similar. For example:\n",
    "     - JS < 0.1: Excellent similarity.\n",
    "     - JS between 0.1 and 0.2: Acceptable similarity.\n",
    "     - JS > 0.2: Significant differences between distributions.\n",
    "   - **Interpretation:** Lower values are better, as they indicate that the synthetic data closely matches the real data.\n",
    "\n",
    "2. **Earth Mover's Distance (EMD):**\n",
    "   - **Range:** EMD is unbounded and depends on the scale of the data. It measures the \"work\" needed to transform one distribution into another.\n",
    "   - **Good Values:** Smaller EMD values indicate better similarity. The threshold for \"good\" depends on the scale of the data:\n",
    "     - EMD close to 0: Excellent similarity.\n",
    "     - EMD values should ideally be small relative to the range of the data being compared.\n",
    "   - **Interpretation:** Lower values are better, but the acceptable range depends on the specific dataset and application.\n",
    "\n",
    "In general, for both metrics, the goal is to minimize the values, as this indicates that the synthetic data is closely aligned with the real data. However, the thresholds for \"good\" values may vary depending on the domain and the level of similarity required for the application."
   ]
  },
  {
   "cell_type": "markdown",
   "metadata": {
    "cell_id": "3cc3fbada5fa4bb7a2c0707c0153f3a6",
    "deepnote_cell_type": "text-cell-p",
    "formattedRanges": [
     {
      "fromCodePoint": 0,
      "marks": {
       "bold": true
      },
      "toCodePoint": 19,
      "type": "marks"
     }
    ]
   },
   "source": [
    "Results Approach 1:"
   ]
  },
  {
   "cell_type": "code",
   "execution_count": 16,
   "metadata": {
    "cell_id": "c486b97d3e3d45828fe246f60598c101",
    "deepnote_cell_type": "code",
    "deepnote_variable_name": "",
    "execution_context_id": "6a14e813-77e0-40cb-b29c-6d8859bb06ad",
    "execution_millis": 248,
    "execution_start": 1758271375325,
    "source_hash": "a9baa1eb",
    "sql_integration_id": ""
   },
   "outputs": [
    {
     "name": "stdout",
     "output_type": "stream",
     "text": [
      "  Variable  Jensen-Shannon Divergence  Earth Mover's Distance\n",
      "0     loga                   0.081832                0.007950\n",
      "1     logm                   0.153119                0.008022\n",
      "2     logr                   0.224288                0.013792\n"
     ]
    },
    {
     "data": {
      "image/png": "[encoded data removed]",
      "text/plain": [
       "<Figure size 1000x600 with 1 Axes>"
      ]
     },
     "metadata": {
      "image/png": {
       "height": 547,
       "width": 855
      }
     },
     "output_type": "display_data"
    }
   ],
   "source": [
    "from scipy.spatial.distance import jensenshannon\n",
    "from scipy.stats import wasserstein_distance\n",
    "\n",
    "# Compute histograms for real and synthetic data (Approach 1)\n",
    "real_hist_loga, _ = np.histogram(harder_data_sorted['loga'], bins=50, density=True)\n",
    "real_hist_logm, _ = np.histogram(harder_data_sorted['logm'], bins=50, density=True)\n",
    "real_hist_logr, _ = np.histogram(harder_data_sorted['logr'], bins=50, density=True)\n",
    "\n",
    "synthetic_hist_loga_1, _ = np.histogram(synthetic_data_app1['loga'], bins=50, density=True)\n",
    "synthetic_hist_logm_1, _ = np.histogram(synthetic_data_app1['logm'], bins=50, density=True)\n",
    "synthetic_hist_logr_1, _ = np.histogram(synthetic_data_app1['logr'], bins=50, density=True)\n",
    "\n",
    "# Compute Jensen-Shannon Divergence\n",
    "js_loga_1 = jensenshannon(real_hist_loga, synthetic_hist_loga_1)\n",
    "js_logm_1 = jensenshannon(real_hist_logm, synthetic_hist_logm_1)\n",
    "js_logr_1 = jensenshannon(real_hist_logr, synthetic_hist_logr_1)\n",
    "\n",
    "# Compute Earth Mover's Distance\n",
    "emd_loga_1 = wasserstein_distance(harder_data_sorted['loga'], synthetic_data_app1['loga'])\n",
    "emd_logm_1 = wasserstein_distance(harder_data_sorted['logm'], synthetic_data_app1['logm'])\n",
    "emd_logr_1 = wasserstein_distance(harder_data_sorted['logr'], synthetic_data_app1['logr'])\n",
    "\n",
    "# Create a DataFrame for easy copying\n",
    "results_table_approach1 = pd.DataFrame({\n",
    "    'Variable': ['loga', 'logm', 'logr'],\n",
    "    'Jensen-Shannon Divergence': [js_loga_1, js_logm_1, js_logr_1],\n",
    "    \"Earth Mover's Distance\": [emd_loga_1, emd_logm_1, emd_logr_1]\n",
    "})\n",
    "\n",
    "print(results_table_approach1)\n",
    "\n",
    "# Visualize the results for Jensen-Shannon Divergence\n",
    "variables = ['loga', 'logm', 'logr']\n",
    "js_values = [js_loga_1, js_logm_1, js_logr_1]\n",
    "\n",
    "plt.figure(figsize=(10, 6))\n",
    "plt.bar(variables, js_values, color='blue', alpha=0.7)\n",
    "plt.xlabel('Variables')\n",
    "plt.ylabel('Jensen-Shannon Divergence')\n",
    "plt.title('Jensen-Shannon Divergence for Synthetic and Real Data (Approach 1)')\n",
    "plt.show()\n",
    "\n",
    "# Visualize the results for Earth Mover's Distance\n",
    "emd_values = [emd_loga_1, emd_logm_1, emd_logr_1]\n",
    "\n",
    "# plt.figure(figsize=(10, 6))\n",
    "# plt.bar(variables, emd_values, color='orange', alpha=0.7)\n",
    "# plt.xlabel('Variables')\n",
    "# plt.ylabel(\"Earth Mover's Distance\")\n",
    "# plt.title(\"Earth Mover's Distance for Synthetic and Real Data (Approach 1)\")\n",
    "# plt.show()"
   ]
  },
  {
   "cell_type": "markdown",
   "metadata": {
    "cell_id": "1ec80c6290c94a05b9e1f4e619e10534",
    "deepnote_cell_type": "text-cell-p",
    "formattedRanges": [
     {
      "fromCodePoint": 0,
      "marks": {
       "bold": true
      },
      "toCodePoint": 19,
      "type": "marks"
     }
    ]
   },
   "source": [
    "Results Approach 2:"
   ]
  },
  {
   "cell_type": "code",
   "execution_count": 17,
   "metadata": {
    "cell_id": "37fe0e1c6a8f4c358ef639e30f459dce",
    "deepnote_cell_type": "code",
    "deepnote_variable_name": "",
    "execution_context_id": "6a14e813-77e0-40cb-b29c-6d8859bb06ad",
    "execution_millis": 305,
    "execution_start": 1758271375625,
    "source_hash": "8556e54c",
    "sql_integration_id": ""
   },
   "outputs": [
    {
     "name": "stdout",
     "output_type": "stream",
     "text": [
      "  Variable  Jensen-Shannon Divergence  Earth Mover's Distance\n",
      "0     loga                   0.090723                0.011990\n",
      "1     logm                   0.148787                0.011495\n",
      "2     logr                   0.140051                0.003919\n"
     ]
    },
    {
     "data": {
      "image/png": "[encoded data removed]",
      "text/plain": [
       "<Figure size 1000x600 with 1 Axes>"
      ]
     },
     "metadata": {
      "image/png": {
       "height": 547,
       "width": 855
      }
     },
     "output_type": "display_data"
    }
   ],
   "source": [
    "# Compute histograms for synthetic data (Approach 2)\n",
    "synthetic_hist_loga_2, _ = np.histogram(synthetic_data_copula['loga'], bins=50, density=True)\n",
    "synthetic_hist_logm_2, _ = np.histogram(synthetic_data_copula['logm'], bins=50, density=True)\n",
    "synthetic_hist_logr_2, _ = np.histogram(synthetic_data_copula['logr'], bins=50, density=True)\n",
    "\n",
    "# Compute Jensen-Shannon Divergence\n",
    "js_loga_2 = jensenshannon(real_hist_loga, synthetic_hist_loga_2)\n",
    "js_logm_2 = jensenshannon(real_hist_logm, synthetic_hist_logm_2)\n",
    "js_logr_2 = jensenshannon(real_hist_logr, synthetic_hist_logr_2)\n",
    "\n",
    "# Compute Earth Mover's Distance\n",
    "emd_loga_2 = wasserstein_distance(harder_data_sorted['loga'], synthetic_data_copula['loga'])\n",
    "emd_logm_2 = wasserstein_distance(harder_data_sorted['logm'], synthetic_data_copula['logm'])\n",
    "emd_logr_2 = wasserstein_distance(harder_data_sorted['logr'], synthetic_data_copula['logr'])\n",
    "\n",
    "# Create a DataFrame for easy copying\n",
    "results_table_approach2 = pd.DataFrame({\n",
    "    'Variable': ['loga', 'logm', 'logr'],\n",
    "    'Jensen-Shannon Divergence': [js_loga_2, js_logm_2, js_logr_2],\n",
    "    \"Earth Mover's Distance\": [emd_loga_2, emd_logm_2, emd_logr_2]\n",
    "})\n",
    "\n",
    "print(results_table_approach2)\n",
    "\n",
    "# Visualize the results for Jensen-Shannon Divergence\n",
    "js_values_2 = [js_loga_2, js_logm_2, js_logr_2]\n",
    "variables = ['loga', 'logm', 'logr']\n",
    "\n",
    "plt.figure(figsize=(10, 6))\n",
    "plt.bar(variables, js_values_2, color='blue', alpha=0.7)\n",
    "plt.xlabel('Variables')\n",
    "plt.ylabel('Jensen-Shannon Divergence')\n",
    "plt.title('Jensen-Shannon Divergence for Synthetic and Real Data (Approach 2)')\n",
    "plt.show()\n",
    "\n",
    "# Visualize the results for Earth Mover's Distance\n",
    "emd_values_2 = [emd_loga_2, emd_logm_2, emd_logr_2]\n",
    "\n",
    "# plt.figure(figsize=(10, 6))\n",
    "# plt.bar(variables, emd_values_2, color='orange', alpha=0.7)\n",
    "# plt.xlabel('Variables')\n",
    "# plt.ylabel(\"Earth Mover's Distance\")\n",
    "# plt.title(\"Earth Mover's Distance for Synthetic and Real Data (Approach 2)\")\n",
    "# plt.show()"
   ]
  },
  {
   "cell_type": "markdown",
   "metadata": {
    "cell_id": "19bef757c8fa45a18479fa27e188876c",
    "deepnote_cell_type": "text-cell-p",
    "formattedRanges": [
     {
      "fromCodePoint": 0,
      "marks": {
       "bold": true
      },
      "toCodePoint": 19,
      "type": "marks"
     }
    ]
   },
   "source": [
    "Results Approach 3:"
   ]
  },
  {
   "cell_type": "code",
   "execution_count": 18,
   "metadata": {
    "cell_id": "9654dd26de4b41e1bdfdfc90789a2794",
    "deepnote_cell_type": "code",
    "deepnote_variable_name": "",
    "execution_context_id": "6a14e813-77e0-40cb-b29c-6d8859bb06ad",
    "execution_millis": 270,
    "execution_start": 1758271375975,
    "source_hash": "c263a497",
    "sql_integration_id": ""
   },
   "outputs": [
    {
     "name": "stdout",
     "output_type": "stream",
     "text": [
      "  Variable  Jensen-Shannon Divergence  Earth Mover's Distance\n",
      "0     loga                   0.289681                0.210485\n",
      "1     logm                   0.653342                0.287225\n",
      "2     logr                   0.398512                0.505497\n"
     ]
    },
    {
     "data": {
      "image/png": "[encoded data removed]",
      "text/plain": [
       "<Figure size 1000x600 with 1 Axes>"
      ]
     },
     "metadata": {
      "image/png": {
       "height": 547,
       "width": 846
      }
     },
     "output_type": "display_data"
    }
   ],
   "source": [
    "# Compute histograms for synthetic data (Approach 3)\n",
    "synthetic_hist_loga_3, _ = np.histogram(synthetic_data_hierarchical['loga'], bins=50, density=True)\n",
    "synthetic_hist_logm_3, _ = np.histogram(synthetic_data_hierarchical['logm'], bins=50, density=True)\n",
    "synthetic_hist_logr_3, _ = np.histogram(synthetic_data_hierarchical['logr'], bins=50, density=True)\n",
    "\n",
    "# Compute Jensen-Shannon Divergence\n",
    "js_loga_3 = jensenshannon(real_hist_loga, synthetic_hist_loga_3)\n",
    "js_logm_3 = jensenshannon(real_hist_logm, synthetic_hist_logm_3)\n",
    "js_logr_3 = jensenshannon(real_hist_logr, synthetic_hist_logr_3)\n",
    "\n",
    "# Compute Earth Mover's Distance\n",
    "emd_loga_3 = wasserstein_distance(harder_data_sorted['loga'], synthetic_data_hierarchical['loga'])\n",
    "emd_logm_3 = wasserstein_distance(harder_data_sorted['logm'], synthetic_data_hierarchical['logm'])\n",
    "emd_logr_3 = wasserstein_distance(harder_data_sorted['logr'], synthetic_data_hierarchical['logr'])\n",
    "\n",
    "# Create a DataFrame for easy copying\n",
    "results_table_approach3 = pd.DataFrame({\n",
    "    'Variable': ['loga', 'logm', 'logr'],\n",
    "    'Jensen-Shannon Divergence': [js_loga_3, js_logm_3, js_logr_3],\n",
    "    \"Earth Mover's Distance\": [emd_loga_3, emd_logm_3, emd_logr_3]\n",
    "})\n",
    "\n",
    "print(results_table_approach3)\n",
    "\n",
    "# Visualize the results for Jensen-Shannon Divergence\n",
    "js_values_3 = [js_loga_3, js_logm_3, js_logr_3]\n",
    "variables = ['loga', 'logm', 'logr']\n",
    "\n",
    "plt.figure(figsize=(10, 6))\n",
    "plt.bar(variables, js_values_3, color='blue', alpha=0.7)\n",
    "plt.xlabel('Variables')\n",
    "plt.ylabel('Jensen-Shannon Divergence')\n",
    "plt.title('Jensen-Shannon Divergence for Synthetic and Real Data (Approach 3)')\n",
    "plt.show()\n",
    "\n",
    "# Visualize the results for Earth Mover's Distance\n",
    "emd_values_3 = [emd_loga_3, emd_logm_3, emd_logr_3]\n",
    "\n",
    "# plt.figure(figsize=(10, 6))\n",
    "# plt.bar(variables, emd_values_3, color='orange', alpha=0.7)\n",
    "# plt.xlabel('Variables')\n",
    "# plt.ylabel(\"Earth Mover's Distance\")\n",
    "# plt.title(\"Earth Mover's Distance for Synthetic and Real Data (Approach 3)\")\n",
    "# plt.show()"
   ]
  },
  {
   "cell_type": "markdown",
   "metadata": {
    "cell_id": "113b879e60ab4370ab34c33bea0cdc8b",
    "deepnote_cell_type": "text-cell-p",
    "formattedRanges": [
     {
      "fromCodePoint": 0,
      "marks": {
       "bold": true
      },
      "toCodePoint": 19,
      "type": "marks"
     }
    ]
   },
   "source": [
    "Results Approach 4:"
   ]
  },
  {
   "cell_type": "code",
   "execution_count": 19,
   "metadata": {
    "cell_id": "b49fa93d54a44567afbd1157c443020e",
    "deepnote_cell_type": "code",
    "deepnote_variable_name": "",
    "execution_context_id": "6a14e813-77e0-40cb-b29c-6d8859bb06ad",
    "execution_millis": 2252,
    "execution_start": 1758271376295,
    "source_hash": "81d48fef",
    "sql_integration_id": ""
   },
   "outputs": [
    {
     "name": "stdout",
     "output_type": "stream",
     "text": [
      "  Variable  Jensen-Shannon Divergence  Earth Mover's Distance\n",
      "0     loga                   0.302615                0.299256\n",
      "1     logm                   0.731556                0.445002\n",
      "2     logr                   0.532265                0.284811\n"
     ]
    },
    {
     "data": {
      "image/png": "[encoded data removed]",
      "text/plain": [
       "<Figure size 1000x600 with 1 Axes>"
      ]
     },
     "metadata": {
      "image/png": {
       "height": 547,
       "width": 846
      }
     },
     "output_type": "display_data"
    }
   ],
   "source": [
    "# Compute histograms for synthetic data (Approach 4)\n",
    "synthetic_hist_loga_4, _ = np.histogram(synthetic_data_appr4['loga'], bins=50, density=True)\n",
    "synthetic_hist_logm_4, _ = np.histogram(synthetic_data_appr4['logm'], bins=50, density=True)\n",
    "synthetic_hist_logr_4, _ = np.histogram(synthetic_data_appr4['logr'], bins=50, density=True)\n",
    "\n",
    "# Compute Jensen-Shannon Divergence\n",
    "js_loga_4 = jensenshannon(real_hist_loga, synthetic_hist_loga_4)\n",
    "js_logm_4 = jensenshannon(real_hist_logm, synthetic_hist_logm_4)\n",
    "js_logr_4 = jensenshannon(real_hist_logr, synthetic_hist_logr_4)\n",
    "\n",
    "# Compute Earth Mover's Distance\n",
    "emd_loga_4 = wasserstein_distance(harder_data_sorted['loga'], synthetic_data_appr4['loga'])\n",
    "emd_logm_4 = wasserstein_distance(harder_data_sorted['logm'], synthetic_data_appr4['logm'])\n",
    "emd_logr_4 = wasserstein_distance(harder_data_sorted['logr'], synthetic_data_appr4['logr'])\n",
    "\n",
    "# Create a DataFrame for easy copying\n",
    "results_table_approach4 = pd.DataFrame({\n",
    "    'Variable': ['loga', 'logm', 'logr'],\n",
    "    'Jensen-Shannon Divergence': [js_loga_4, js_logm_4, js_logr_4],\n",
    "    \"Earth Mover's Distance\": [emd_loga_4, emd_logm_4, emd_logr_4]\n",
    "})\n",
    "\n",
    "print(results_table_approach4)\n",
    "\n",
    "# Visualize the results for Jensen-Shannon Divergence\n",
    "js_values_4 = [js_loga_4, js_logm_4, js_logr_4]\n",
    "variables = ['loga', 'logm', 'logr']\n",
    "\n",
    "plt.figure(figsize=(10, 6))\n",
    "plt.bar(variables, js_values_4, color='blue', alpha=0.7)\n",
    "plt.xlabel('Variables')\n",
    "plt.ylabel('Jensen-Shannon Divergence')\n",
    "plt.title('Jensen-Shannon Divergence for Synthetic and Real Data (Approach 4)')\n",
    "plt.show()\n",
    "\n",
    "# Visualize the results for Earth Mover's Distance\n",
    "emd_values_4 = [emd_loga_4, emd_logm_4, emd_logr_4]\n",
    "\n",
    "# plt.figure(figsize=(10, 6))\n",
    "# plt.bar(variables, emd_values_4, color='orange', alpha=0.7)\n",
    "# plt.xlabel('Variables')\n",
    "# plt.ylabel(\"Earth Mover's Distance\")\n",
    "# plt.title(\"Earth Mover's Distance for Synthetic and Real Data (Approach 4)\")\n",
    "# plt.show()"
   ]
  },
  {
   "cell_type": "markdown",
   "metadata": {
    "created_in_deepnote_cell": true,
    "deepnote_cell_type": "markdown"
   },
   "source": [
    "<a style='text-decoration:none;line-height:16px;display:flex;color:#5B5B62;padding:10px;justify-content:end;' href='https://deepnote.com?utm_source=created-in-deepnote-cell&projectId=f66458fe-58be-4339-9cd1-dfb63a7ea0d4' target=\"_blank\">\n",
    "<img alt='Created in deepnote.com' style='display:inline;max-height:16px;margin:0px;margin-right:7.5px;' src='data:image/svg+xml;base64,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' > </img>\n",
    "Created in <span style='font-weight:600;margin-left:4px;'>Deepnote</span></a>"
   ]
  }
 ],
 "metadata": {
  "deepnote_notebook_id": "2386d70f9ed64137917341e6c3ddd40d",
  "deepnote_persisted_session": {
   "createdAt": "2025-09-19T07:02:47.830Z"
  },
  "language_info": {
   "name": "python"
  }
 },
 "nbformat": 4,
 "nbformat_minor": 0
}
